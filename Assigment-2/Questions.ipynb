{
 "cells": [
  {
   "cell_type": "code",
   "execution_count": 1,
   "id": "8e542319",
   "metadata": {},
   "outputs": [],
   "source": [
    "import numpy as np"
   ]
  },
  {
   "cell_type": "code",
   "execution_count": 2,
   "id": "6c8cd878",
   "metadata": {},
   "outputs": [
    {
     "name": "stdout",
     "output_type": "stream",
     "text": [
      "[ 5  6  7  8  9 10 11 12 13 14 15 16 17 18 19 20 21 22 23 24]\n"
     ]
    }
   ],
   "source": [
    "arr = np.linspace(5,24,20,dtype=int)\n",
    "print(arr)"
   ]
  },
  {
   "cell_type": "code",
   "execution_count": 4,
   "id": "460e00f7",
   "metadata": {},
   "outputs": [
    {
     "name": "stdout",
     "output_type": "stream",
     "text": [
      "[0 1 1 1 1 1 1 1 1 0]\n"
     ]
    }
   ],
   "source": [
    "vector = np.ones(10,dtype= int)\n",
    "vector[0]=0\n",
    "vector[-1]=0\n",
    "\n",
    "print(vector)"
   ]
  },
  {
   "cell_type": "code",
   "execution_count": 5,
   "id": "39fed81e",
   "metadata": {},
   "outputs": [
    {
     "name": "stdout",
     "output_type": "stream",
     "text": [
      "[5]\n",
      "[5, 10]\n",
      "[5, 10, 15]\n",
      "[5, 10, 15, 20]\n",
      "[5, 10, 15, 20, 25]\n",
      "[5, 10, 15, 20, 25, 30]\n",
      "[5, 10, 15, 20, 25, 30, 35]\n",
      "[5, 10, 15, 20, 25, 30, 35, 40]\n",
      "[5, 10, 15, 20, 25, 30, 35, 40, 45]\n",
      "[5, 10, 15, 20, 25, 30, 35, 40, 45, 50]\n"
     ]
    }
   ],
   "source": [
    "\n",
    "table_of_5=[]\n",
    "i = 5\n",
    "while i<=50:\n",
    "    table_of_5.append(i)\n",
    "    i+=5\n",
    "    print(table_of_5)"
   ]
  },
  {
   "cell_type": "code",
   "execution_count": 6,
   "id": "5c14baf2",
   "metadata": {},
   "outputs": [
    {
     "name": "stdout",
     "output_type": "stream",
     "text": [
      "[100 211 212 213 214 215 216 217 218 219 100 221 222 223 224 225 226 227\n",
      " 228 229 100 231 232 233 234 235 236 237 238 239 100 241 242 243 244 245\n",
      " 246 247 248 249 100 251 252 253 254 255 256 257 258 259 100 261 262 263\n",
      " 264 265 266 267 268 269 100 271 272 273 274 275 276 277 278 279 100 281\n",
      " 282 283 284 285 286 287 288 289 100 291 292 293 294 295 296 297 298 299\n",
      " 100 301 302 303 304 305 306 307 308 309 100 311 312 313 314 315 316 317\n",
      " 318 319 100 321 322 323 324 325 326 327 328 329 100 331 332 333 334 335\n",
      " 336 337 338 339 100 341 342 343 344 345]\n"
     ]
    }
   ],
   "source": [
    "array = np.arange(210,346)\n",
    "array[array%10 == 0]=100\n",
    "\n",
    "print(array)"
   ]
  },
  {
   "cell_type": "code",
   "execution_count": 7,
   "id": "c6a3a397",
   "metadata": {},
   "outputs": [
    {
     "name": "stdout",
     "output_type": "stream",
     "text": [
      "[700 705 707 710 714 715 720 721 725 728 730 735 740 742 745 749 750 755\n",
      " 756 760 763 765 770 775 777 780 784 785 790 791 795 798 800 805 810 812\n",
      " 815 819 820 825 826 830 833 835 840 845 847 850 854 855 860 861 865 868\n",
      " 870 875 880 882 885 889 890 895 896 900 903 905 910 915 917 920 924 925\n",
      " 930 931 935 938 940 945 950 952 955 959 960 965 966 970 973 975 980 985\n",
      " 987 990 994 995]\n",
      "Total element: 94\n"
     ]
    }
   ],
   "source": [
    "arr = np.arange(700,1000)\n",
    "\n",
    "divisible_by_5 = arr[arr % 5 == 0]\n",
    "divisible_by_7 = arr[arr % 7 == 0]\n",
    "\n",
    "result = np.union1d(divisible_by_5,divisible_by_7)\n",
    "\n",
    "print(result)\n",
    "print(\"Total element:\",len(result))\n"
   ]
  },
  {
   "cell_type": "code",
   "execution_count": 8,
   "id": "3d05a21c",
   "metadata": {},
   "outputs": [
    {
     "name": "stdout",
     "output_type": "stream",
     "text": [
      "Array A: [12.         13.44444444 14.88888889 16.33333333 17.77777778 19.22222222\n",
      " 20.66666667 22.11111111 23.55555556 25.        ]\n",
      "Array B: [20.         22.77777778 25.55555556 28.33333333 31.11111111 33.88888889\n",
      " 36.66666667 39.44444444 42.22222222 45.        ]\n",
      "Mean of A: 18.5\n",
      "Output: [370.         421.38888889 472.77777778 524.16666667 575.55555556\n",
      " 626.94444444 678.33333333 729.72222222 781.11111111 832.5       ]\n"
     ]
    }
   ],
   "source": [
    "A = np.linspace(12, 25, 10)\n",
    "\n",
    "B = np.linspace(20, 45, 10)\n",
    "\n",
    "mean_A = np.mean(A)\n",
    "\n",
    "output = mean_A * B\n",
    "\n",
    "print(\"Array A:\", A)\n",
    "print(\"Array B:\", B)\n",
    "print(\"Mean of A:\", mean_A)\n",
    "print(\"Output:\", output)"
   ]
  },
  {
   "cell_type": "code",
   "execution_count": 9,
   "id": "de597d33",
   "metadata": {},
   "outputs": [
    {
     "name": "stdout",
     "output_type": "stream",
     "text": [
      "Modified array: [ 1  2  3  1  3 15  3  5]\n"
     ]
    }
   ],
   "source": [
    "array = np.array([1, 2, 3, 1, 3, 9, 3, 5])   \n",
    "\n",
    "max_value = np.max(array) \n",
    "\n",
    "array [array == max_value] = 15                  #\n",
    "\n",
    "print(\"Modified array:\", array)\n"
   ]
  },
  {
   "cell_type": "code",
   "execution_count": 10,
   "id": "36a42324",
   "metadata": {},
   "outputs": [
    {
     "name": "stdout",
     "output_type": "stream",
     "text": [
      "[1.         1.41421356 1.73205081 2.         2.23606798 2.44948974\n",
      " 2.64575131 2.82842712 3.         3.16227766]\n"
     ]
    }
   ],
   "source": [
    "natu_num = np.arange(1, 11)\n",
    "\n",
    "sq_rt = np.sqrt(natu_num)\n",
    "\n",
    "print(sq_rt)"
   ]
  }
 ],
 "metadata": {
  "kernelspec": {
   "display_name": "Python 3",
   "language": "python",
   "name": "python3"
  },
  "language_info": {
   "codemirror_mode": {
    "name": "ipython",
    "version": 3
   },
   "file_extension": ".py",
   "mimetype": "text/x-python",
   "name": "python",
   "nbconvert_exporter": "python",
   "pygments_lexer": "ipython3",
   "version": "3.13.2"
  }
 },
 "nbformat": 4,
 "nbformat_minor": 5
}

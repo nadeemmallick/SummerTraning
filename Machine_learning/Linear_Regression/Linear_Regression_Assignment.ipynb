{
 "cells": [
  {
   "cell_type": "markdown",
   "id": "a369304e",
   "metadata": {},
   "source": [
    "## TASK 1: Predict car prices based on engine size"
   ]
  },
  {
   "cell_type": "code",
   "execution_count": 1,
   "id": "1c4b4392",
   "metadata": {},
   "outputs": [],
   "source": [
    "import numpy as np\n",
    "import matplotlib.pyplot as plt\n",
    "import sklearn.linear_model as LinearRegression\n",
    "import LinearRegression "
   ]
  },
  {
   "cell_type": "code",
   "execution_count": 1,
   "id": "62df3d5f",
   "metadata": {},
   "outputs": [
    {
     "ename": "NameError",
     "evalue": "name 'np' is not defined",
     "output_type": "error",
     "traceback": [
      "\u001b[31m---------------------------------------------------------------------------\u001b[39m",
      "\u001b[31mNameError\u001b[39m                                 Traceback (most recent call last)",
      "\u001b[36mCell\u001b[39m\u001b[36m \u001b[39m\u001b[32mIn[1]\u001b[39m\u001b[32m, line 1\u001b[39m\n\u001b[32m----> \u001b[39m\u001b[32m1\u001b[39m engine_size = \u001b[43mnp\u001b[49m.array([\u001b[32m800\u001b[39m,\u001b[32m1000\u001b[39m,\u001b[32m1200\u001b[39m,\u001b[32m1500\u001b[39m,\u001b[32m1800\u001b[39m]).reshape(-\u001b[32m1\u001b[39m, \u001b[32m1\u001b[39m)\n\u001b[32m      2\u001b[39m price = np.array([\u001b[32m3\u001b[39m,\u001b[32m4.5\u001b[39m,\u001b[32m5.5\u001b[39m,\u001b[32m7\u001b[39m,\u001b[32m9\u001b[39m])\n\u001b[32m      4\u001b[39m engine_size , price\n",
      "\u001b[31mNameError\u001b[39m: name 'np' is not defined"
     ]
    }
   ],
   "source": [
    "engine_size = np.array([800,1000,1200,1500,1800]).reshape(-1, 1)\n",
    "price = np.array([3,4.5,5.5,7,9])\n",
    "\n",
    "engine_size , price"
   ]
  },
  {
   "cell_type": "code",
   "execution_count": 27,
   "id": "24db160b",
   "metadata": {},
   "outputs": [
    {
     "data": {
      "text/plain": [
       "<bound method LinearRegression.fit of <LinearRegression.LinearRegression object at 0x0000025D9B3F8E10>>"
      ]
     },
     "execution_count": 27,
     "metadata": {},
     "output_type": "execute_result"
    }
   ],
   "source": [
    "model =LinearRegression. LinearRegression()\n",
    "model.fit(engine_size, price)\n",
    "model.fit"
   ]
  }
 ],
 "metadata": {
  "kernelspec": {
   "display_name": "Python 3",
   "language": "python",
   "name": "python3"
  },
  "language_info": {
   "codemirror_mode": {
    "name": "ipython",
    "version": 3
   },
   "file_extension": ".py",
   "mimetype": "text/x-python",
   "name": "python",
   "nbconvert_exporter": "python",
   "pygments_lexer": "ipython3",
   "version": "3.13.2"
  }
 },
 "nbformat": 4,
 "nbformat_minor": 5
}

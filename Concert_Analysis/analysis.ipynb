{
 "cells": [
  {
   "cell_type": "markdown",
   "id": "f34553d8",
   "metadata": {},
   "source": [
    "1.Imports libararys and some display seetings"
   ]
  },
  {
   "cell_type": "code",
   "execution_count": 15,
   "id": "732ce80e",
   "metadata": {},
   "outputs": [],
   "source": [
    "\n",
    "import pandas as pd\n",
    "import matplotlib.pyplot as plt\n",
    "import re\n",
    "\n",
    "pd.set_option('display.max_rows', None)\n",
    "pd.set_option('display.max_columns', None)\n",
    "pd.set_option('display.width', 1000)\n",
    "pd.set_option('display.expand_frame_repr', True)\n"
   ]
  },
  {
   "cell_type": "markdown",
   "id": "b66415e8",
   "metadata": {},
   "source": [
    "2. Load the data file and inspect it."
   ]
  },
  {
   "cell_type": "code",
   "execution_count": 16,
   "id": "870a4d28",
   "metadata": {},
   "outputs": [
    {
     "data": {
      "text/html": [
       "<div>\n",
       "<style scoped>\n",
       "    .dataframe tbody tr th:only-of-type {\n",
       "        vertical-align: middle;\n",
       "    }\n",
       "\n",
       "    .dataframe tbody tr th {\n",
       "        vertical-align: top;\n",
       "    }\n",
       "\n",
       "    .dataframe thead th {\n",
       "        text-align: right;\n",
       "    }\n",
       "</style>\n",
       "<table border=\"1\" class=\"dataframe\">\n",
       "  <thead>\n",
       "    <tr style=\"text-align: right;\">\n",
       "      <th></th>\n",
       "      <th>Rank</th>\n",
       "      <th>Peak</th>\n",
       "      <th>All Time Peak</th>\n",
       "      <th>Actualgross</th>\n",
       "      <th>Adjustedgross(in2022dollars)</th>\n",
       "      <th>Artist</th>\n",
       "      <th>Tour title</th>\n",
       "      <th>Year(s)</th>\n",
       "      <th>Shows</th>\n",
       "      <th>Average gross</th>\n",
       "      <th>Ref.</th>\n",
       "    </tr>\n",
       "  </thead>\n",
       "  <tbody>\n",
       "    <tr>\n",
       "      <th>0</th>\n",
       "      <td>1</td>\n",
       "      <td>1</td>\n",
       "      <td>2</td>\n",
       "      <td>$780,000,000</td>\n",
       "      <td>$780,000,000</td>\n",
       "      <td>Taylor Swift</td>\n",
       "      <td>The Eras Tour †</td>\n",
       "      <td>2023–2024</td>\n",
       "      <td>56</td>\n",
       "      <td>$13,928,571</td>\n",
       "      <td>[1]</td>\n",
       "    </tr>\n",
       "    <tr>\n",
       "      <th>1</th>\n",
       "      <td>2</td>\n",
       "      <td>1</td>\n",
       "      <td>7[2]</td>\n",
       "      <td>$579,800,000</td>\n",
       "      <td>$579,800,000</td>\n",
       "      <td>Beyoncé</td>\n",
       "      <td>Renaissance World Tour</td>\n",
       "      <td>2023</td>\n",
       "      <td>56</td>\n",
       "      <td>$10,353,571</td>\n",
       "      <td>[3]</td>\n",
       "    </tr>\n",
       "    <tr>\n",
       "      <th>2</th>\n",
       "      <td>3</td>\n",
       "      <td>1[4]</td>\n",
       "      <td>2[5]</td>\n",
       "      <td>$411,000,000</td>\n",
       "      <td>$560,622,615</td>\n",
       "      <td>Madonna</td>\n",
       "      <td>Sticky &amp; Sweet Tour ‡[4][a]</td>\n",
       "      <td>2008–2009</td>\n",
       "      <td>85</td>\n",
       "      <td>$4,835,294</td>\n",
       "      <td>[6]</td>\n",
       "    </tr>\n",
       "    <tr>\n",
       "      <th>3</th>\n",
       "      <td>4</td>\n",
       "      <td>2[7]</td>\n",
       "      <td>10[7]</td>\n",
       "      <td>$397,300,000</td>\n",
       "      <td>$454,751,555</td>\n",
       "      <td>Pink</td>\n",
       "      <td>Beautiful Trauma World Tour</td>\n",
       "      <td>2018–2019</td>\n",
       "      <td>156</td>\n",
       "      <td>$2,546,795</td>\n",
       "      <td>[7]</td>\n",
       "    </tr>\n",
       "    <tr>\n",
       "      <th>4</th>\n",
       "      <td>5</td>\n",
       "      <td>2[4]</td>\n",
       "      <td>NaN</td>\n",
       "      <td>$345,675,146</td>\n",
       "      <td>$402,844,849</td>\n",
       "      <td>Taylor Swift</td>\n",
       "      <td>Reputation Stadium Tour</td>\n",
       "      <td>2018</td>\n",
       "      <td>53</td>\n",
       "      <td>$6,522,173</td>\n",
       "      <td>[8]</td>\n",
       "    </tr>\n",
       "  </tbody>\n",
       "</table>\n",
       "</div>"
      ],
      "text/plain": [
       "   Rank  Peak All Time Peak   Actualgross Adjustedgross(in2022dollars)        Artist                   Tour title    Year(s)  Shows Average gross Ref.\n",
       "0     1     1             2  $780,000,000                 $780,000,000  Taylor Swift              The Eras Tour †  2023–2024     56   $13,928,571  [1]\n",
       "1     2     1          7[2]  $579,800,000                 $579,800,000       Beyoncé       Renaissance World Tour       2023     56   $10,353,571  [3]\n",
       "2     3  1[4]          2[5]  $411,000,000                 $560,622,615       Madonna  Sticky & Sweet Tour ‡[4][a]  2008–2009     85    $4,835,294  [6]\n",
       "3     4  2[7]         10[7]  $397,300,000                 $454,751,555          Pink  Beautiful Trauma World Tour  2018–2019    156    $2,546,795  [7]\n",
       "4     5  2[4]           NaN  $345,675,146                 $402,844,849  Taylor Swift      Reputation Stadium Tour       2018     53    $6,522,173  [8]"
      ]
     },
     "execution_count": 16,
     "metadata": {},
     "output_type": "execute_result"
    }
   ],
   "source": [
    "df = pd.read_csv('my_file.csv')\n",
    "df.columns = df.columns.str.strip()\n",
    "df.head()\n"
   ]
  },
  {
   "cell_type": "markdown",
   "id": "1cfbc819",
   "metadata": {},
   "source": [
    "3.Read and recheck the list heading for smooth output without error."
   ]
  },
  {
   "cell_type": "code",
   "execution_count": 17,
   "id": "68e5937c",
   "metadata": {},
   "outputs": [
    {
     "name": "stdout",
     "output_type": "stream",
     "text": [
      "['Rank', 'Peak', 'All Time Peak', 'Actualgross', 'Adjustedgross(in2022dollars)', 'Artist', 'Tour title', 'Year(s)', 'Shows', 'Average gross', 'Ref.']\n"
     ]
    }
   ],
   "source": [
    "print(df.columns.tolist())"
   ]
  },
  {
   "cell_type": "markdown",
   "id": "ae2144fa",
   "metadata": {},
   "source": [
    "4.Clean Monetary & Numeric Columns\n"
   ]
  },
  {
   "cell_type": "code",
   "execution_count": 18,
   "id": "95d51429",
   "metadata": {},
   "outputs": [
    {
     "data": {
      "text/html": [
       "<div>\n",
       "<style scoped>\n",
       "    .dataframe tbody tr th:only-of-type {\n",
       "        vertical-align: middle;\n",
       "    }\n",
       "\n",
       "    .dataframe tbody tr th {\n",
       "        vertical-align: top;\n",
       "    }\n",
       "\n",
       "    .dataframe thead th {\n",
       "        text-align: right;\n",
       "    }\n",
       "</style>\n",
       "<table border=\"1\" class=\"dataframe\">\n",
       "  <thead>\n",
       "    <tr style=\"text-align: right;\">\n",
       "      <th></th>\n",
       "      <th>Actualgross</th>\n",
       "      <th>Adjustedgross(in2022dollars)</th>\n",
       "      <th>Shows</th>\n",
       "      <th>Average gross</th>\n",
       "    </tr>\n",
       "  </thead>\n",
       "  <tbody>\n",
       "    <tr>\n",
       "      <th>0</th>\n",
       "      <td>780000000.0</td>\n",
       "      <td>780000000</td>\n",
       "      <td>56</td>\n",
       "      <td>13928571</td>\n",
       "    </tr>\n",
       "    <tr>\n",
       "      <th>1</th>\n",
       "      <td>579800000.0</td>\n",
       "      <td>579800000</td>\n",
       "      <td>56</td>\n",
       "      <td>10353571</td>\n",
       "    </tr>\n",
       "    <tr>\n",
       "      <th>2</th>\n",
       "      <td>411000000.0</td>\n",
       "      <td>560622615</td>\n",
       "      <td>85</td>\n",
       "      <td>4835294</td>\n",
       "    </tr>\n",
       "    <tr>\n",
       "      <th>3</th>\n",
       "      <td>397300000.0</td>\n",
       "      <td>454751555</td>\n",
       "      <td>156</td>\n",
       "      <td>2546795</td>\n",
       "    </tr>\n",
       "    <tr>\n",
       "      <th>4</th>\n",
       "      <td>345675146.0</td>\n",
       "      <td>402844849</td>\n",
       "      <td>53</td>\n",
       "      <td>6522173</td>\n",
       "    </tr>\n",
       "  </tbody>\n",
       "</table>\n",
       "</div>"
      ],
      "text/plain": [
       "   Actualgross  Adjustedgross(in2022dollars)  Shows  Average gross\n",
       "0  780000000.0                     780000000     56       13928571\n",
       "1  579800000.0                     579800000     56       10353571\n",
       "2  411000000.0                     560622615     85        4835294\n",
       "3  397300000.0                     454751555    156        2546795\n",
       "4  345675146.0                     402844849     53        6522173"
      ]
     },
     "execution_count": 18,
     "metadata": {},
     "output_type": "execute_result"
    }
   ],
   "source": [
    "money_cols = ['Actualgross', 'Adjustedgross(in2022dollars)', 'Average gross']\n",
    "for col in money_cols:\n",
    "    df[col] = (\n",
    "        df[col]\n",
    "        .str.replace(r'[\\$,]', '', regex=True)  # raw string for regex\n",
    "        .pipe(pd.to_numeric, errors='coerce')\n",
    "    )\n",
    "df['Shows'] = pd.to_numeric(df['Shows'], errors='coerce')\n",
    "df[['Actualgross', 'Adjustedgross(in2022dollars)', 'Shows', 'Average gross']].head()\n"
   ]
  },
  {
   "cell_type": "markdown",
   "id": "801df365",
   "metadata": {},
   "source": [
    "5.Extract the start/end year of each clebrity."
   ]
  },
  {
   "cell_type": "code",
   "execution_count": 19,
   "id": "cc690fde",
   "metadata": {},
   "outputs": [
    {
     "data": {
      "text/html": [
       "<div>\n",
       "<style scoped>\n",
       "    .dataframe tbody tr th:only-of-type {\n",
       "        vertical-align: middle;\n",
       "    }\n",
       "\n",
       "    .dataframe tbody tr th {\n",
       "        vertical-align: top;\n",
       "    }\n",
       "\n",
       "    .dataframe thead th {\n",
       "        text-align: right;\n",
       "    }\n",
       "</style>\n",
       "<table border=\"1\" class=\"dataframe\">\n",
       "  <thead>\n",
       "    <tr style=\"text-align: right;\">\n",
       "      <th></th>\n",
       "      <th>Artist</th>\n",
       "      <th>Start Year</th>\n",
       "      <th>End Year</th>\n",
       "    </tr>\n",
       "  </thead>\n",
       "  <tbody>\n",
       "    <tr>\n",
       "      <th>0</th>\n",
       "      <td>Taylor Swift</td>\n",
       "      <td>2023</td>\n",
       "      <td>2024</td>\n",
       "    </tr>\n",
       "    <tr>\n",
       "      <th>1</th>\n",
       "      <td>Beyonc</td>\n",
       "      <td>2023</td>\n",
       "      <td>2023</td>\n",
       "    </tr>\n",
       "    <tr>\n",
       "      <th>2</th>\n",
       "      <td>Madonna</td>\n",
       "      <td>2008</td>\n",
       "      <td>2009</td>\n",
       "    </tr>\n",
       "    <tr>\n",
       "      <th>3</th>\n",
       "      <td>Pink</td>\n",
       "      <td>2018</td>\n",
       "      <td>2019</td>\n",
       "    </tr>\n",
       "    <tr>\n",
       "      <th>4</th>\n",
       "      <td>Taylor Swift</td>\n",
       "      <td>2018</td>\n",
       "      <td>2018</td>\n",
       "    </tr>\n",
       "  </tbody>\n",
       "</table>\n",
       "</div>"
      ],
      "text/plain": [
       "         Artist  Start Year  End Year\n",
       "0  Taylor Swift        2023      2024\n",
       "1        Beyonc        2023      2023\n",
       "2       Madonna        2008      2009\n",
       "3          Pink        2018      2019\n",
       "4  Taylor Swift        2018      2018"
      ]
     },
     "execution_count": 19,
     "metadata": {},
     "output_type": "execute_result"
    }
   ],
   "source": [
    "def extract_years(v):\n",
    "    nums = re.findall(r'\\d{4}', v)\n",
    "    if len(nums) == 1:\n",
    "        return int(nums[0]), int(nums[0])\n",
    "    elif len(nums) == 2:\n",
    "        return int(nums[0]), int(nums[1])\n",
    "    return pd.NA, pd.NA\n",
    "\n",
    "df[['Start Year', 'End Year']] = df['Year(s)'].apply(lambda v: pd.Series(extract_years(v)))\n",
    "df['Artist'] = df['Artist'].str.replace(r'[^A-Za-z0-9\\s]', '', regex=True)\n",
    "df[['Artist','Start Year','End Year']].head()\n"
   ]
  },
  {
   "cell_type": "markdown",
   "id": "7fba86bb",
   "metadata": {},
   "source": [
    "6.Calculating the highest total gross of artist in the data."
   ]
  },
  {
   "cell_type": "code",
   "execution_count": 20,
   "id": "2d81efc8",
   "metadata": {},
   "outputs": [
    {
     "data": {
      "text/plain": [
       "Artist\n",
       "Taylor Swift    1526075146\n",
       "Madonna         1079958363\n",
       "Pink             838900000\n",
       "Beyonc           835884556\n",
       "Lady Gaga        397400000\n",
       "Celine Dion      280000000\n",
       "Katy Perry       204000000\n",
       "Cher             200000000\n",
       "Adele                    0\n",
       "Name: Actualgross, dtype: int64"
      ]
     },
     "execution_count": 20,
     "metadata": {},
     "output_type": "execute_result"
    }
   ],
   "source": [
    "artist_totals = df.groupby('Artist')['Actualgross'].sum().astype('int64').sort_values(ascending=False)\n",
    "artist_totals\n"
   ]
  },
  {
   "cell_type": "markdown",
   "id": "1110ed38",
   "metadata": {},
   "source": [
    "7. Artist with highest average per show."
   ]
  },
  {
   "cell_type": "code",
   "execution_count": 21,
   "id": "7c125846",
   "metadata": {},
   "outputs": [
    {
     "data": {
      "text/html": [
       "<div>\n",
       "<style scoped>\n",
       "    .dataframe tbody tr th:only-of-type {\n",
       "        vertical-align: middle;\n",
       "    }\n",
       "\n",
       "    .dataframe tbody tr th {\n",
       "        vertical-align: top;\n",
       "    }\n",
       "\n",
       "    .dataframe thead th {\n",
       "        text-align: right;\n",
       "    }\n",
       "</style>\n",
       "<table border=\"1\" class=\"dataframe\">\n",
       "  <thead>\n",
       "    <tr style=\"text-align: right;\">\n",
       "      <th></th>\n",
       "      <th>Artist</th>\n",
       "      <th>AvgPerShow</th>\n",
       "    </tr>\n",
       "  </thead>\n",
       "  <tbody>\n",
       "    <tr>\n",
       "      <th>1</th>\n",
       "      <td>Beyonc</td>\n",
       "      <td>7.789893e+06</td>\n",
       "    </tr>\n",
       "    <tr>\n",
       "      <th>8</th>\n",
       "      <td>Taylor Swift</td>\n",
       "      <td>6.285203e+06</td>\n",
       "    </tr>\n",
       "    <tr>\n",
       "      <th>6</th>\n",
       "      <td>Madonna</td>\n",
       "      <td>3.401767e+06</td>\n",
       "    </tr>\n",
       "    <tr>\n",
       "      <th>7</th>\n",
       "      <td>Pink</td>\n",
       "      <td>3.375165e+06</td>\n",
       "    </tr>\n",
       "    <tr>\n",
       "      <th>2</th>\n",
       "      <td>Celine Dion</td>\n",
       "      <td>2.137405e+06</td>\n",
       "    </tr>\n",
       "    <tr>\n",
       "      <th>5</th>\n",
       "      <td>Lady Gaga</td>\n",
       "      <td>1.427445e+06</td>\n",
       "    </tr>\n",
       "    <tr>\n",
       "      <th>4</th>\n",
       "      <td>Katy Perry</td>\n",
       "      <td>1.350993e+06</td>\n",
       "    </tr>\n",
       "    <tr>\n",
       "      <th>3</th>\n",
       "      <td>Cher</td>\n",
       "      <td>6.153846e+05</td>\n",
       "    </tr>\n",
       "    <tr>\n",
       "      <th>0</th>\n",
       "      <td>Adele</td>\n",
       "      <td>NaN</td>\n",
       "    </tr>\n",
       "  </tbody>\n",
       "</table>\n",
       "</div>"
      ],
      "text/plain": [
       "         Artist    AvgPerShow\n",
       "1        Beyonc  7.789893e+06\n",
       "8  Taylor Swift  6.285203e+06\n",
       "6       Madonna  3.401767e+06\n",
       "7          Pink  3.375165e+06\n",
       "2   Celine Dion  2.137405e+06\n",
       "5     Lady Gaga  1.427445e+06\n",
       "4    Katy Perry  1.350993e+06\n",
       "3          Cher  6.153846e+05\n",
       "0         Adele           NaN"
      ]
     },
     "execution_count": 21,
     "metadata": {},
     "output_type": "execute_result"
    }
   ],
   "source": [
    "df['AvgPerShow'] = df['Actualgross'] / df['Shows']\n",
    "artist_avg = df.groupby('Artist', as_index=False)['AvgPerShow'].mean().sort_values(by='AvgPerShow', ascending=False)\n",
    "artist_avg\n"
   ]
  },
  {
   "cell_type": "markdown",
   "id": "88c85f01",
   "metadata": {},
   "source": [
    "8.Artist with highest avg gross per show."
   ]
  },
  {
   "cell_type": "code",
   "execution_count": 22,
   "id": "06ea08dc",
   "metadata": {},
   "outputs": [
    {
     "data": {
      "text/plain": [
       "Artist\n",
       "Beyonc          7.789893e+06\n",
       "Taylor Swift    6.285203e+06\n",
       "Madonna         3.401767e+06\n",
       "Pink            3.375165e+06\n",
       "Celine Dion     2.137405e+06\n",
       "Lady Gaga       1.427445e+06\n",
       "Katy Perry      1.350993e+06\n",
       "Cher            6.153846e+05\n",
       "Adele                    NaN\n",
       "Name: AvgPerShow, dtype: float64"
      ]
     },
     "execution_count": 22,
     "metadata": {},
     "output_type": "execute_result"
    }
   ],
   "source": [
    "artist_avg = (\n",
    "    df.assign(AvgPerShow=lambda x: x['Actualgross'] / x['Shows'])\n",
    "      .groupby('Artist')['AvgPerShow']\n",
    "      .mean()\n",
    "      .sort_values(ascending=False)\n",
    ")\n",
    "artist_avg\n"
   ]
  },
  {
   "cell_type": "markdown",
   "id": "4a0d856f",
   "metadata": {},
   "source": [
    "9.Most frequent artists (number of tours)."
   ]
  },
  {
   "cell_type": "code",
   "execution_count": 23,
   "id": "5fafccae",
   "metadata": {},
   "outputs": [
    {
     "data": {
      "text/plain": [
       "Artist\n",
       "Taylor Swift    4\n",
       "Madonna         4\n",
       "Beyonc          3\n",
       "Pink            3\n",
       "Lady Gaga       2\n",
       "Celine Dion     1\n",
       "Katy Perry      1\n",
       "Cher            1\n",
       "Adele           1\n",
       "Name: count, dtype: int64"
      ]
     },
     "execution_count": 23,
     "metadata": {},
     "output_type": "execute_result"
    }
   ],
   "source": [
    "df['Artist'].value_counts()\n"
   ]
  },
  {
   "cell_type": "markdown",
   "id": "e0e4094c",
   "metadata": {},
   "source": [
    "10.Ploting Total Gross Distribution."
   ]
  },
  {
   "cell_type": "code",
   "execution_count": 24,
   "id": "3bb53235",
   "metadata": {},
   "outputs": [
    {
     "data": {
      "image/png": "[encoded data removed]",
      "text/plain": [
       "<Figure size 640x480 with 1 Axes>"
      ]
     },
     "metadata": {},
     "output_type": "display_data"
    }
   ],
   "source": [
    "df['Actualgross'].hist(bins=10)\n",
    "plt.title('Distribution of Total Gross Earnings')\n",
    "plt.xlabel('Actualgross')\n",
    "plt.ylabel('Count')\n",
    "plt.show()\n"
   ]
  },
  {
   "cell_type": "markdown",
   "id": "192b4aca",
   "metadata": {},
   "source": [
    "11.Top 10 highest-grossing tours."
   ]
  },
  {
   "cell_type": "code",
   "execution_count": 25,
   "id": "ca5aa455",
   "metadata": {},
   "outputs": [
    {
     "data": {
      "text/plain": [
       "Tour title\n",
       "The Eras Tour †                780000000.0\n",
       "Renaissance World Tour         579800000.0\n",
       "Sticky & Sweet Tour ‡[4][a]    411000000.0\n",
       "Beautiful Trauma World Tour    397300000.0\n",
       "Reputation Stadium Tour        345675146.0\n",
       "The MDNA Tour                  305158363.0\n",
       "Taking Chances World Tour      280000000.0\n",
       "Summer Carnival †              257600000.0\n",
       "The Formation World Tour       256084556.0\n",
       "The 1989 World Tour            250400000.0\n",
       "Name: Actualgross, dtype: float64"
      ]
     },
     "execution_count": 25,
     "metadata": {},
     "output_type": "execute_result"
    }
   ],
   "source": [
    "top10 = df.nlargest(10, 'Actualgross').set_index('Tour title')\n",
    "top10['Actualgross']\n"
   ]
  },
  {
   "cell_type": "markdown",
   "id": "f1a29b3d",
   "metadata": {},
   "source": [
    "12.ploting of tour."
   ]
  },
  {
   "cell_type": "code",
   "execution_count": 26,
   "id": "3fb4ddc5",
   "metadata": {},
   "outputs": [
    {
     "data": {
      "image/png": "[encoded data removed]",
      "text/plain": [
       "<Figure size 640x480 with 1 Axes>"
      ]
     },
     "metadata": {},
     "output_type": "display_data"
    }
   ],
   "source": [
    "top10['Actualgross'].plot(kind='barh')\n",
    "plt.title('Top 10 Highest-Grossing Tours')\n",
    "plt.ylabel('Tour title')\n",
    "plt.xlabel('Actualgross')\n",
    "plt.show()\n"
   ]
  },
  {
   "cell_type": "markdown",
   "id": "06b02072",
   "metadata": {},
   "source": [
    "13.tour earning by start year."
   ]
  },
  {
   "cell_type": "code",
   "execution_count": 27,
   "id": "c561a9dd",
   "metadata": {},
   "outputs": [
    {
     "data": {
      "text/plain": [
       "Start Year\n",
       "2002     200000000\n",
       "2006     194000000\n",
       "2008     691000000\n",
       "2009     227400000\n",
       "2012     475158363\n",
       "2013     334000000\n",
       "2014     204000000\n",
       "2015     420200000\n",
       "2016     256084556\n",
       "2018     742975146\n",
       "2023    1617400000\n",
       "Name: Actualgross, dtype: int64"
      ]
     },
     "execution_count": 27,
     "metadata": {},
     "output_type": "execute_result"
    }
   ],
   "source": [
    "yearly = df.groupby('Start Year')['Actualgross'].sum().astype('int64').sort_index()\n",
    "yearly\n"
   ]
  },
  {
   "cell_type": "markdown",
   "id": "65ef3df5",
   "metadata": {},
   "source": [
    "14.ploting "
   ]
  },
  {
   "cell_type": "code",
   "execution_count": 28,
   "id": "743f537c",
   "metadata": {},
   "outputs": [
    {
     "data": {
      "image/png": "[encoded data removed]",
      "text/plain": [
       "<Figure size 640x480 with 1 Axes>"
      ]
     },
     "metadata": {},
     "output_type": "display_data"
    }
   ],
   "source": [
    "yearly.plot(marker='o')\n",
    "plt.title('Total Tour Earnings Over Start Years')\n",
    "plt.xlabel('Start Year')\n",
    "plt.ylabel('Sum of Actualgross')\n",
    "plt.show()\n"
   ]
  }
 ],
 "metadata": {
  "kernelspec": {
   "display_name": "Python 3",
   "language": "python",
   "name": "python3"
  },
  "language_info": {
   "codemirror_mode": {
    "name": "ipython",
    "version": 3
   },
   "file_extension": ".py",
   "mimetype": "text/x-python",
   "name": "python",
   "nbconvert_exporter": "python",
   "pygments_lexer": "ipython3",
   "version": "3.13.2"
  }
 },
 "nbformat": 4,
 "nbformat_minor": 5
}

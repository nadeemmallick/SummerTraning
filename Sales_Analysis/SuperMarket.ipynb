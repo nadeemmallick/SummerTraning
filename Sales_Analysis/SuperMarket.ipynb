{
 "cells": [
  {
   "cell_type": "markdown",
   "id": "714c827c",
   "metadata": {},
   "source": [
    "<h1 style=\"color:orangered;\">SALES ANALYSIS OF SUPERMARKET</h1>"
   ]
  },
  {
   "cell_type": "markdown",
   "id": "f1c31b5f",
   "metadata": {},
   "source": [
    "\n",
    "1.Importing all the libraries which is needed in it."
   ]
  },
  {
   "cell_type": "code",
   "execution_count": 1,
   "id": "99da5301",
   "metadata": {},
   "outputs": [],
   "source": [
    "import pandas as pd\n",
    "import numpy as np\n",
    "import matplotlib.pyplot as plt\n",
    "import re\n",
    "import seaborn as sns\n",
    "import plotly.express as px "
   ]
  },
  {
   "cell_type": "markdown",
   "id": "b4f143de",
   "metadata": {},
   "source": [
    "\n",
    "2.Connect all the csv with the crossponding items."
   ]
  },
  {
   "cell_type": "code",
   "execution_count": 2,
   "id": "c876352a",
   "metadata": {},
   "outputs": [],
   "source": [
    "item_category = pd.read_csv('annex1.csv')\n",
    "sales = pd.read_csv('annex2.csv')\n",
    "wholesale = pd.read_csv('annex3.csv')\n",
    "loss_rate = pd.read_csv('annex4.csv')\n",
    "\n",
    "def clean_column_names(df):\n",
    "    df.columns = [re.sub(r'\\s+', '_', col).lower() for col in df.columns]\n",
    "    return df\n"
   ]
  },
  {
   "cell_type": "markdown",
   "id": "e2ec6f64",
   "metadata": {},
   "source": [
    "<h3 style=\"color:crimson;\">Explore the item_category table</h3>"
   ]
  },
  {
   "cell_type": "markdown",
   "id": "fee48c29",
   "metadata": {},
   "source": [
    "3.head means it gives 1st five rows of table."
   ]
  },
  {
   "cell_type": "code",
   "execution_count": 3,
   "id": "467e19b3",
   "metadata": {},
   "outputs": [
    {
     "data": {
      "text/html": [
       "<div>\n",
       "<style scoped>\n",
       "    .dataframe tbody tr th:only-of-type {\n",
       "        vertical-align: middle;\n",
       "    }\n",
       "\n",
       "    .dataframe tbody tr th {\n",
       "        vertical-align: top;\n",
       "    }\n",
       "\n",
       "    .dataframe thead th {\n",
       "        text-align: right;\n",
       "    }\n",
       "</style>\n",
       "<table border=\"1\" class=\"dataframe\">\n",
       "  <thead>\n",
       "    <tr style=\"text-align: right;\">\n",
       "      <th></th>\n",
       "      <th>Item Code</th>\n",
       "      <th>Item Name</th>\n",
       "      <th>Category Code</th>\n",
       "      <th>Category Name</th>\n",
       "    </tr>\n",
       "  </thead>\n",
       "  <tbody>\n",
       "    <tr>\n",
       "      <th>0</th>\n",
       "      <td>102900005115168</td>\n",
       "      <td>Niushou Shengcai</td>\n",
       "      <td>1011010101</td>\n",
       "      <td>Flower/Leaf Vegetables</td>\n",
       "    </tr>\n",
       "    <tr>\n",
       "      <th>1</th>\n",
       "      <td>102900005115199</td>\n",
       "      <td>Sichuan Red Cedar</td>\n",
       "      <td>1011010101</td>\n",
       "      <td>Flower/Leaf Vegetables</td>\n",
       "    </tr>\n",
       "    <tr>\n",
       "      <th>2</th>\n",
       "      <td>102900005115625</td>\n",
       "      <td>Local Xiaomao Cabbage</td>\n",
       "      <td>1011010101</td>\n",
       "      <td>Flower/Leaf Vegetables</td>\n",
       "    </tr>\n",
       "    <tr>\n",
       "      <th>3</th>\n",
       "      <td>102900005115748</td>\n",
       "      <td>White Caitai</td>\n",
       "      <td>1011010101</td>\n",
       "      <td>Flower/Leaf Vegetables</td>\n",
       "    </tr>\n",
       "    <tr>\n",
       "      <th>4</th>\n",
       "      <td>102900005115762</td>\n",
       "      <td>Amaranth</td>\n",
       "      <td>1011010101</td>\n",
       "      <td>Flower/Leaf Vegetables</td>\n",
       "    </tr>\n",
       "  </tbody>\n",
       "</table>\n",
       "</div>"
      ],
      "text/plain": [
       "         Item Code              Item Name  Category Code  \\\n",
       "0  102900005115168       Niushou Shengcai     1011010101   \n",
       "1  102900005115199      Sichuan Red Cedar     1011010101   \n",
       "2  102900005115625  Local Xiaomao Cabbage     1011010101   \n",
       "3  102900005115748           White Caitai     1011010101   \n",
       "4  102900005115762               Amaranth     1011010101   \n",
       "\n",
       "            Category Name  \n",
       "0  Flower/Leaf Vegetables  \n",
       "1  Flower/Leaf Vegetables  \n",
       "2  Flower/Leaf Vegetables  \n",
       "3  Flower/Leaf Vegetables  \n",
       "4  Flower/Leaf Vegetables  "
      ]
     },
     "execution_count": 3,
     "metadata": {},
     "output_type": "execute_result"
    }
   ],
   "source": [
    "item_category.head()"
   ]
  },
  {
   "cell_type": "markdown",
   "id": "53600f3b",
   "metadata": {},
   "source": [
    "4.Finding the number of unique elements present in item_table."
   ]
  },
  {
   "cell_type": "code",
   "execution_count": 4,
   "id": "99ce0f7c",
   "metadata": {},
   "outputs": [
    {
     "name": "stdout",
     "output_type": "stream",
     "text": [
      "Checking rows & colums, Rows: 251, Columns: 4\n",
      "Item Code        251\n",
      "Item Name        247\n",
      "Category Code      6\n",
      "Category Name      6\n",
      "dtype: int64\n"
     ]
    }
   ],
   "source": [
    "print(\"Checking rows & colums, Rows: {}, Columns: {}\".format(item_category.shape[0], item_category.shape[1]))\n",
    "print(item_category.nunique())"
   ]
  },
  {
   "cell_type": "markdown",
   "id": "f27b2028",
   "metadata": {},
   "source": [
    "5.Check all the null values in the columns."
   ]
  },
  {
   "cell_type": "code",
   "execution_count": 5,
   "id": "1fb8d1e9",
   "metadata": {},
   "outputs": [
    {
     "data": {
      "text/plain": [
       "Item Code        0\n",
       "Item Name        0\n",
       "Category Code    0\n",
       "Category Name    0\n",
       "dtype: int64"
      ]
     },
     "execution_count": 5,
     "metadata": {},
     "output_type": "execute_result"
    }
   ],
   "source": [
    "item_category.isnull().sum()"
   ]
  },
  {
   "cell_type": "markdown",
   "id": "fa8e654b",
   "metadata": {},
   "source": [
    "6.Count the dublicate numbers in item_category."
   ]
  },
  {
   "cell_type": "code",
   "execution_count": 6,
   "id": "df6646bc",
   "metadata": {},
   "outputs": [
    {
     "data": {
      "text/plain": [
       "np.int64(0)"
      ]
     },
     "execution_count": 6,
     "metadata": {},
     "output_type": "execute_result"
    }
   ],
   "source": [
    "item_category.duplicated().sum()"
   ]
  },
  {
   "cell_type": "markdown",
   "id": "10b018a7",
   "metadata": {},
   "source": [
    "7.Finding the unique element from all the colums."
   ]
  },
  {
   "cell_type": "code",
   "execution_count": 7,
   "id": "c1e28ca0",
   "metadata": {},
   "outputs": [
    {
     "name": "stdout",
     "output_type": "stream",
     "text": [
      "Item Code\n",
      "[102900005115168 102900005115199 102900005115625 102900005115748\n",
      " 102900005115762 102900005115779 102900005115786 102900005115793\n",
      " 102900005115816 102900005115823 102900005115854 102900005115861\n",
      " 102900005115878 102900005115885 102900005115908 102900005115946\n",
      " 102900005115960 102900005115977 102900005115984 102900005116639\n",
      " 102900005116776 102900005116790 102900005116806 102900005118572\n",
      " 102900005118817 102900005118831 102900005119975 102900005122654\n",
      " 102900005128748 102900011000175 102900011000571 102900011002414\n",
      " 102900011006689 102900011006948 102900011006955 102900011007464\n",
      " 102900011007471 102900011007495 102900011008133 102900011008164\n",
      " 102900011008485 102900011008492 102900011008515 102900011008522\n",
      " 102900011008676 102900011015384 102900011015391 102900011021644\n",
      " 102900011022849 102900011022924 102900011023464 102900011026502\n",
      " 102900011026618 102900011027462 102900011027615 102900011029688\n",
      " 102900011030042 102900011030059 102900011030097 102900011030103\n",
      " 102900011030110 102900011030134 102900011030141 102900011030158\n",
      " 102900011030400 102900011030417 102900011030905 102900011031216\n",
      " 102900011032176 102900011032282 102900011032480 102900011032589\n",
      " 102900011032787 102900011033081 102900011033173 102900011033234\n",
      " 102900011033241 102900011033531 102900011033562 102900011033586\n",
      " 102900011033906 102900011033920 102900011034200 102900011034217\n",
      " 102900011034224 102900011034231 102900011034316 102900011034323\n",
      " 102900011034354 102900011035481 102900011035764 102900011035771\n",
      " 102900011035849 102900011036686 102900051000890 102900051009220\n",
      " 102900051010455 102900051010790 106971563780002 106972776821582\n",
      " 102900005116714 102900011000632 102900011009970 102900011033913\n",
      " 102900011034026 102900005116042 102900005116899 102900005118824\n",
      " 102900011001561 102900011001691 102900011007969 102900011009277\n",
      " 102900011010891 102900011018132 102900011021842 102900011023976\n",
      " 102900011024010 102900011032114 102900011032732 102900011034569\n",
      " 102900011035511 102900011035962 102900051000944 102900051006229\n",
      " 102900005116257 102900005116509 102900011000335 102900011009444\n",
      " 102900011016909 102900011022764 102900011033975 102900011033982\n",
      " 102900011033999 102900051000463 102900005116219 102900005116226\n",
      " 102900005116233 102900005116905 102900005116943 102900005117056\n",
      " 102900005117209 102900005119968 102900005123880 102900005125808\n",
      " 102900011000328 102900011000861 102900011001219 102900011009772\n",
      " 102900011016701 102900011022030 102900011023648 102900011027479\n",
      " 102900011028407 102900011029176 102900011029275 102900011029299\n",
      " 102900011029305 102900011031100 102900011031582 102900011031735\n",
      " 102900011031742 102900011031759 102900011032022 102900011032145\n",
      " 102900011032206 102900011032213 102900011032220 102900011032237\n",
      " 102900011032244 102900011032251 102900011032343 102900011032350\n",
      " 102900011032367 102900011032848 102900011034262 102900011034439\n",
      " 102900011035078 102900011036242 102900051004294 102900005115250\n",
      " 102900005116530 102900005116547 102900005116837 102900005116912\n",
      " 102900005117353 102900005119098 102900005119104 102900005119944\n",
      " 102900005125815 102900011001806 102900011001813 102900011007044\n",
      " 102900011008577 102900011009246 102900011010563 102900011011058\n",
      " 102900011011546 102900011011669 102900011011782 102900011012482\n",
      " 102900011012871 102900011012994 102900011013274 102900011018095\n",
      " 102900011021675 102900011021699 102900011023075 102900011026793\n",
      " 102900011030561 102900011030608 102900011030615 102900011030622\n",
      " 102900011030639 102900011030912 102900011030929 102900011031599\n",
      " 102900011031841 102900011031858 102900011031926 102900011031995\n",
      " 102900011032619 102900011032626 102900011032633 102900011032640\n",
      " 102900011033937 102900011033944 102900011033968 102900011034330\n",
      " 102900011034538 102900011034705 102900011035740 102900011035788\n",
      " 102900011036068 102900011036266 102900051009336 106930274220092\n",
      " 106930274620090 106931885000035 106931885000356 106949711300068\n",
      " 106949711300167 106949711300259 106956146480197 106956146480203\n",
      " 106957634300010 106957634300058 106958851400125 106971533450003\n",
      " 106971533455008 106973223300667 106973990980123]\n",
      "**************************************************************************\n",
      "Item Name\n",
      "['Niushou Shengcai' 'Sichuan Red Cedar' 'Local Xiaomao Cabbage'\n",
      " 'White Caitai' 'Amaranth' 'Yunnan Shengcai' 'Zhuyecai' 'Chinese Cabbage'\n",
      " 'Nanguajian' 'Shanghaiqing' 'Radish Leaves' 'Niushou Youcai'\n",
      " 'Garden Chrysanthemum' 'Caidian Quinoa Artemisia' 'Caixin' 'Muercai'\n",
      " 'Wandoujian' 'Yunnan Lettuces' 'Machixian' 'Local Spinach'\n",
      " 'Yellow Xincai (1)' 'Black Rapeseed' 'Local Shanghaiqing' 'Spinach'\n",
      " 'Wawacai' 'Hongshujian' 'Zhijiang Red Bolt' 'Huanghuacai' 'Kuaicai'\n",
      " 'Suizhou Bubble Green' 'Panax Notoginseng' 'Dongmenkou Xiaobaicai'\n",
      " 'Foreign Garland Chrysanthemum ' 'Ice Grass' 'Perilla' 'Mint'\n",
      " 'The Dandelion' 'Siguajian' 'Naibaicai' 'Mustard' 'Big Broccoli'\n",
      " 'Miantiaocai' 'Sweet Chinese Cabbage' 'Jicai' 'Malan Head' 'Ganlanye'\n",
      " 'Hongshan Caitai' 'The Local Yellow Youcai' 'Green Caitai'\n",
      " 'Xiaoqingcai (1)' 'Fresh Rice Dumplings Leaves' 'Aihao' 'Naibai Caimiao'\n",
      " 'Juhua Youcai' 'Shuanggou Cabbage' 'Zhijiang Red Bolt (Bag)'\n",
      " 'Yunnan Lettuce (Bag)' 'Yunnan Leaf Lettuce (Bag)'\n",
      " 'Garden Chrysanthemum (Bag)' 'Spinach (Bag)' 'Caixin (Bag)'\n",
      " 'Shanghai Green (Bag)' 'Xiaoqingcai (2)' 'Hongshan Shoutidai'\n",
      " 'Hongshan Gift Box' 'Yuxingcao (Bag)' 'Ice Grass (Box)' 'Basil (Bag)'\n",
      " 'Xiangtianhongcaitai (Bag)' 'Artemisia Stelleriana' 'Yuxingcao '\n",
      " 'Zhuyecai (Bag)' 'Chuncai' 'Sophora Japonica' 'Hongshujian (Bag)'\n",
      " 'Caidian Quinoa Artemisia (Bag)' 'Red Coral (Leaf)' 'Red Oak Leaf'\n",
      " 'Green Butter' 'Powcan Mountain Chinese Cabbage ' 'Huangxincai (2)'\n",
      " 'Amaranth (Bag)' 'Chinese Cabbage (Bag)' 'Xiaoqingcai (Bag)'\n",
      " 'Cabbage Stem (Bag)' 'Zhimaxiancai' 'Xianzongye' 'Xianzongye (Bag) (1)'\n",
      " 'Foreign Garland Chrysanthemum  (Bag)' 'Longyacai' 'Yellow Baicai (1)'\n",
      " 'Chinese Cabbage Seedling' 'Muercai (Bag)' 'Broccoli' 'Youcaitai'\n",
      " 'Huangbaicai (2)' 'Purple Beicai' 'Xianzongye (Bag) (2)'\n",
      " 'Xianzongye (Bag) (3)' 'Purple Cabbage (1)' 'Qinggengsanhua'\n",
      " 'Purple Cabbage (2)' 'Zhijiang Qinggengsanhua' 'Lotus Root'\n",
      " 'Net Lotus Root (1)' 'High Melon (1)' 'Lotus (Ea)'\n",
      " 'Water Chestnut (Lingjiao)' 'Red Lotus Root Zone' 'Water Chestnut'\n",
      " 'Wild Lotus Root (1)' 'Wild Pink Lotus Root'\n",
      " 'Honghu Lotus Root Powder (Fenou)' 'Net Lotus Root (2)'\n",
      " 'Fresh Lotus Root Zone (Bag)' 'Water Chestnut (Bag)' 'High Melon (2)'\n",
      " 'Honghu Lotus (Lotus Root)' 'Net Lotus Root (3)' 'Wild Lotus Root (2)'\n",
      " 'Honghu Lotus Root' 'Lotus Root Tip' 'Eggplant (2)' 'Green Eggplant (1)'\n",
      " 'Round Eggplant' 'Dalong Eggplant' 'Hua Eggplant' 'Changxianqie'\n",
      " 'Green Eggplant (2)' 'Eggplant (1)' 'Round Eggplant (1)'\n",
      " 'Round Eggplant (2)' 'Red Hot Peppers' 'Green Hot Peppers'\n",
      " 'Red Pepper (1)' 'Green Hangjiao (1)' 'Red Hang Pepper'\n",
      " 'Paopaojiao (Jingpin)' '7 Colour Pepper (1)' 'Green Hangzhou Pepper (2)'\n",
      " 'Bell Pepper (1)' 'Millet Pepper' 'Luosi Pepper' 'Red Line Pepper'\n",
      " 'The Red Bell Pepper (1)' 'Fruit Pepper (Orange)' 'Wuhu Green Pepper (1)'\n",
      " 'Pepper Mix' 'Wuhu Green Pepper (2)' 'Xiaozhoupi' 'Yuganjiao' 'Lameizi'\n",
      " 'Purple Hot Peppers' 'Purple Screw Pepper' 'Fruit Chili'\n",
      " 'Millet Pepper (Bag)' 'Green Hot Peppers (Bag)' '7 Colour Pepper (Bag)'\n",
      " 'Bell Pepper (Bag)' 'Red Bell Pepper (Bag)' 'Xiaozhoupi (Bag)'\n",
      " 'Wuhu Green Pepper (Bag)' 'Green Hang Pepper (Bag)'\n",
      " 'Red Hang Pepper (Bag)' 'Fruit Pepper (Bag)' 'Green Line Pepper (Bag)'\n",
      " 'Red Hot Peppers (Bag)' 'Luosi Pepper (Bag)' '7 Colour Pepper (2)'\n",
      " 'Bell Pepper (2)' 'Red Bell Pepper (2)'\n",
      " 'Ginger And Xiaomijiao Mix (Small Bag)' 'Red Pepper (Bag)'\n",
      " 'Green And Red Hang Pepper Mix (Bag)' 'Red Pepper (2)'\n",
      " 'Green And Red Jian Pepper Mix (Bag)' 'Green Line Pepper'\n",
      " 'Xixia Black Mushroom (1)' 'Xixia Mushroom (1)' 'Needle Mushroom (1)'\n",
      " 'Ping Mushroom' 'Jigu Mushroom (1)' 'The White Mushroom (1)'\n",
      " 'The Agaricus Bisporus' 'The Crab Flavor Mushroom (1)'\n",
      " 'Haixian Mushroom (1)' 'Apricot Bao Mushroom (1)' 'Jigu Mushroom (Bunch)'\n",
      " 'Needle Mushroom (Bag) (1)' 'Tremella (Flower)' 'Hericium '\n",
      " 'Fresh Black Fungus (1)' 'Chicken Fir Bacteria' 'Black Porcini'\n",
      " 'Haixian Mushroom (Bag) (1)' 'Xiuzhen Mushroom'\n",
      " 'Chinese Caterpillar Fungus Flowers (Box) (1)' 'Tea Tree Mushroom (Bag)'\n",
      " 'Black Chicken  Mushroom' 'Apricot Bao Mushroom (Bag)'\n",
      " 'The White Mushroom (Bag)' 'Chinese Caterpillar Fungus Flowers (Bag)'\n",
      " 'Chopped Red Pine' 'The Steak Mushrooms' 'White Jelly Mushroom'\n",
      " 'Apricot Bao Mushroom (250 G)' 'Chopped Red Pine (Box)'\n",
      " 'The Steak Mushrooms (Box)' 'The Pork Stomach Mushroom (Box)'\n",
      " 'Black Porcini (Box)' 'Black Chicken Fir Bacteria (Box)'\n",
      " 'Haixian Mushroom (Bag)' 'Fresh Edible Fungus (Bag)'\n",
      " 'Agaricus Bisporus (Bag)' 'Needle Mushroom (Bag)' 'Jigu (Bag)'\n",
      " 'Xixia Xianggu Mushroom (2)' 'Fresh Edible Fungus (2)' 'Fresh Sea (2)'\n",
      " 'Jigu (2)' 'Needle Mushroom (2)' 'Apricot Bao Mushroom (2)'\n",
      " 'Xixia Black Mushroom (2)' 'Agaricus Bisporus (Box)'\n",
      " 'Black Mushroom (Bag)' 'The Fungus Mushroom Hot Pot Package (Bag)'\n",
      " 'Crab Flavor Mushroom And White Mushroom Mix (Box)'\n",
      " 'Xixia Xianggu Mushroom (Bag)' 'Mushroom And Leaf Mix (Bag)'\n",
      " 'Velvet Antler Mushroom (Box)' 'Chinese Caterpillar Fungus Flowers'\n",
      " 'The Crab Flavor Mushroom (Bag)' 'Haixian Mushroom (Bag) (2)'\n",
      " 'Embroidered Aureus' 'Embroidered Aureus (Bag)'\n",
      " 'Needle Mushroom (Bag) (3)' 'Needle Mushroom (Bag) (2)'\n",
      " 'Needle Mushroom (Box)' 'The White Mushroom (2)'\n",
      " 'The Crab Flavor Mushroom (2)' 'The White Mushroom (Box)'\n",
      " 'The Crab Flavor Mushroom (Box)' 'Haixian Mushroom (Bag) (4)'\n",
      " 'Haixian Mushroom (Bunch)' 'Haixian Mushroom (Bag) (3)'\n",
      " 'Chinese Caterpillar Fungus Flowers (Box) (2)'\n",
      " 'Hfyg Haixian Mushroom (Bunch)']\n",
      "**************************************************************************\n",
      "Category Code\n",
      "[1011010101 1011010201 1011010402 1011010501 1011010504 1011010801]\n",
      "**************************************************************************\n",
      "Category Name\n",
      "['Flower/Leaf\\xa0Vegetables' 'Cabbage' 'Aquatic Tuberous Vegetables'\n",
      " 'Solanum' 'Capsicum' 'Edible Mushroom']\n",
      "**************************************************************************\n"
     ]
    }
   ],
   "source": [
    "for i in item_category.columns:\n",
    "    print(i)\n",
    "    print(item_category[i].unique())\n",
    "    print(\"**************************************************************************\")"
   ]
  },
  {
   "cell_type": "markdown",
   "id": "aa3c7955",
   "metadata": {},
   "source": [
    "8.Checking the data types of item_category."
   ]
  },
  {
   "cell_type": "code",
   "execution_count": 8,
   "id": "74e47d69",
   "metadata": {},
   "outputs": [
    {
     "data": {
      "text/plain": [
       "Item Code         int64\n",
       "Item Name        object\n",
       "Category Code     int64\n",
       "Category Name    object\n",
       "dtype: object"
      ]
     },
     "execution_count": 8,
     "metadata": {},
     "output_type": "execute_result"
    }
   ],
   "source": [
    "item_category.dtypes"
   ]
  },
  {
   "cell_type": "markdown",
   "id": "7259b913",
   "metadata": {},
   "source": [
    "9.It return stats of numerical values columns."
   ]
  },
  {
   "cell_type": "code",
   "execution_count": 9,
   "id": "2ef8f58f",
   "metadata": {},
   "outputs": [
    {
     "data": {
      "text/html": [
       "<div>\n",
       "<style scoped>\n",
       "    .dataframe tbody tr th:only-of-type {\n",
       "        vertical-align: middle;\n",
       "    }\n",
       "\n",
       "    .dataframe tbody tr th {\n",
       "        vertical-align: top;\n",
       "    }\n",
       "\n",
       "    .dataframe thead th {\n",
       "        text-align: right;\n",
       "    }\n",
       "</style>\n",
       "<table border=\"1\" class=\"dataframe\">\n",
       "  <thead>\n",
       "    <tr style=\"text-align: right;\">\n",
       "      <th></th>\n",
       "      <th>Item Code</th>\n",
       "      <th>Category Code</th>\n",
       "    </tr>\n",
       "  </thead>\n",
       "  <tbody>\n",
       "    <tr>\n",
       "      <th>count</th>\n",
       "      <td>251</td>\n",
       "      <td>251</td>\n",
       "    </tr>\n",
       "    <tr>\n",
       "      <th>mean</th>\n",
       "      <td>103190825064436</td>\n",
       "      <td>1011010414</td>\n",
       "    </tr>\n",
       "    <tr>\n",
       "      <th>std</th>\n",
       "      <td>1048400107277</td>\n",
       "      <td>291</td>\n",
       "    </tr>\n",
       "    <tr>\n",
       "      <th>min</th>\n",
       "      <td>102900005115168</td>\n",
       "      <td>1011010101</td>\n",
       "    </tr>\n",
       "    <tr>\n",
       "      <th>25%</th>\n",
       "      <td>102900011001626</td>\n",
       "      <td>1011010101</td>\n",
       "    </tr>\n",
       "    <tr>\n",
       "      <th>50%</th>\n",
       "      <td>102900011029275</td>\n",
       "      <td>1011010501</td>\n",
       "    </tr>\n",
       "    <tr>\n",
       "      <th>75%</th>\n",
       "      <td>102900011033746</td>\n",
       "      <td>1011010801</td>\n",
       "    </tr>\n",
       "    <tr>\n",
       "      <th>max</th>\n",
       "      <td>106973990980123</td>\n",
       "      <td>1011010801</td>\n",
       "    </tr>\n",
       "  </tbody>\n",
       "</table>\n",
       "</div>"
      ],
      "text/plain": [
       "             Item Code  Category Code\n",
       "count              251            251\n",
       "mean   103190825064436     1011010414\n",
       "std      1048400107277            291\n",
       "min    102900005115168     1011010101\n",
       "25%    102900011001626     1011010101\n",
       "50%    102900011029275     1011010501\n",
       "75%    102900011033746     1011010801\n",
       "max    106973990980123     1011010801"
      ]
     },
     "execution_count": 9,
     "metadata": {},
     "output_type": "execute_result"
    }
   ],
   "source": [
    "item_category.describe().astype(int)"
   ]
  },
  {
   "cell_type": "markdown",
   "id": "156ec193",
   "metadata": {},
   "source": [
    "<h3 style=\"color:crimson;\">Exploring The Sales Table</h3>"
   ]
  },
  {
   "cell_type": "markdown",
   "id": "4f086a63",
   "metadata": {},
   "source": [
    "10.First five rows of sales table."
   ]
  },
  {
   "cell_type": "code",
   "execution_count": 10,
   "id": "a38ca4ce",
   "metadata": {},
   "outputs": [
    {
     "data": {
      "text/html": [
       "<div>\n",
       "<style scoped>\n",
       "    .dataframe tbody tr th:only-of-type {\n",
       "        vertical-align: middle;\n",
       "    }\n",
       "\n",
       "    .dataframe tbody tr th {\n",
       "        vertical-align: top;\n",
       "    }\n",
       "\n",
       "    .dataframe thead th {\n",
       "        text-align: right;\n",
       "    }\n",
       "</style>\n",
       "<table border=\"1\" class=\"dataframe\">\n",
       "  <thead>\n",
       "    <tr style=\"text-align: right;\">\n",
       "      <th></th>\n",
       "      <th>Date</th>\n",
       "      <th>Time</th>\n",
       "      <th>Item Code</th>\n",
       "      <th>Quantity Sold (kilo)</th>\n",
       "      <th>Unit Selling Price (RMB/kg)</th>\n",
       "      <th>Sale or Return</th>\n",
       "      <th>Discount (Yes/No)</th>\n",
       "    </tr>\n",
       "  </thead>\n",
       "  <tbody>\n",
       "    <tr>\n",
       "      <th>0</th>\n",
       "      <td>2020-07-01</td>\n",
       "      <td>09:15:07.924</td>\n",
       "      <td>102900005117056</td>\n",
       "      <td>0.396</td>\n",
       "      <td>7.6</td>\n",
       "      <td>sale</td>\n",
       "      <td>No</td>\n",
       "    </tr>\n",
       "    <tr>\n",
       "      <th>1</th>\n",
       "      <td>2020-07-01</td>\n",
       "      <td>09:17:27.295</td>\n",
       "      <td>102900005115960</td>\n",
       "      <td>0.849</td>\n",
       "      <td>3.2</td>\n",
       "      <td>sale</td>\n",
       "      <td>No</td>\n",
       "    </tr>\n",
       "    <tr>\n",
       "      <th>2</th>\n",
       "      <td>2020-07-01</td>\n",
       "      <td>09:17:33.905</td>\n",
       "      <td>102900005117056</td>\n",
       "      <td>0.409</td>\n",
       "      <td>7.6</td>\n",
       "      <td>sale</td>\n",
       "      <td>No</td>\n",
       "    </tr>\n",
       "    <tr>\n",
       "      <th>3</th>\n",
       "      <td>2020-07-01</td>\n",
       "      <td>09:19:45.450</td>\n",
       "      <td>102900005115823</td>\n",
       "      <td>0.421</td>\n",
       "      <td>10.0</td>\n",
       "      <td>sale</td>\n",
       "      <td>No</td>\n",
       "    </tr>\n",
       "    <tr>\n",
       "      <th>4</th>\n",
       "      <td>2020-07-01</td>\n",
       "      <td>09:20:23.686</td>\n",
       "      <td>102900005115908</td>\n",
       "      <td>0.539</td>\n",
       "      <td>8.0</td>\n",
       "      <td>sale</td>\n",
       "      <td>No</td>\n",
       "    </tr>\n",
       "  </tbody>\n",
       "</table>\n",
       "</div>"
      ],
      "text/plain": [
       "         Date          Time        Item Code  Quantity Sold (kilo)  \\\n",
       "0  2020-07-01  09:15:07.924  102900005117056                 0.396   \n",
       "1  2020-07-01  09:17:27.295  102900005115960                 0.849   \n",
       "2  2020-07-01  09:17:33.905  102900005117056                 0.409   \n",
       "3  2020-07-01  09:19:45.450  102900005115823                 0.421   \n",
       "4  2020-07-01  09:20:23.686  102900005115908                 0.539   \n",
       "\n",
       "   Unit Selling Price (RMB/kg) Sale or Return Discount (Yes/No)  \n",
       "0                          7.6           sale                No  \n",
       "1                          3.2           sale                No  \n",
       "2                          7.6           sale                No  \n",
       "3                         10.0           sale                No  \n",
       "4                          8.0           sale                No  "
      ]
     },
     "execution_count": 10,
     "metadata": {},
     "output_type": "execute_result"
    }
   ],
   "source": [
    "sales.head()"
   ]
  },
  {
   "cell_type": "markdown",
   "id": "ac2a9b63",
   "metadata": {},
   "source": [
    "11.checking data types of sales table."
   ]
  },
  {
   "cell_type": "code",
   "execution_count": 11,
   "id": "55afe5f1",
   "metadata": {},
   "outputs": [
    {
     "data": {
      "text/plain": [
       "Date                            object\n",
       "Time                            object\n",
       "Item Code                        int64\n",
       "Quantity Sold (kilo)           float64\n",
       "Unit Selling Price (RMB/kg)    float64\n",
       "Sale or Return                  object\n",
       "Discount (Yes/No)               object\n",
       "dtype: object"
      ]
     },
     "execution_count": 11,
     "metadata": {},
     "output_type": "execute_result"
    }
   ],
   "source": [
    "sales.dtypes"
   ]
  },
  {
   "cell_type": "markdown",
   "id": "c5cccc9b",
   "metadata": {},
   "source": [
    "12.Converting datatype into datetime."
   ]
  },
  {
   "cell_type": "code",
   "execution_count": 12,
   "id": "cc40d66f",
   "metadata": {},
   "outputs": [],
   "source": [
    "sales['Date'] = pd.to_datetime(sales['Date'])"
   ]
  },
  {
   "cell_type": "markdown",
   "id": "e4c637b5",
   "metadata": {},
   "source": [
    "13.Checking the converted datatypes."
   ]
  },
  {
   "cell_type": "code",
   "execution_count": 13,
   "id": "dd00d9e1",
   "metadata": {},
   "outputs": [
    {
     "data": {
      "text/plain": [
       "Date                           datetime64[ns]\n",
       "Time                                   object\n",
       "Item Code                               int64\n",
       "Quantity Sold (kilo)                  float64\n",
       "Unit Selling Price (RMB/kg)           float64\n",
       "Sale or Return                         object\n",
       "Discount (Yes/No)                      object\n",
       "dtype: object"
      ]
     },
     "execution_count": 13,
     "metadata": {},
     "output_type": "execute_result"
    }
   ],
   "source": [
    "sales.dtypes"
   ]
  },
  {
   "cell_type": "markdown",
   "id": "d7ff2fac",
   "metadata": {},
   "source": [
    "14.Checking the null values of the coloumns."
   ]
  },
  {
   "cell_type": "code",
   "execution_count": 14,
   "id": "0155538d",
   "metadata": {},
   "outputs": [
    {
     "data": {
      "text/plain": [
       "Date                           0\n",
       "Time                           0\n",
       "Item Code                      0\n",
       "Quantity Sold (kilo)           0\n",
       "Unit Selling Price (RMB/kg)    0\n",
       "Sale or Return                 0\n",
       "Discount (Yes/No)              0\n",
       "dtype: int64"
      ]
     },
     "execution_count": 14,
     "metadata": {},
     "output_type": "execute_result"
    }
   ],
   "source": [
    "sales.isnull().sum()"
   ]
  },
  {
   "cell_type": "markdown",
   "id": "ccfbec54",
   "metadata": {},
   "source": [
    "15.Checking the duplicate values in the coloumns.\n"
   ]
  },
  {
   "cell_type": "code",
   "execution_count": 15,
   "id": "533e66aa",
   "metadata": {},
   "outputs": [
    {
     "data": {
      "text/plain": [
       "np.int64(0)"
      ]
     },
     "execution_count": 15,
     "metadata": {},
     "output_type": "execute_result"
    }
   ],
   "source": [
    "sales.duplicated().sum()"
   ]
  },
  {
   "cell_type": "markdown",
   "id": "a29c5d74",
   "metadata": {},
   "source": [
    "16.Checking the unique values or elements in the sales table."
   ]
  },
  {
   "cell_type": "code",
   "execution_count": 16,
   "id": "fbdc2793",
   "metadata": {},
   "outputs": [
    {
     "name": "stdout",
     "output_type": "stream",
     "text": [
      "Checking rows & columns, Rows: 878503, Columns: 7\n",
      "Date                             1085\n",
      "Time                           849632\n",
      "Item Code                         246\n",
      "Quantity Sold (kilo)             2794\n",
      "Unit Selling Price (RMB/kg)       264\n",
      "Sale or Return                      2\n",
      "Discount (Yes/No)                   2\n",
      "dtype: int64\n"
     ]
    }
   ],
   "source": [
    "print(\"Checking rows & columns, Rows: {}, Columns: {}\".format(sales.shape[0], sales.shape[1]))\n",
    "print(sales.nunique())"
   ]
  },
  {
   "cell_type": "code",
   "execution_count": 17,
   "id": "72e3f685",
   "metadata": {},
   "outputs": [
    {
     "data": {
      "text/html": [
       "<div>\n",
       "<style scoped>\n",
       "    .dataframe tbody tr th:only-of-type {\n",
       "        vertical-align: middle;\n",
       "    }\n",
       "\n",
       "    .dataframe tbody tr th {\n",
       "        vertical-align: top;\n",
       "    }\n",
       "\n",
       "    .dataframe thead th {\n",
       "        text-align: right;\n",
       "    }\n",
       "</style>\n",
       "<table border=\"1\" class=\"dataframe\">\n",
       "  <thead>\n",
       "    <tr style=\"text-align: right;\">\n",
       "      <th></th>\n",
       "      <th>Date</th>\n",
       "      <th>Time</th>\n",
       "      <th>Item Code</th>\n",
       "      <th>Quantity Sold (kilo)</th>\n",
       "      <th>Unit Selling Price (RMB/kg)</th>\n",
       "      <th>Sale or Return</th>\n",
       "      <th>Discount (Yes/No)</th>\n",
       "    </tr>\n",
       "  </thead>\n",
       "  <tbody>\n",
       "    <tr>\n",
       "      <th>0</th>\n",
       "      <td>2020-07-01</td>\n",
       "      <td>09:15:07.924</td>\n",
       "      <td>102900005117056</td>\n",
       "      <td>0.396</td>\n",
       "      <td>7.6</td>\n",
       "      <td>sale</td>\n",
       "      <td>No</td>\n",
       "    </tr>\n",
       "    <tr>\n",
       "      <th>1</th>\n",
       "      <td>2020-07-01</td>\n",
       "      <td>09:17:27.295</td>\n",
       "      <td>102900005115960</td>\n",
       "      <td>0.849</td>\n",
       "      <td>3.2</td>\n",
       "      <td>sale</td>\n",
       "      <td>No</td>\n",
       "    </tr>\n",
       "    <tr>\n",
       "      <th>2</th>\n",
       "      <td>2020-07-01</td>\n",
       "      <td>09:17:33.905</td>\n",
       "      <td>102900005117056</td>\n",
       "      <td>0.409</td>\n",
       "      <td>7.6</td>\n",
       "      <td>sale</td>\n",
       "      <td>No</td>\n",
       "    </tr>\n",
       "    <tr>\n",
       "      <th>3</th>\n",
       "      <td>2020-07-01</td>\n",
       "      <td>09:19:45.450</td>\n",
       "      <td>102900005115823</td>\n",
       "      <td>0.421</td>\n",
       "      <td>10.0</td>\n",
       "      <td>sale</td>\n",
       "      <td>No</td>\n",
       "    </tr>\n",
       "    <tr>\n",
       "      <th>4</th>\n",
       "      <td>2020-07-01</td>\n",
       "      <td>09:20:23.686</td>\n",
       "      <td>102900005115908</td>\n",
       "      <td>0.539</td>\n",
       "      <td>8.0</td>\n",
       "      <td>sale</td>\n",
       "      <td>No</td>\n",
       "    </tr>\n",
       "  </tbody>\n",
       "</table>\n",
       "</div>"
      ],
      "text/plain": [
       "        Date          Time        Item Code  Quantity Sold (kilo)  \\\n",
       "0 2020-07-01  09:15:07.924  102900005117056                 0.396   \n",
       "1 2020-07-01  09:17:27.295  102900005115960                 0.849   \n",
       "2 2020-07-01  09:17:33.905  102900005117056                 0.409   \n",
       "3 2020-07-01  09:19:45.450  102900005115823                 0.421   \n",
       "4 2020-07-01  09:20:23.686  102900005115908                 0.539   \n",
       "\n",
       "   Unit Selling Price (RMB/kg) Sale or Return Discount (Yes/No)  \n",
       "0                          7.6           sale                No  \n",
       "1                          3.2           sale                No  \n",
       "2                          7.6           sale                No  \n",
       "3                         10.0           sale                No  \n",
       "4                          8.0           sale                No  "
      ]
     },
     "execution_count": 17,
     "metadata": {},
     "output_type": "execute_result"
    }
   ],
   "source": [
    "sales.head()"
   ]
  },
  {
   "cell_type": "markdown",
   "id": "e1b352bb",
   "metadata": {},
   "source": [
    "<h3 style=\"color:crimson;\">Exploring The Wholesales Table</h3>"
   ]
  },
  {
   "cell_type": "markdown",
   "id": "f4c1fe1d",
   "metadata": {},
   "source": [
    "17.First five rows of wholesales table."
   ]
  },
  {
   "cell_type": "code",
   "execution_count": 18,
   "id": "103eed7a",
   "metadata": {},
   "outputs": [
    {
     "data": {
      "text/html": [
       "<div>\n",
       "<style scoped>\n",
       "    .dataframe tbody tr th:only-of-type {\n",
       "        vertical-align: middle;\n",
       "    }\n",
       "\n",
       "    .dataframe tbody tr th {\n",
       "        vertical-align: top;\n",
       "    }\n",
       "\n",
       "    .dataframe thead th {\n",
       "        text-align: right;\n",
       "    }\n",
       "</style>\n",
       "<table border=\"1\" class=\"dataframe\">\n",
       "  <thead>\n",
       "    <tr style=\"text-align: right;\">\n",
       "      <th></th>\n",
       "      <th>Date</th>\n",
       "      <th>Item Code</th>\n",
       "      <th>Wholesale Price (RMB/kg)</th>\n",
       "    </tr>\n",
       "  </thead>\n",
       "  <tbody>\n",
       "    <tr>\n",
       "      <th>0</th>\n",
       "      <td>2020-07-01</td>\n",
       "      <td>102900005115762</td>\n",
       "      <td>3.88</td>\n",
       "    </tr>\n",
       "    <tr>\n",
       "      <th>1</th>\n",
       "      <td>2020-07-01</td>\n",
       "      <td>102900005115779</td>\n",
       "      <td>6.72</td>\n",
       "    </tr>\n",
       "    <tr>\n",
       "      <th>2</th>\n",
       "      <td>2020-07-01</td>\n",
       "      <td>102900005115786</td>\n",
       "      <td>3.19</td>\n",
       "    </tr>\n",
       "    <tr>\n",
       "      <th>3</th>\n",
       "      <td>2020-07-01</td>\n",
       "      <td>102900005115793</td>\n",
       "      <td>9.24</td>\n",
       "    </tr>\n",
       "    <tr>\n",
       "      <th>4</th>\n",
       "      <td>2020-07-01</td>\n",
       "      <td>102900005115823</td>\n",
       "      <td>7.03</td>\n",
       "    </tr>\n",
       "  </tbody>\n",
       "</table>\n",
       "</div>"
      ],
      "text/plain": [
       "         Date        Item Code  Wholesale Price (RMB/kg)\n",
       "0  2020-07-01  102900005115762                      3.88\n",
       "1  2020-07-01  102900005115779                      6.72\n",
       "2  2020-07-01  102900005115786                      3.19\n",
       "3  2020-07-01  102900005115793                      9.24\n",
       "4  2020-07-01  102900005115823                      7.03"
      ]
     },
     "execution_count": 18,
     "metadata": {},
     "output_type": "execute_result"
    }
   ],
   "source": [
    "wholesale.head()"
   ]
  },
  {
   "cell_type": "markdown",
   "id": "998e7977",
   "metadata": {},
   "source": [
    "18.Datatypes of wholesales table."
   ]
  },
  {
   "cell_type": "code",
   "execution_count": 19,
   "id": "a8cbe3ee",
   "metadata": {},
   "outputs": [
    {
     "data": {
      "text/plain": [
       "Date                         object\n",
       "Item Code                     int64\n",
       "Wholesale Price (RMB/kg)    float64\n",
       "dtype: object"
      ]
     },
     "execution_count": 19,
     "metadata": {},
     "output_type": "execute_result"
    }
   ],
   "source": [
    "wholesale.dtypes"
   ]
  },
  {
   "cell_type": "markdown",
   "id": "273c5b8a",
   "metadata": {},
   "source": [
    "19.converting the dtypes into datetime."
   ]
  },
  {
   "cell_type": "code",
   "execution_count": 20,
   "id": "973947b7",
   "metadata": {},
   "outputs": [],
   "source": [
    "wholesale['Date'] = pd.to_datetime(wholesale['Date'])"
   ]
  },
  {
   "cell_type": "markdown",
   "id": "448116c7",
   "metadata": {},
   "source": [
    "20.Checking the converted dtypes."
   ]
  },
  {
   "cell_type": "code",
   "execution_count": 21,
   "id": "3df87e27",
   "metadata": {},
   "outputs": [
    {
     "data": {
      "text/plain": [
       "Date                        datetime64[ns]\n",
       "Item Code                            int64\n",
       "Wholesale Price (RMB/kg)           float64\n",
       "dtype: object"
      ]
     },
     "execution_count": 21,
     "metadata": {},
     "output_type": "execute_result"
    }
   ],
   "source": [
    "wholesale.dtypes"
   ]
  },
  {
   "cell_type": "markdown",
   "id": "3f27d91d",
   "metadata": {},
   "source": [
    "21.Checking the unique numbers in wholes sales table."
   ]
  },
  {
   "cell_type": "code",
   "execution_count": 22,
   "id": "e45d8f2e",
   "metadata": {},
   "outputs": [
    {
     "name": "stdout",
     "output_type": "stream",
     "text": [
      "Checking rows & columns, Rows: 55982, Columns: 3\n",
      "Date                        1091\n",
      "Item Code                    251\n",
      "Wholesale Price (RMB/kg)    2380\n",
      "dtype: int64\n"
     ]
    }
   ],
   "source": [
    "print(\"Checking rows & columns, Rows: {}, Columns: {}\".format(wholesale.shape[0], wholesale.shape[1]))\n",
    "print(wholesale.nunique())"
   ]
  },
  {
   "cell_type": "markdown",
   "id": "8975ba5a",
   "metadata": {},
   "source": [
    "22.Checking the dublicate element in wholesales table."
   ]
  },
  {
   "cell_type": "code",
   "execution_count": 23,
   "id": "eeb3a25f",
   "metadata": {},
   "outputs": [
    {
     "data": {
      "text/plain": [
       "np.int64(0)"
      ]
     },
     "execution_count": 23,
     "metadata": {},
     "output_type": "execute_result"
    }
   ],
   "source": [
    "wholesale.duplicated().sum()"
   ]
  },
  {
   "cell_type": "markdown",
   "id": "a76e64d3",
   "metadata": {},
   "source": [
    "23.Finding the unique element from all the colums."
   ]
  },
  {
   "cell_type": "code",
   "execution_count": 24,
   "id": "66def791",
   "metadata": {},
   "outputs": [
    {
     "name": "stdout",
     "output_type": "stream",
     "text": [
      "Date\n",
      "<DatetimeArray>\n",
      "['2020-07-01 00:00:00', '2020-07-02 00:00:00', '2020-07-03 00:00:00',\n",
      " '2020-07-04 00:00:00', '2020-07-05 00:00:00', '2020-07-06 00:00:00',\n",
      " '2020-07-07 00:00:00', '2020-07-08 00:00:00', '2020-07-09 00:00:00',\n",
      " '2020-07-10 00:00:00',\n",
      " ...\n",
      " '2023-06-21 00:00:00', '2023-06-22 00:00:00', '2023-06-23 00:00:00',\n",
      " '2023-06-24 00:00:00', '2023-06-25 00:00:00', '2023-06-26 00:00:00',\n",
      " '2023-06-27 00:00:00', '2023-06-28 00:00:00', '2023-06-29 00:00:00',\n",
      " '2023-06-30 00:00:00']\n",
      "Length: 1091, dtype: datetime64[ns]\n",
      "**************************************************************************\n",
      "Item Code\n",
      "[102900005115762 102900005115779 102900005115786 102900005115793\n",
      " 102900005115823 102900005115908 102900005115946 102900005115960\n",
      " 102900005115984 102900005116226 102900005116233 102900005116257\n",
      " 102900005116509 102900005116530 102900005116547 102900005116714\n",
      " 102900005116790 102900005116912 102900005116943 102900005117056\n",
      " 102900005117209 102900005118817 102900005118824 102900005118831\n",
      " 102900005119944 102900005119975 102900005123880 102900005125808\n",
      " 102900005125815 102900011001219 102900011006948 102900011008522\n",
      " 102900011009970 102900051000944 102900051004294 102900051010455\n",
      " 102900011000328 102900011006689 102900011001813 102900011009444\n",
      " 102900005116837 102900005115816 102900005116899 102900005115861\n",
      " 106956146480203 106956146480197 102900011011546 102900011001806\n",
      " 102900011001561 102900005116219 102900011000175 102900011007969\n",
      " 102900011009246 102900011012994 102900011013274 102900005115885\n",
      " 102900011001691 102900011008164 102900011010891 102900051000463\n",
      " 102900051009336 102900005119968 102900011016909 102900005116905\n",
      " 102900011016701 102900011007464 102900005115878 102900005115250\n",
      " 102900005119098 102900011012871 102900011010563 102900011007044\n",
      " 106931885000035 102900005118572 102900005115854 102900011018095\n",
      " 102900005122654 102900005115168 102900011011782 102900011008676\n",
      " 102900005115199 102900011018132 102900011008577 102900005115977\n",
      " 102900005115748 102900011011669 102900011009277 102900011000571\n",
      " 106949711300068 106930274220092 102900011021699 102900005119104\n",
      " 102900011021842 106958851400125 102900011000632 102900011022030\n",
      " 102900011022764 106973223300667 102900011008133 102900011022849\n",
      " 102900011002414 102900051010790 102900051009220 102900011022924\n",
      " 102900005116639 102900011008515 102900011015391 102900011007471\n",
      " 102900011023075 102900005116776 102900011006955 102900011024010\n",
      " 102900005117353 102900011026502 102900005116806 102900011008485\n",
      " 102900011000861 102900011026793 102900011027479 102900011000335\n",
      " 102900011008492 102900011027615 102900011027462 102900051000890\n",
      " 102900011007495 102900005128748 102900011023464 102900011028407\n",
      " 106949711300167 102900011029176 106971533450003 102900011029688\n",
      " 102900011029275 102900011030097 102900011030103 102900011030110\n",
      " 102900011030134 102900011030141 102900011030158 102900011030042\n",
      " 102900011030059 102900051006229 102900011031100 102900011021644\n",
      " 102900011030561 102900011030615 102900011030622 102900011030608\n",
      " 102900011029305 102900011030639 102900011031599 102900011031582\n",
      " 102900011031759 106957634300010 106957634300058 106971533455008\n",
      " 102900011031742 106949711300259 102900011031735 102900011031926\n",
      " 102900011032022 102900011032282 102900011031995 102900011009772\n",
      " 102900011032237 102900011030912 102900011031841 102900011032206\n",
      " 102900011032213 102900011032244 102900011032114 102900011032220\n",
      " 102900011032251 102900011032350 102900011032367 102900011031216\n",
      " 102900011032176 102900011015384 102900011032343 102900011032589\n",
      " 102900011032626 102900011032633 102900011032640 102900011032787\n",
      " 102900011032619 102900011032732 102900011032848 102900011021675\n",
      " 102900011033081 102900011033234 102900011033241 102900011032145\n",
      " 102900011033562 102900011033586 102900011033531 102900011033173\n",
      " 102900011033906 102900011033968 102900011034200 102900011034231\n",
      " 102900011033920 102900011033937 102900011033944 102900011034217\n",
      " 102900011034224 102900011033913 102900005116042 106931885000356\n",
      " 102900011023648 106971563780002 102900011034316 102900011034323\n",
      " 102900011034330 102900011034354 102900011026618 102900011029299\n",
      " 102900011034262 102900011034026 102900011030929 106973990980123\n",
      " 102900011034569 102900011034439 102900011033975 102900011033982\n",
      " 102900011035078 102900011031858 102900011011058 102900011030905\n",
      " 102900011033999 102900011035481 102900011035511 102900005115625\n",
      " 102900011035771 102900011035788 102900011035764 102900011012482\n",
      " 102900011035962 106930274620090 102900011036068 102900011034705\n",
      " 102900011030400 102900011030417 102900011035740 102900011034538\n",
      " 102900011023976 102900011036266 102900011032480 102900011036242\n",
      " 102900011035849 106972776821582 102900011036686]\n",
      "**************************************************************************\n",
      "Wholesale Price (RMB/kg)\n",
      "[ 3.88  6.72  3.19 ... 18.18 18.28 18.27]\n",
      "**************************************************************************\n"
     ]
    }
   ],
   "source": [
    "for i in wholesale.columns:\n",
    "    print(i)\n",
    "    print(wholesale[i].unique())\n",
    "    print(\"**************************************************************************\")"
   ]
  },
  {
   "cell_type": "markdown",
   "id": "9556d049",
   "metadata": {},
   "source": [
    "24.It return stats of numerical values columns."
   ]
  },
  {
   "cell_type": "code",
   "execution_count": 25,
   "id": "f816e817",
   "metadata": {},
   "outputs": [
    {
     "data": {
      "text/html": [
       "<div>\n",
       "<style scoped>\n",
       "    .dataframe tbody tr th:only-of-type {\n",
       "        vertical-align: middle;\n",
       "    }\n",
       "\n",
       "    .dataframe tbody tr th {\n",
       "        vertical-align: top;\n",
       "    }\n",
       "\n",
       "    .dataframe thead th {\n",
       "        text-align: right;\n",
       "    }\n",
       "</style>\n",
       "<table border=\"1\" class=\"dataframe\">\n",
       "  <thead>\n",
       "    <tr style=\"text-align: right;\">\n",
       "      <th></th>\n",
       "      <th>Item Code</th>\n",
       "      <th>Wholesale Price (RMB/kg)</th>\n",
       "    </tr>\n",
       "  </thead>\n",
       "  <tbody>\n",
       "    <tr>\n",
       "      <th>count</th>\n",
       "      <td>55982</td>\n",
       "      <td>55982</td>\n",
       "    </tr>\n",
       "    <tr>\n",
       "      <th>mean</th>\n",
       "      <td>103044945365014</td>\n",
       "      <td>5</td>\n",
       "    </tr>\n",
       "    <tr>\n",
       "      <th>min</th>\n",
       "      <td>102900005115168</td>\n",
       "      <td>0</td>\n",
       "    </tr>\n",
       "    <tr>\n",
       "      <th>25%</th>\n",
       "      <td>102900005116547</td>\n",
       "      <td>2</td>\n",
       "    </tr>\n",
       "    <tr>\n",
       "      <th>50%</th>\n",
       "      <td>102900011000328</td>\n",
       "      <td>4</td>\n",
       "    </tr>\n",
       "    <tr>\n",
       "      <th>75%</th>\n",
       "      <td>102900011030141</td>\n",
       "      <td>7</td>\n",
       "    </tr>\n",
       "    <tr>\n",
       "      <th>max</th>\n",
       "      <td>106973990980123</td>\n",
       "      <td>141</td>\n",
       "    </tr>\n",
       "    <tr>\n",
       "      <th>std</th>\n",
       "      <td>752792703273</td>\n",
       "      <td>5</td>\n",
       "    </tr>\n",
       "  </tbody>\n",
       "</table>\n",
       "</div>"
      ],
      "text/plain": [
       "             Item Code  Wholesale Price (RMB/kg)\n",
       "count            55982                     55982\n",
       "mean   103044945365014                         5\n",
       "min    102900005115168                         0\n",
       "25%    102900005116547                         2\n",
       "50%    102900011000328                         4\n",
       "75%    102900011030141                         7\n",
       "max    106973990980123                       141\n",
       "std       752792703273                         5"
      ]
     },
     "execution_count": 25,
     "metadata": {},
     "output_type": "execute_result"
    }
   ],
   "source": [
    "wholesale.describe().select_dtypes(include='number').astype(int)"
   ]
  },
  {
   "cell_type": "markdown",
   "id": "4b62622b",
   "metadata": {},
   "source": [
    "<h3 style=\"color:crimson;\">Exploring The Loss Rate Table</h3>"
   ]
  },
  {
   "cell_type": "markdown",
   "id": "e832323c",
   "metadata": {},
   "source": [
    "25.First five rows of lossrate table."
   ]
  },
  {
   "cell_type": "code",
   "execution_count": 26,
   "id": "f4cc2761",
   "metadata": {},
   "outputs": [
    {
     "data": {
      "text/html": [
       "<div>\n",
       "<style scoped>\n",
       "    .dataframe tbody tr th:only-of-type {\n",
       "        vertical-align: middle;\n",
       "    }\n",
       "\n",
       "    .dataframe tbody tr th {\n",
       "        vertical-align: top;\n",
       "    }\n",
       "\n",
       "    .dataframe thead th {\n",
       "        text-align: right;\n",
       "    }\n",
       "</style>\n",
       "<table border=\"1\" class=\"dataframe\">\n",
       "  <thead>\n",
       "    <tr style=\"text-align: right;\">\n",
       "      <th></th>\n",
       "      <th>Item Code</th>\n",
       "      <th>Item Name</th>\n",
       "      <th>Loss Rate (%)</th>\n",
       "    </tr>\n",
       "  </thead>\n",
       "  <tbody>\n",
       "    <tr>\n",
       "      <th>0</th>\n",
       "      <td>102900005115168</td>\n",
       "      <td>Niushou Shengcai</td>\n",
       "      <td>4.39</td>\n",
       "    </tr>\n",
       "    <tr>\n",
       "      <th>1</th>\n",
       "      <td>102900005115199</td>\n",
       "      <td>Sichuan Red Cedar</td>\n",
       "      <td>10.46</td>\n",
       "    </tr>\n",
       "    <tr>\n",
       "      <th>2</th>\n",
       "      <td>102900005115250</td>\n",
       "      <td>Xixia Black Mushroom (1)</td>\n",
       "      <td>10.80</td>\n",
       "    </tr>\n",
       "    <tr>\n",
       "      <th>3</th>\n",
       "      <td>102900005115625</td>\n",
       "      <td>Local Xiaomao Cabbage</td>\n",
       "      <td>0.18</td>\n",
       "    </tr>\n",
       "    <tr>\n",
       "      <th>4</th>\n",
       "      <td>102900005115748</td>\n",
       "      <td>White Caitai</td>\n",
       "      <td>8.78</td>\n",
       "    </tr>\n",
       "  </tbody>\n",
       "</table>\n",
       "</div>"
      ],
      "text/plain": [
       "         Item Code                 Item Name  Loss Rate (%)\n",
       "0  102900005115168          Niushou Shengcai           4.39\n",
       "1  102900005115199         Sichuan Red Cedar          10.46\n",
       "2  102900005115250  Xixia Black Mushroom (1)          10.80\n",
       "3  102900005115625     Local Xiaomao Cabbage           0.18\n",
       "4  102900005115748              White Caitai           8.78"
      ]
     },
     "execution_count": 26,
     "metadata": {},
     "output_type": "execute_result"
    }
   ],
   "source": [
    "loss_rate.head()"
   ]
  },
  {
   "cell_type": "markdown",
   "id": "70816852",
   "metadata": {},
   "source": [
    "26.Checking the data type of loss_rate table."
   ]
  },
  {
   "cell_type": "code",
   "execution_count": 27,
   "id": "59a8e44c",
   "metadata": {},
   "outputs": [
    {
     "data": {
      "text/plain": [
       "Item Code          int64\n",
       "Item Name         object\n",
       "Loss Rate (%)    float64\n",
       "dtype: object"
      ]
     },
     "execution_count": 27,
     "metadata": {},
     "output_type": "execute_result"
    }
   ],
   "source": [
    "loss_rate.dtypes"
   ]
  },
  {
   "cell_type": "markdown",
   "id": "d9c0d295",
   "metadata": {},
   "source": [
    "27.checkingn the null values in all coloumns of loss_rate table"
   ]
  },
  {
   "cell_type": "code",
   "execution_count": 28,
   "id": "0e83ae7e",
   "metadata": {},
   "outputs": [
    {
     "data": {
      "text/plain": [
       "Item Code        0\n",
       "Item Name        0\n",
       "Loss Rate (%)    0\n",
       "dtype: int64"
      ]
     },
     "execution_count": 28,
     "metadata": {},
     "output_type": "execute_result"
    }
   ],
   "source": [
    "loss_rate.isnull().sum()"
   ]
  },
  {
   "cell_type": "markdown",
   "id": "7a110db3",
   "metadata": {},
   "source": [
    "28.it will give stats of the numerical values coloumns."
   ]
  },
  {
   "cell_type": "code",
   "execution_count": 29,
   "id": "74342c78",
   "metadata": {},
   "outputs": [
    {
     "data": {
      "text/html": [
       "<div>\n",
       "<style scoped>\n",
       "    .dataframe tbody tr th:only-of-type {\n",
       "        vertical-align: middle;\n",
       "    }\n",
       "\n",
       "    .dataframe tbody tr th {\n",
       "        vertical-align: top;\n",
       "    }\n",
       "\n",
       "    .dataframe thead th {\n",
       "        text-align: right;\n",
       "    }\n",
       "</style>\n",
       "<table border=\"1\" class=\"dataframe\">\n",
       "  <thead>\n",
       "    <tr style=\"text-align: right;\">\n",
       "      <th></th>\n",
       "      <th>Item Code</th>\n",
       "      <th>Loss Rate (%)</th>\n",
       "    </tr>\n",
       "  </thead>\n",
       "  <tbody>\n",
       "    <tr>\n",
       "      <th>count</th>\n",
       "      <td>251</td>\n",
       "      <td>251</td>\n",
       "    </tr>\n",
       "    <tr>\n",
       "      <th>mean</th>\n",
       "      <td>103190825064436</td>\n",
       "      <td>9</td>\n",
       "    </tr>\n",
       "    <tr>\n",
       "      <th>std</th>\n",
       "      <td>1048400107277</td>\n",
       "      <td>5</td>\n",
       "    </tr>\n",
       "    <tr>\n",
       "      <th>min</th>\n",
       "      <td>102900005115168</td>\n",
       "      <td>0</td>\n",
       "    </tr>\n",
       "    <tr>\n",
       "      <th>25%</th>\n",
       "      <td>102900011001626</td>\n",
       "      <td>8</td>\n",
       "    </tr>\n",
       "    <tr>\n",
       "      <th>50%</th>\n",
       "      <td>102900011029275</td>\n",
       "      <td>9</td>\n",
       "    </tr>\n",
       "    <tr>\n",
       "      <th>75%</th>\n",
       "      <td>102900011033746</td>\n",
       "      <td>11</td>\n",
       "    </tr>\n",
       "    <tr>\n",
       "      <th>max</th>\n",
       "      <td>106973990980123</td>\n",
       "      <td>29</td>\n",
       "    </tr>\n",
       "  </tbody>\n",
       "</table>\n",
       "</div>"
      ],
      "text/plain": [
       "             Item Code  Loss Rate (%)\n",
       "count              251            251\n",
       "mean   103190825064436              9\n",
       "std      1048400107277              5\n",
       "min    102900005115168              0\n",
       "25%    102900011001626              8\n",
       "50%    102900011029275              9\n",
       "75%    102900011033746             11\n",
       "max    106973990980123             29"
      ]
     },
     "execution_count": 29,
     "metadata": {},
     "output_type": "execute_result"
    }
   ],
   "source": [
    "loss_rate.describe().astype(int)"
   ]
  },
  {
   "cell_type": "markdown",
   "id": "0934d550",
   "metadata": {},
   "source": [
    "<h3 style=\"color:crimson\";>Merging / Combining the data</h3>"
   ]
  },
  {
   "cell_type": "markdown",
   "id": "494393ce",
   "metadata": {},
   "source": [
    "29.first two row of sales table."
   ]
  },
  {
   "cell_type": "code",
   "execution_count": 30,
   "id": "9dfe4a78",
   "metadata": {},
   "outputs": [
    {
     "data": {
      "text/html": [
       "<div>\n",
       "<style scoped>\n",
       "    .dataframe tbody tr th:only-of-type {\n",
       "        vertical-align: middle;\n",
       "    }\n",
       "\n",
       "    .dataframe tbody tr th {\n",
       "        vertical-align: top;\n",
       "    }\n",
       "\n",
       "    .dataframe thead th {\n",
       "        text-align: right;\n",
       "    }\n",
       "</style>\n",
       "<table border=\"1\" class=\"dataframe\">\n",
       "  <thead>\n",
       "    <tr style=\"text-align: right;\">\n",
       "      <th></th>\n",
       "      <th>Date</th>\n",
       "      <th>Time</th>\n",
       "      <th>Item Code</th>\n",
       "      <th>Quantity Sold (kilo)</th>\n",
       "      <th>Unit Selling Price (RMB/kg)</th>\n",
       "      <th>Sale or Return</th>\n",
       "      <th>Discount (Yes/No)</th>\n",
       "    </tr>\n",
       "  </thead>\n",
       "  <tbody>\n",
       "    <tr>\n",
       "      <th>0</th>\n",
       "      <td>2020-07-01</td>\n",
       "      <td>09:15:07.924</td>\n",
       "      <td>102900005117056</td>\n",
       "      <td>0.396</td>\n",
       "      <td>7.6</td>\n",
       "      <td>sale</td>\n",
       "      <td>No</td>\n",
       "    </tr>\n",
       "    <tr>\n",
       "      <th>1</th>\n",
       "      <td>2020-07-01</td>\n",
       "      <td>09:17:27.295</td>\n",
       "      <td>102900005115960</td>\n",
       "      <td>0.849</td>\n",
       "      <td>3.2</td>\n",
       "      <td>sale</td>\n",
       "      <td>No</td>\n",
       "    </tr>\n",
       "  </tbody>\n",
       "</table>\n",
       "</div>"
      ],
      "text/plain": [
       "        Date          Time        Item Code  Quantity Sold (kilo)  \\\n",
       "0 2020-07-01  09:15:07.924  102900005117056                 0.396   \n",
       "1 2020-07-01  09:17:27.295  102900005115960                 0.849   \n",
       "\n",
       "   Unit Selling Price (RMB/kg) Sale or Return Discount (Yes/No)  \n",
       "0                          7.6           sale                No  \n",
       "1                          3.2           sale                No  "
      ]
     },
     "execution_count": 30,
     "metadata": {},
     "output_type": "execute_result"
    }
   ],
   "source": [
    "sales.head(2)"
   ]
  },
  {
   "cell_type": "markdown",
   "id": "f1c25532",
   "metadata": {},
   "source": [
    "30.first two rows of wholesales table."
   ]
  },
  {
   "cell_type": "code",
   "execution_count": 31,
   "id": "6d9e0191",
   "metadata": {},
   "outputs": [
    {
     "data": {
      "text/html": [
       "<div>\n",
       "<style scoped>\n",
       "    .dataframe tbody tr th:only-of-type {\n",
       "        vertical-align: middle;\n",
       "    }\n",
       "\n",
       "    .dataframe tbody tr th {\n",
       "        vertical-align: top;\n",
       "    }\n",
       "\n",
       "    .dataframe thead th {\n",
       "        text-align: right;\n",
       "    }\n",
       "</style>\n",
       "<table border=\"1\" class=\"dataframe\">\n",
       "  <thead>\n",
       "    <tr style=\"text-align: right;\">\n",
       "      <th></th>\n",
       "      <th>Date</th>\n",
       "      <th>Item Code</th>\n",
       "      <th>Wholesale Price (RMB/kg)</th>\n",
       "    </tr>\n",
       "  </thead>\n",
       "  <tbody>\n",
       "    <tr>\n",
       "      <th>0</th>\n",
       "      <td>2020-07-01</td>\n",
       "      <td>102900005115762</td>\n",
       "      <td>3.88</td>\n",
       "    </tr>\n",
       "    <tr>\n",
       "      <th>1</th>\n",
       "      <td>2020-07-01</td>\n",
       "      <td>102900005115779</td>\n",
       "      <td>6.72</td>\n",
       "    </tr>\n",
       "  </tbody>\n",
       "</table>\n",
       "</div>"
      ],
      "text/plain": [
       "        Date        Item Code  Wholesale Price (RMB/kg)\n",
       "0 2020-07-01  102900005115762                      3.88\n",
       "1 2020-07-01  102900005115779                      6.72"
      ]
     },
     "execution_count": 31,
     "metadata": {},
     "output_type": "execute_result"
    }
   ],
   "source": [
    "wholesale.head(2)"
   ]
  },
  {
   "cell_type": "markdown",
   "id": "c8c3c7cb",
   "metadata": {},
   "source": [
    "31.first two rows of item category tables."
   ]
  },
  {
   "cell_type": "code",
   "execution_count": 32,
   "id": "0cf8bf5e",
   "metadata": {},
   "outputs": [
    {
     "data": {
      "text/html": [
       "<div>\n",
       "<style scoped>\n",
       "    .dataframe tbody tr th:only-of-type {\n",
       "        vertical-align: middle;\n",
       "    }\n",
       "\n",
       "    .dataframe tbody tr th {\n",
       "        vertical-align: top;\n",
       "    }\n",
       "\n",
       "    .dataframe thead th {\n",
       "        text-align: right;\n",
       "    }\n",
       "</style>\n",
       "<table border=\"1\" class=\"dataframe\">\n",
       "  <thead>\n",
       "    <tr style=\"text-align: right;\">\n",
       "      <th></th>\n",
       "      <th>Item Code</th>\n",
       "      <th>Item Name</th>\n",
       "      <th>Category Code</th>\n",
       "      <th>Category Name</th>\n",
       "    </tr>\n",
       "  </thead>\n",
       "  <tbody>\n",
       "    <tr>\n",
       "      <th>0</th>\n",
       "      <td>102900005115168</td>\n",
       "      <td>Niushou Shengcai</td>\n",
       "      <td>1011010101</td>\n",
       "      <td>Flower/Leaf Vegetables</td>\n",
       "    </tr>\n",
       "    <tr>\n",
       "      <th>1</th>\n",
       "      <td>102900005115199</td>\n",
       "      <td>Sichuan Red Cedar</td>\n",
       "      <td>1011010101</td>\n",
       "      <td>Flower/Leaf Vegetables</td>\n",
       "    </tr>\n",
       "  </tbody>\n",
       "</table>\n",
       "</div>"
      ],
      "text/plain": [
       "         Item Code          Item Name  Category Code           Category Name\n",
       "0  102900005115168   Niushou Shengcai     1011010101  Flower/Leaf Vegetables\n",
       "1  102900005115199  Sichuan Red Cedar     1011010101  Flower/Leaf Vegetables"
      ]
     },
     "execution_count": 32,
     "metadata": {},
     "output_type": "execute_result"
    }
   ],
   "source": [
    "item_category.head(2)"
   ]
  },
  {
   "cell_type": "markdown",
   "id": "3cf847c7",
   "metadata": {},
   "source": [
    "32.first two rows of loss rate table."
   ]
  },
  {
   "cell_type": "code",
   "execution_count": 33,
   "id": "73511e70",
   "metadata": {},
   "outputs": [
    {
     "data": {
      "text/html": [
       "<div>\n",
       "<style scoped>\n",
       "    .dataframe tbody tr th:only-of-type {\n",
       "        vertical-align: middle;\n",
       "    }\n",
       "\n",
       "    .dataframe tbody tr th {\n",
       "        vertical-align: top;\n",
       "    }\n",
       "\n",
       "    .dataframe thead th {\n",
       "        text-align: right;\n",
       "    }\n",
       "</style>\n",
       "<table border=\"1\" class=\"dataframe\">\n",
       "  <thead>\n",
       "    <tr style=\"text-align: right;\">\n",
       "      <th></th>\n",
       "      <th>Item Code</th>\n",
       "      <th>Item Name</th>\n",
       "      <th>Loss Rate (%)</th>\n",
       "    </tr>\n",
       "  </thead>\n",
       "  <tbody>\n",
       "    <tr>\n",
       "      <th>0</th>\n",
       "      <td>102900005115168</td>\n",
       "      <td>Niushou Shengcai</td>\n",
       "      <td>4.39</td>\n",
       "    </tr>\n",
       "    <tr>\n",
       "      <th>1</th>\n",
       "      <td>102900005115199</td>\n",
       "      <td>Sichuan Red Cedar</td>\n",
       "      <td>10.46</td>\n",
       "    </tr>\n",
       "  </tbody>\n",
       "</table>\n",
       "</div>"
      ],
      "text/plain": [
       "         Item Code          Item Name  Loss Rate (%)\n",
       "0  102900005115168   Niushou Shengcai           4.39\n",
       "1  102900005115199  Sichuan Red Cedar          10.46"
      ]
     },
     "execution_count": 33,
     "metadata": {},
     "output_type": "execute_result"
    }
   ],
   "source": [
    "loss_rate.head(2)"
   ]
  },
  {
   "cell_type": "markdown",
   "id": "7a6e63ab",
   "metadata": {},
   "source": [
    "33.Combining the sales and wholesales data and print first two rows."
   ]
  },
  {
   "cell_type": "code",
   "execution_count": 34,
   "id": "ac1015db",
   "metadata": {},
   "outputs": [
    {
     "data": {
      "text/html": [
       "<div>\n",
       "<style scoped>\n",
       "    .dataframe tbody tr th:only-of-type {\n",
       "        vertical-align: middle;\n",
       "    }\n",
       "\n",
       "    .dataframe tbody tr th {\n",
       "        vertical-align: top;\n",
       "    }\n",
       "\n",
       "    .dataframe thead th {\n",
       "        text-align: right;\n",
       "    }\n",
       "</style>\n",
       "<table border=\"1\" class=\"dataframe\">\n",
       "  <thead>\n",
       "    <tr style=\"text-align: right;\">\n",
       "      <th></th>\n",
       "      <th>Date</th>\n",
       "      <th>Time</th>\n",
       "      <th>Item Code</th>\n",
       "      <th>Quantity Sold (kilo)</th>\n",
       "      <th>Unit Selling Price (RMB/kg)</th>\n",
       "      <th>Sale or Return</th>\n",
       "      <th>Discount (Yes/No)</th>\n",
       "      <th>Wholesale Price (RMB/kg)</th>\n",
       "    </tr>\n",
       "  </thead>\n",
       "  <tbody>\n",
       "    <tr>\n",
       "      <th>0</th>\n",
       "      <td>2020-07-01</td>\n",
       "      <td>09:15:07.924</td>\n",
       "      <td>102900005117056</td>\n",
       "      <td>0.396</td>\n",
       "      <td>7.6</td>\n",
       "      <td>sale</td>\n",
       "      <td>No</td>\n",
       "      <td>4.32</td>\n",
       "    </tr>\n",
       "    <tr>\n",
       "      <th>1</th>\n",
       "      <td>2020-07-01</td>\n",
       "      <td>09:17:27.295</td>\n",
       "      <td>102900005115960</td>\n",
       "      <td>0.849</td>\n",
       "      <td>3.2</td>\n",
       "      <td>sale</td>\n",
       "      <td>No</td>\n",
       "      <td>2.10</td>\n",
       "    </tr>\n",
       "    <tr>\n",
       "      <th>2</th>\n",
       "      <td>2020-07-01</td>\n",
       "      <td>09:17:33.905</td>\n",
       "      <td>102900005117056</td>\n",
       "      <td>0.409</td>\n",
       "      <td>7.6</td>\n",
       "      <td>sale</td>\n",
       "      <td>No</td>\n",
       "      <td>4.32</td>\n",
       "    </tr>\n",
       "    <tr>\n",
       "      <th>3</th>\n",
       "      <td>2020-07-01</td>\n",
       "      <td>09:19:45.450</td>\n",
       "      <td>102900005115823</td>\n",
       "      <td>0.421</td>\n",
       "      <td>10.0</td>\n",
       "      <td>sale</td>\n",
       "      <td>No</td>\n",
       "      <td>7.03</td>\n",
       "    </tr>\n",
       "    <tr>\n",
       "      <th>4</th>\n",
       "      <td>2020-07-01</td>\n",
       "      <td>09:20:23.686</td>\n",
       "      <td>102900005115908</td>\n",
       "      <td>0.539</td>\n",
       "      <td>8.0</td>\n",
       "      <td>sale</td>\n",
       "      <td>No</td>\n",
       "      <td>4.60</td>\n",
       "    </tr>\n",
       "  </tbody>\n",
       "</table>\n",
       "</div>"
      ],
      "text/plain": [
       "        Date          Time        Item Code  Quantity Sold (kilo)  \\\n",
       "0 2020-07-01  09:15:07.924  102900005117056                 0.396   \n",
       "1 2020-07-01  09:17:27.295  102900005115960                 0.849   \n",
       "2 2020-07-01  09:17:33.905  102900005117056                 0.409   \n",
       "3 2020-07-01  09:19:45.450  102900005115823                 0.421   \n",
       "4 2020-07-01  09:20:23.686  102900005115908                 0.539   \n",
       "\n",
       "   Unit Selling Price (RMB/kg) Sale or Return Discount (Yes/No)  \\\n",
       "0                          7.6           sale                No   \n",
       "1                          3.2           sale                No   \n",
       "2                          7.6           sale                No   \n",
       "3                         10.0           sale                No   \n",
       "4                          8.0           sale                No   \n",
       "\n",
       "   Wholesale Price (RMB/kg)  \n",
       "0                      4.32  \n",
       "1                      2.10  \n",
       "2                      4.32  \n",
       "3                      7.03  \n",
       "4                      4.60  "
      ]
     },
     "execution_count": 34,
     "metadata": {},
     "output_type": "execute_result"
    }
   ],
   "source": [
    "sales_wholesale_combine_data = pd.merge(sales, wholesale, how=\"left\", on=[\"Item Code\", \"Date\"])\n",
    "sales_wholesale_combine_data.head()"
   ]
  },
  {
   "cell_type": "markdown",
   "id": "976266e9",
   "metadata": {},
   "source": [
    "34.Checking the null elements in sales and wholesales data."
   ]
  },
  {
   "cell_type": "code",
   "execution_count": 35,
   "id": "8f3b1dcb",
   "metadata": {},
   "outputs": [
    {
     "data": {
      "text/plain": [
       "Date                           0\n",
       "Time                           0\n",
       "Item Code                      0\n",
       "Quantity Sold (kilo)           0\n",
       "Unit Selling Price (RMB/kg)    0\n",
       "Sale or Return                 0\n",
       "Discount (Yes/No)              0\n",
       "Wholesale Price (RMB/kg)       0\n",
       "dtype: int64"
      ]
     },
     "execution_count": 35,
     "metadata": {},
     "output_type": "execute_result"
    }
   ],
   "source": [
    "sales_wholesale_combine_data.isnull().sum()"
   ]
  },
  {
   "cell_type": "code",
   "execution_count": 36,
   "id": "3d558883",
   "metadata": {},
   "outputs": [
    {
     "data": {
      "text/html": [
       "<div>\n",
       "<style scoped>\n",
       "    .dataframe tbody tr th:only-of-type {\n",
       "        vertical-align: middle;\n",
       "    }\n",
       "\n",
       "    .dataframe tbody tr th {\n",
       "        vertical-align: top;\n",
       "    }\n",
       "\n",
       "    .dataframe thead th {\n",
       "        text-align: right;\n",
       "    }\n",
       "</style>\n",
       "<table border=\"1\" class=\"dataframe\">\n",
       "  <thead>\n",
       "    <tr style=\"text-align: right;\">\n",
       "      <th></th>\n",
       "      <th>Date</th>\n",
       "      <th>Time</th>\n",
       "      <th>Item Code</th>\n",
       "      <th>Quantity Sold (kilo)</th>\n",
       "      <th>Unit Selling Price (RMB/kg)</th>\n",
       "      <th>Sale or Return</th>\n",
       "      <th>Discount (Yes/No)</th>\n",
       "      <th>Wholesale Price (RMB/kg)</th>\n",
       "      <th>Item Name</th>\n",
       "      <th>Category Code</th>\n",
       "      <th>Category Name</th>\n",
       "    </tr>\n",
       "  </thead>\n",
       "  <tbody>\n",
       "    <tr>\n",
       "      <th>0</th>\n",
       "      <td>2020-07-01</td>\n",
       "      <td>09:15:07.924</td>\n",
       "      <td>102900005117056</td>\n",
       "      <td>0.396</td>\n",
       "      <td>7.6</td>\n",
       "      <td>sale</td>\n",
       "      <td>No</td>\n",
       "      <td>4.32</td>\n",
       "      <td>Paopaojiao (Jingpin)</td>\n",
       "      <td>1011010504</td>\n",
       "      <td>Capsicum</td>\n",
       "    </tr>\n",
       "    <tr>\n",
       "      <th>1</th>\n",
       "      <td>2020-07-01</td>\n",
       "      <td>09:17:27.295</td>\n",
       "      <td>102900005115960</td>\n",
       "      <td>0.849</td>\n",
       "      <td>3.2</td>\n",
       "      <td>sale</td>\n",
       "      <td>No</td>\n",
       "      <td>2.10</td>\n",
       "      <td>Chinese Cabbage</td>\n",
       "      <td>1011010101</td>\n",
       "      <td>Flower/Leaf Vegetables</td>\n",
       "    </tr>\n",
       "    <tr>\n",
       "      <th>2</th>\n",
       "      <td>2020-07-01</td>\n",
       "      <td>09:17:33.905</td>\n",
       "      <td>102900005117056</td>\n",
       "      <td>0.409</td>\n",
       "      <td>7.6</td>\n",
       "      <td>sale</td>\n",
       "      <td>No</td>\n",
       "      <td>4.32</td>\n",
       "      <td>Paopaojiao (Jingpin)</td>\n",
       "      <td>1011010504</td>\n",
       "      <td>Capsicum</td>\n",
       "    </tr>\n",
       "    <tr>\n",
       "      <th>3</th>\n",
       "      <td>2020-07-01</td>\n",
       "      <td>09:19:45.450</td>\n",
       "      <td>102900005115823</td>\n",
       "      <td>0.421</td>\n",
       "      <td>10.0</td>\n",
       "      <td>sale</td>\n",
       "      <td>No</td>\n",
       "      <td>7.03</td>\n",
       "      <td>Shanghaiqing</td>\n",
       "      <td>1011010101</td>\n",
       "      <td>Flower/Leaf Vegetables</td>\n",
       "    </tr>\n",
       "    <tr>\n",
       "      <th>4</th>\n",
       "      <td>2020-07-01</td>\n",
       "      <td>09:20:23.686</td>\n",
       "      <td>102900005115908</td>\n",
       "      <td>0.539</td>\n",
       "      <td>8.0</td>\n",
       "      <td>sale</td>\n",
       "      <td>No</td>\n",
       "      <td>4.60</td>\n",
       "      <td>Caixin</td>\n",
       "      <td>1011010101</td>\n",
       "      <td>Flower/Leaf Vegetables</td>\n",
       "    </tr>\n",
       "  </tbody>\n",
       "</table>\n",
       "</div>"
      ],
      "text/plain": [
       "        Date          Time        Item Code  Quantity Sold (kilo)  \\\n",
       "0 2020-07-01  09:15:07.924  102900005117056                 0.396   \n",
       "1 2020-07-01  09:17:27.295  102900005115960                 0.849   \n",
       "2 2020-07-01  09:17:33.905  102900005117056                 0.409   \n",
       "3 2020-07-01  09:19:45.450  102900005115823                 0.421   \n",
       "4 2020-07-01  09:20:23.686  102900005115908                 0.539   \n",
       "\n",
       "   Unit Selling Price (RMB/kg) Sale or Return Discount (Yes/No)  \\\n",
       "0                          7.6           sale                No   \n",
       "1                          3.2           sale                No   \n",
       "2                          7.6           sale                No   \n",
       "3                         10.0           sale                No   \n",
       "4                          8.0           sale                No   \n",
       "\n",
       "   Wholesale Price (RMB/kg)             Item Name  Category Code  \\\n",
       "0                      4.32  Paopaojiao (Jingpin)     1011010504   \n",
       "1                      2.10       Chinese Cabbage     1011010101   \n",
       "2                      4.32  Paopaojiao (Jingpin)     1011010504   \n",
       "3                      7.03          Shanghaiqing     1011010101   \n",
       "4                      4.60                Caixin     1011010101   \n",
       "\n",
       "            Category Name  \n",
       "0                Capsicum  \n",
       "1  Flower/Leaf Vegetables  \n",
       "2                Capsicum  \n",
       "3  Flower/Leaf Vegetables  \n",
       "4  Flower/Leaf Vegetables  "
      ]
     },
     "execution_count": 36,
     "metadata": {},
     "output_type": "execute_result"
    }
   ],
   "source": [
    "sales_wholesale_category = pd.merge(sales_wholesale_combine_data, item_category, how=\"left\", on=\"Item Code\")\n",
    "sales_wholesale_category.head()"
   ]
  },
  {
   "cell_type": "code",
   "execution_count": 37,
   "id": "4f02c9d6",
   "metadata": {},
   "outputs": [
    {
     "data": {
      "text/html": [
       "<div>\n",
       "<style scoped>\n",
       "    .dataframe tbody tr th:only-of-type {\n",
       "        vertical-align: middle;\n",
       "    }\n",
       "\n",
       "    .dataframe tbody tr th {\n",
       "        vertical-align: top;\n",
       "    }\n",
       "\n",
       "    .dataframe thead th {\n",
       "        text-align: right;\n",
       "    }\n",
       "</style>\n",
       "<table border=\"1\" class=\"dataframe\">\n",
       "  <thead>\n",
       "    <tr style=\"text-align: right;\">\n",
       "      <th></th>\n",
       "      <th>Date</th>\n",
       "      <th>Time</th>\n",
       "      <th>Item Code</th>\n",
       "      <th>Quantity Sold (kilo)</th>\n",
       "      <th>Unit Selling Price (RMB/kg)</th>\n",
       "      <th>Sale or Return</th>\n",
       "      <th>Discount (Yes/No)</th>\n",
       "      <th>Wholesale Price (RMB/kg)</th>\n",
       "      <th>Item Name</th>\n",
       "      <th>Category Code</th>\n",
       "      <th>Category Name</th>\n",
       "      <th>Loss Rate (%)</th>\n",
       "    </tr>\n",
       "  </thead>\n",
       "  <tbody>\n",
       "    <tr>\n",
       "      <th>0</th>\n",
       "      <td>2020-07-01</td>\n",
       "      <td>09:15:07.924</td>\n",
       "      <td>102900005117056</td>\n",
       "      <td>0.396</td>\n",
       "      <td>7.6</td>\n",
       "      <td>sale</td>\n",
       "      <td>No</td>\n",
       "      <td>4.32</td>\n",
       "      <td>Paopaojiao (Jingpin)</td>\n",
       "      <td>1011010504</td>\n",
       "      <td>Capsicum</td>\n",
       "      <td>7.08</td>\n",
       "    </tr>\n",
       "    <tr>\n",
       "      <th>1</th>\n",
       "      <td>2020-07-01</td>\n",
       "      <td>09:17:27.295</td>\n",
       "      <td>102900005115960</td>\n",
       "      <td>0.849</td>\n",
       "      <td>3.2</td>\n",
       "      <td>sale</td>\n",
       "      <td>No</td>\n",
       "      <td>2.10</td>\n",
       "      <td>Chinese Cabbage</td>\n",
       "      <td>1011010101</td>\n",
       "      <td>Flower/Leaf Vegetables</td>\n",
       "      <td>22.27</td>\n",
       "    </tr>\n",
       "    <tr>\n",
       "      <th>2</th>\n",
       "      <td>2020-07-01</td>\n",
       "      <td>09:17:33.905</td>\n",
       "      <td>102900005117056</td>\n",
       "      <td>0.409</td>\n",
       "      <td>7.6</td>\n",
       "      <td>sale</td>\n",
       "      <td>No</td>\n",
       "      <td>4.32</td>\n",
       "      <td>Paopaojiao (Jingpin)</td>\n",
       "      <td>1011010504</td>\n",
       "      <td>Capsicum</td>\n",
       "      <td>7.08</td>\n",
       "    </tr>\n",
       "    <tr>\n",
       "      <th>3</th>\n",
       "      <td>2020-07-01</td>\n",
       "      <td>09:19:45.450</td>\n",
       "      <td>102900005115823</td>\n",
       "      <td>0.421</td>\n",
       "      <td>10.0</td>\n",
       "      <td>sale</td>\n",
       "      <td>No</td>\n",
       "      <td>7.03</td>\n",
       "      <td>Shanghaiqing</td>\n",
       "      <td>1011010101</td>\n",
       "      <td>Flower/Leaf Vegetables</td>\n",
       "      <td>14.43</td>\n",
       "    </tr>\n",
       "    <tr>\n",
       "      <th>4</th>\n",
       "      <td>2020-07-01</td>\n",
       "      <td>09:20:23.686</td>\n",
       "      <td>102900005115908</td>\n",
       "      <td>0.539</td>\n",
       "      <td>8.0</td>\n",
       "      <td>sale</td>\n",
       "      <td>No</td>\n",
       "      <td>4.60</td>\n",
       "      <td>Caixin</td>\n",
       "      <td>1011010101</td>\n",
       "      <td>Flower/Leaf Vegetables</td>\n",
       "      <td>13.70</td>\n",
       "    </tr>\n",
       "  </tbody>\n",
       "</table>\n",
       "</div>"
      ],
      "text/plain": [
       "        Date          Time        Item Code  Quantity Sold (kilo)  \\\n",
       "0 2020-07-01  09:15:07.924  102900005117056                 0.396   \n",
       "1 2020-07-01  09:17:27.295  102900005115960                 0.849   \n",
       "2 2020-07-01  09:17:33.905  102900005117056                 0.409   \n",
       "3 2020-07-01  09:19:45.450  102900005115823                 0.421   \n",
       "4 2020-07-01  09:20:23.686  102900005115908                 0.539   \n",
       "\n",
       "   Unit Selling Price (RMB/kg) Sale or Return Discount (Yes/No)  \\\n",
       "0                          7.6           sale                No   \n",
       "1                          3.2           sale                No   \n",
       "2                          7.6           sale                No   \n",
       "3                         10.0           sale                No   \n",
       "4                          8.0           sale                No   \n",
       "\n",
       "   Wholesale Price (RMB/kg)             Item Name  Category Code  \\\n",
       "0                      4.32  Paopaojiao (Jingpin)     1011010504   \n",
       "1                      2.10       Chinese Cabbage     1011010101   \n",
       "2                      4.32  Paopaojiao (Jingpin)     1011010504   \n",
       "3                      7.03          Shanghaiqing     1011010101   \n",
       "4                      4.60                Caixin     1011010101   \n",
       "\n",
       "            Category Name  Loss Rate (%)  \n",
       "0                Capsicum           7.08  \n",
       "1  Flower/Leaf Vegetables          22.27  \n",
       "2                Capsicum           7.08  \n",
       "3  Flower/Leaf Vegetables          14.43  \n",
       "4  Flower/Leaf Vegetables          13.70  "
      ]
     },
     "execution_count": 37,
     "metadata": {},
     "output_type": "execute_result"
    }
   ],
   "source": [
    "final_data = pd.merge(sales_wholesale_category, loss_rate, how=\"left\", on=[\"Item Code\", \"Item Name\"])\n",
    "final_data.head()"
   ]
  },
  {
   "cell_type": "code",
   "execution_count": 38,
   "id": "f4140c18",
   "metadata": {},
   "outputs": [
    {
     "name": "stdout",
     "output_type": "stream",
     "text": [
      "['Date', 'Time', 'Item Code', 'Quantity Sold (kilo)', 'Unit Selling Price (RMB/kg)', 'Sale or Return', 'Discount (Yes/No)', 'Wholesale Price (RMB/kg)', 'Item Name', 'Category Code', 'Category Name', 'Loss Rate (%)']\n"
     ]
    }
   ],
   "source": [
    "print(final_data.columns.tolist())"
   ]
  },
  {
   "cell_type": "code",
   "execution_count": 39,
   "id": "ef5d5809",
   "metadata": {},
   "outputs": [],
   "source": [
    "final_data.columns=final_data.columns.str.strip()"
   ]
  },
  {
   "cell_type": "code",
   "execution_count": 40,
   "id": "155eab93",
   "metadata": {},
   "outputs": [
    {
     "name": "stdout",
     "output_type": "stream",
     "text": [
      "'Date'\n",
      "'Time'\n",
      "'Item Code'\n",
      "'Quantity Sold (kilo)'\n",
      "'Unit Selling Price (RMB/kg)'\n",
      "'Sale or Return'\n",
      "'Discount (Yes/No)'\n",
      "'Wholesale Price (RMB/kg)'\n",
      "'Item Name'\n",
      "'Category Code'\n",
      "'Category Name'\n",
      "'Loss Rate (%)'\n"
     ]
    }
   ],
   "source": [
    "for col in final_data.columns:\n",
    "    print(repr(col))"
   ]
  },
  {
   "cell_type": "code",
   "execution_count": 41,
   "id": "e2e54382",
   "metadata": {},
   "outputs": [],
   "source": [
    "final_data['total_sales'] = final_data['Quantity Sold (kilo)']*final_data['Unit Selling Price (RMB/kg)']\n"
   ]
  },
  {
   "cell_type": "code",
   "execution_count": 42,
   "id": "1f4cb4c7",
   "metadata": {},
   "outputs": [
    {
     "data": {
      "text/html": [
       "<div>\n",
       "<style scoped>\n",
       "    .dataframe tbody tr th:only-of-type {\n",
       "        vertical-align: middle;\n",
       "    }\n",
       "\n",
       "    .dataframe tbody tr th {\n",
       "        vertical-align: top;\n",
       "    }\n",
       "\n",
       "    .dataframe thead th {\n",
       "        text-align: right;\n",
       "    }\n",
       "</style>\n",
       "<table border=\"1\" class=\"dataframe\">\n",
       "  <thead>\n",
       "    <tr style=\"text-align: right;\">\n",
       "      <th></th>\n",
       "      <th>Date</th>\n",
       "      <th>Time</th>\n",
       "      <th>Item Code</th>\n",
       "      <th>Quantity Sold (kilo)</th>\n",
       "      <th>Unit Selling Price (RMB/kg)</th>\n",
       "      <th>Sale or Return</th>\n",
       "      <th>Discount (Yes/No)</th>\n",
       "      <th>Wholesale Price (RMB/kg)</th>\n",
       "      <th>Item Name</th>\n",
       "      <th>Category Code</th>\n",
       "      <th>Category Name</th>\n",
       "      <th>Loss Rate (%)</th>\n",
       "      <th>total_sales</th>\n",
       "    </tr>\n",
       "  </thead>\n",
       "  <tbody>\n",
       "    <tr>\n",
       "      <th>0</th>\n",
       "      <td>2020-07-01</td>\n",
       "      <td>09:15:07.924</td>\n",
       "      <td>102900005117056</td>\n",
       "      <td>0.396</td>\n",
       "      <td>7.6</td>\n",
       "      <td>sale</td>\n",
       "      <td>No</td>\n",
       "      <td>4.32</td>\n",
       "      <td>Paopaojiao (Jingpin)</td>\n",
       "      <td>1011010504</td>\n",
       "      <td>Capsicum</td>\n",
       "      <td>7.08</td>\n",
       "      <td>3.0096</td>\n",
       "    </tr>\n",
       "    <tr>\n",
       "      <th>1</th>\n",
       "      <td>2020-07-01</td>\n",
       "      <td>09:17:27.295</td>\n",
       "      <td>102900005115960</td>\n",
       "      <td>0.849</td>\n",
       "      <td>3.2</td>\n",
       "      <td>sale</td>\n",
       "      <td>No</td>\n",
       "      <td>2.10</td>\n",
       "      <td>Chinese Cabbage</td>\n",
       "      <td>1011010101</td>\n",
       "      <td>Flower/Leaf Vegetables</td>\n",
       "      <td>22.27</td>\n",
       "      <td>2.7168</td>\n",
       "    </tr>\n",
       "    <tr>\n",
       "      <th>2</th>\n",
       "      <td>2020-07-01</td>\n",
       "      <td>09:17:33.905</td>\n",
       "      <td>102900005117056</td>\n",
       "      <td>0.409</td>\n",
       "      <td>7.6</td>\n",
       "      <td>sale</td>\n",
       "      <td>No</td>\n",
       "      <td>4.32</td>\n",
       "      <td>Paopaojiao (Jingpin)</td>\n",
       "      <td>1011010504</td>\n",
       "      <td>Capsicum</td>\n",
       "      <td>7.08</td>\n",
       "      <td>3.1084</td>\n",
       "    </tr>\n",
       "    <tr>\n",
       "      <th>3</th>\n",
       "      <td>2020-07-01</td>\n",
       "      <td>09:19:45.450</td>\n",
       "      <td>102900005115823</td>\n",
       "      <td>0.421</td>\n",
       "      <td>10.0</td>\n",
       "      <td>sale</td>\n",
       "      <td>No</td>\n",
       "      <td>7.03</td>\n",
       "      <td>Shanghaiqing</td>\n",
       "      <td>1011010101</td>\n",
       "      <td>Flower/Leaf Vegetables</td>\n",
       "      <td>14.43</td>\n",
       "      <td>4.2100</td>\n",
       "    </tr>\n",
       "    <tr>\n",
       "      <th>4</th>\n",
       "      <td>2020-07-01</td>\n",
       "      <td>09:20:23.686</td>\n",
       "      <td>102900005115908</td>\n",
       "      <td>0.539</td>\n",
       "      <td>8.0</td>\n",
       "      <td>sale</td>\n",
       "      <td>No</td>\n",
       "      <td>4.60</td>\n",
       "      <td>Caixin</td>\n",
       "      <td>1011010101</td>\n",
       "      <td>Flower/Leaf Vegetables</td>\n",
       "      <td>13.70</td>\n",
       "      <td>4.3120</td>\n",
       "    </tr>\n",
       "  </tbody>\n",
       "</table>\n",
       "</div>"
      ],
      "text/plain": [
       "        Date          Time        Item Code  Quantity Sold (kilo)  \\\n",
       "0 2020-07-01  09:15:07.924  102900005117056                 0.396   \n",
       "1 2020-07-01  09:17:27.295  102900005115960                 0.849   \n",
       "2 2020-07-01  09:17:33.905  102900005117056                 0.409   \n",
       "3 2020-07-01  09:19:45.450  102900005115823                 0.421   \n",
       "4 2020-07-01  09:20:23.686  102900005115908                 0.539   \n",
       "\n",
       "   Unit Selling Price (RMB/kg) Sale or Return Discount (Yes/No)  \\\n",
       "0                          7.6           sale                No   \n",
       "1                          3.2           sale                No   \n",
       "2                          7.6           sale                No   \n",
       "3                         10.0           sale                No   \n",
       "4                          8.0           sale                No   \n",
       "\n",
       "   Wholesale Price (RMB/kg)             Item Name  Category Code  \\\n",
       "0                      4.32  Paopaojiao (Jingpin)     1011010504   \n",
       "1                      2.10       Chinese Cabbage     1011010101   \n",
       "2                      4.32  Paopaojiao (Jingpin)     1011010504   \n",
       "3                      7.03          Shanghaiqing     1011010101   \n",
       "4                      4.60                Caixin     1011010101   \n",
       "\n",
       "            Category Name  Loss Rate (%)  total_sales  \n",
       "0                Capsicum           7.08       3.0096  \n",
       "1  Flower/Leaf Vegetables          22.27       2.7168  \n",
       "2                Capsicum           7.08       3.1084  \n",
       "3  Flower/Leaf Vegetables          14.43       4.2100  \n",
       "4  Flower/Leaf Vegetables          13.70       4.3120  "
      ]
     },
     "execution_count": 42,
     "metadata": {},
     "output_type": "execute_result"
    }
   ],
   "source": [
    "final_data.head()"
   ]
  },
  {
   "cell_type": "code",
   "execution_count": 43,
   "id": "ae41a3b5",
   "metadata": {},
   "outputs": [
    {
     "data": {
      "text/plain": [
       "Date                           0\n",
       "Time                           0\n",
       "Item Code                      0\n",
       "Quantity Sold (kilo)           0\n",
       "Unit Selling Price (RMB/kg)    0\n",
       "Sale or Return                 0\n",
       "Discount (Yes/No)              0\n",
       "Wholesale Price (RMB/kg)       0\n",
       "Item Name                      0\n",
       "Category Code                  0\n",
       "Category Name                  0\n",
       "Loss Rate (%)                  0\n",
       "total_sales                    0\n",
       "dtype: int64"
      ]
     },
     "execution_count": 43,
     "metadata": {},
     "output_type": "execute_result"
    }
   ],
   "source": [
    "final_data.isnull().sum()"
   ]
  },
  {
   "cell_type": "code",
   "execution_count": 44,
   "id": "0cd389c0",
   "metadata": {},
   "outputs": [
    {
     "data": {
      "text/plain": [
       "6"
      ]
     },
     "execution_count": 44,
     "metadata": {},
     "output_type": "execute_result"
    }
   ],
   "source": [
    "final_data[\"Item Name\"].nunique()\n",
    "final_data[\"Category Name\"].nunique()"
   ]
  },
  {
   "cell_type": "code",
   "execution_count": 45,
   "id": "0f38005e",
   "metadata": {},
   "outputs": [],
   "source": [
    "category_name_wise_sales = final_data.groupby(\"Category Name\")[\"total_sales\"].sum().reset_index()\n",
    "category_name_wise_sales[\"total_sales\"] = category_name_wise_sales[\"total_sales\"].astype(int)"
   ]
  },
  {
   "cell_type": "code",
   "execution_count": 46,
   "id": "fcc8bcb3",
   "metadata": {},
   "outputs": [
    {
     "data": {
      "text/html": [
       "<div>\n",
       "<style scoped>\n",
       "    .dataframe tbody tr th:only-of-type {\n",
       "        vertical-align: middle;\n",
       "    }\n",
       "\n",
       "    .dataframe tbody tr th {\n",
       "        vertical-align: top;\n",
       "    }\n",
       "\n",
       "    .dataframe thead th {\n",
       "        text-align: right;\n",
       "    }\n",
       "</style>\n",
       "<table border=\"1\" class=\"dataframe\">\n",
       "  <thead>\n",
       "    <tr style=\"text-align: right;\">\n",
       "      <th></th>\n",
       "      <th>Category Name</th>\n",
       "      <th>total_sales</th>\n",
       "    </tr>\n",
       "  </thead>\n",
       "  <tbody>\n",
       "    <tr>\n",
       "      <th>0</th>\n",
       "      <td>Aquatic Tuberous Vegetables</td>\n",
       "      <td>350089</td>\n",
       "    </tr>\n",
       "    <tr>\n",
       "      <th>1</th>\n",
       "      <td>Cabbage</td>\n",
       "      <td>375751</td>\n",
       "    </tr>\n",
       "    <tr>\n",
       "      <th>2</th>\n",
       "      <td>Capsicum</td>\n",
       "      <td>754133</td>\n",
       "    </tr>\n",
       "    <tr>\n",
       "      <th>3</th>\n",
       "      <td>Edible Mushroom</td>\n",
       "      <td>619597</td>\n",
       "    </tr>\n",
       "    <tr>\n",
       "      <th>4</th>\n",
       "      <td>Flower/Leaf Vegetables</td>\n",
       "      <td>1079069</td>\n",
       "    </tr>\n",
       "    <tr>\n",
       "      <th>5</th>\n",
       "      <td>Solanum</td>\n",
       "      <td>191124</td>\n",
       "    </tr>\n",
       "  </tbody>\n",
       "</table>\n",
       "</div>"
      ],
      "text/plain": [
       "                 Category Name  total_sales\n",
       "0  Aquatic Tuberous Vegetables       350089\n",
       "1                      Cabbage       375751\n",
       "2                     Capsicum       754133\n",
       "3              Edible Mushroom       619597\n",
       "4       Flower/Leaf Vegetables      1079069\n",
       "5                      Solanum       191124"
      ]
     },
     "execution_count": 46,
     "metadata": {},
     "output_type": "execute_result"
    }
   ],
   "source": [
    "category_name_wise_sales"
   ]
  },
  {
   "cell_type": "code",
   "execution_count": 47,
   "id": "7aeb48c3",
   "metadata": {},
   "outputs": [
    {
     "data": {
      "image/png": "[encoded data removed]",
      "text/plain": [
       "<Figure size 2000x600 with 1 Axes>"
      ]
     },
     "metadata": {},
     "output_type": "display_data"
    }
   ],
   "source": [
    "plt.figure(figsize=(20, 6))\n",
    "plt.bar(category_name_wise_sales[\"Category Name\"], category_name_wise_sales[\"total_sales\"], color='blue')\n",
    "plt.xlabel(\"Category Name\")\n",
    "plt.ylabel(\"Total Sales (RMB)\")\n",
    "plt.title(\"category_name_wise_sales\")\n",
    "plt.xticks(rotation=45, ha='right')\n",
    "plt.savefig('category_name_wise_sales.png')\n",
    "plt.show()"
   ]
  },
  {
   "cell_type": "code",
   "execution_count": 48,
   "id": "641ef5e8",
   "metadata": {},
   "outputs": [
    {
     "data": {
      "image/png": "[encoded data removed]",
      "text/plain": [
       "<Figure size 2000x600 with 1 Axes>"
      ]
     },
     "metadata": {},
     "output_type": "display_data"
    }
   ],
   "source": [
    "plt.figure(figsize=(20, 6))\n",
    "sns.barplot(x=\"Category Name\", y=\"total_sales\", data=category_name_wise_sales)\n",
    "plt.xlabel(\"Category Name\")\n",
    "plt.ylabel(\"Total Sales\")\n",
    "plt.title(\"Category Wise Total Sales\")\n",
    "plt.xticks(rotation=45, ha='right') \n",
    "plt.savefig('category wise total sales.png')\n",
    "plt.show()"
   ]
  },
  {
   "cell_type": "code",
   "execution_count": 49,
   "id": "e9e531b3",
   "metadata": {},
   "outputs": [
    {
     "data": {
      "application/vnd.plotly.v1+json": {
       "config": {
        "plotlyServerURL": "https://plot.ly"
       },
       "data": [
        {
         "hovertemplate": "Category Name=%{x}<br>total_sales=%{y}<extra></extra>",
         "legendgroup": "",
         "marker": {
          "color": "#636efa",
          "pattern": {
           "shape": ""
          }
         },
         "name": "",
         "orientation": "v",
         "showlegend": false,
         "textposition": "auto",
         "type": "bar",
         "x": [
          "Aquatic Tuberous Vegetables",
          "Cabbage",
          "Capsicum",
          "Edible Mushroom",
          "Flower/Leaf Vegetables",
          "Solanum"
         ],
         "xaxis": "x",
         "y": {
          "bdata": "iVcFAMe7BQDVgQsATXQJAB13EACU6gIA",
          "dtype": "i4"
         },
         "yaxis": "y"
        }
       ],
       "layout": {
        "barmode": "relative",
        "legend": {
         "tracegroupgap": 0
        },
        "template": {
         "data": {
          "bar": [
           {
            "error_x": {
             "color": "#2a3f5f"
            },
            "error_y": {
             "color": "#2a3f5f"
            },
            "marker": {
             "line": {
              "color": "#E5ECF6",
              "width": 0.5
             },
             "pattern": {
              "fillmode": "overlay",
              "size": 10,
              "solidity": 0.2
             }
            },
            "type": "bar"
           }
          ],
          "barpolar": [
           {
            "marker": {
             "line": {
              "color": "#E5ECF6",
              "width": 0.5
             },
             "pattern": {
              "fillmode": "overlay",
              "size": 10,
              "solidity": 0.2
             }
            },
            "type": "barpolar"
           }
          ],
          "carpet": [
           {
            "aaxis": {
             "endlinecolor": "#2a3f5f",
             "gridcolor": "white",
             "linecolor": "white",
             "minorgridcolor": "white",
             "startlinecolor": "#2a3f5f"
            },
            "baxis": {
             "endlinecolor": "#2a3f5f",
             "gridcolor": "white",
             "linecolor": "white",
             "minorgridcolor": "white",
             "startlinecolor": "#2a3f5f"
            },
            "type": "carpet"
           }
          ],
          "choropleth": [
           {
            "colorbar": {
             "outlinewidth": 0,
             "ticks": ""
            },
            "type": "choropleth"
           }
          ],
          "contour": [
           {
            "colorbar": {
             "outlinewidth": 0,
             "ticks": ""
            },
            "colorscale": [
             [
              0,
              "#0d0887"
             ],
             [
              0.1111111111111111,
              "#46039f"
             ],
             [
              0.2222222222222222,
              "#7201a8"
             ],
             [
              0.3333333333333333,
              "#9c179e"
             ],
             [
              0.4444444444444444,
              "#bd3786"
             ],
             [
              0.5555555555555556,
              "#d8576b"
             ],
             [
              0.6666666666666666,
              "#ed7953"
             ],
             [
              0.7777777777777778,
              "#fb9f3a"
             ],
             [
              0.8888888888888888,
              "#fdca26"
             ],
             [
              1,
              "#f0f921"
             ]
            ],
            "type": "contour"
           }
          ],
          "contourcarpet": [
           {
            "colorbar": {
             "outlinewidth": 0,
             "ticks": ""
            },
            "type": "contourcarpet"
           }
          ],
          "heatmap": [
           {
            "colorbar": {
             "outlinewidth": 0,
             "ticks": ""
            },
            "colorscale": [
             [
              0,
              "#0d0887"
             ],
             [
              0.1111111111111111,
              "#46039f"
             ],
             [
              0.2222222222222222,
              "#7201a8"
             ],
             [
              0.3333333333333333,
              "#9c179e"
             ],
             [
              0.4444444444444444,
              "#bd3786"
             ],
             [
              0.5555555555555556,
              "#d8576b"
             ],
             [
              0.6666666666666666,
              "#ed7953"
             ],
             [
              0.7777777777777778,
              "#fb9f3a"
             ],
             [
              0.8888888888888888,
              "#fdca26"
             ],
             [
              1,
              "#f0f921"
             ]
            ],
            "type": "heatmap"
           }
          ],
          "histogram": [
           {
            "marker": {
             "pattern": {
              "fillmode": "overlay",
              "size": 10,
              "solidity": 0.2
             }
            },
            "type": "histogram"
           }
          ],
          "histogram2d": [
           {
            "colorbar": {
             "outlinewidth": 0,
             "ticks": ""
            },
            "colorscale": [
             [
              0,
              "#0d0887"
             ],
             [
              0.1111111111111111,
              "#46039f"
             ],
             [
              0.2222222222222222,
              "#7201a8"
             ],
             [
              0.3333333333333333,
              "#9c179e"
             ],
             [
              0.4444444444444444,
              "#bd3786"
             ],
             [
              0.5555555555555556,
              "#d8576b"
             ],
             [
              0.6666666666666666,
              "#ed7953"
             ],
             [
              0.7777777777777778,
              "#fb9f3a"
             ],
             [
              0.8888888888888888,
              "#fdca26"
             ],
             [
              1,
              "#f0f921"
             ]
            ],
            "type": "histogram2d"
           }
          ],
          "histogram2dcontour": [
           {
            "colorbar": {
             "outlinewidth": 0,
             "ticks": ""
            },
            "colorscale": [
             [
              0,
              "#0d0887"
             ],
             [
              0.1111111111111111,
              "#46039f"
             ],
             [
              0.2222222222222222,
              "#7201a8"
             ],
             [
              0.3333333333333333,
              "#9c179e"
             ],
             [
              0.4444444444444444,
              "#bd3786"
             ],
             [
              0.5555555555555556,
              "#d8576b"
             ],
             [
              0.6666666666666666,
              "#ed7953"
             ],
             [
              0.7777777777777778,
              "#fb9f3a"
             ],
             [
              0.8888888888888888,
              "#fdca26"
             ],
             [
              1,
              "#f0f921"
             ]
            ],
            "type": "histogram2dcontour"
           }
          ],
          "mesh3d": [
           {
            "colorbar": {
             "outlinewidth": 0,
             "ticks": ""
            },
            "type": "mesh3d"
           }
          ],
          "parcoords": [
           {
            "line": {
             "colorbar": {
              "outlinewidth": 0,
              "ticks": ""
             }
            },
            "type": "parcoords"
           }
          ],
          "pie": [
           {
            "automargin": true,
            "type": "pie"
           }
          ],
          "scatter": [
           {
            "fillpattern": {
             "fillmode": "overlay",
             "size": 10,
             "solidity": 0.2
            },
            "type": "scatter"
           }
          ],
          "scatter3d": [
           {
            "line": {
             "colorbar": {
              "outlinewidth": 0,
              "ticks": ""
             }
            },
            "marker": {
             "colorbar": {
              "outlinewidth": 0,
              "ticks": ""
             }
            },
            "type": "scatter3d"
           }
          ],
          "scattercarpet": [
           {
            "marker": {
             "colorbar": {
              "outlinewidth": 0,
              "ticks": ""
             }
            },
            "type": "scattercarpet"
           }
          ],
          "scattergeo": [
           {
            "marker": {
             "colorbar": {
              "outlinewidth": 0,
              "ticks": ""
             }
            },
            "type": "scattergeo"
           }
          ],
          "scattergl": [
           {
            "marker": {
             "colorbar": {
              "outlinewidth": 0,
              "ticks": ""
             }
            },
            "type": "scattergl"
           }
          ],
          "scattermap": [
           {
            "marker": {
             "colorbar": {
              "outlinewidth": 0,
              "ticks": ""
             }
            },
            "type": "scattermap"
           }
          ],
          "scattermapbox": [
           {
            "marker": {
             "colorbar": {
              "outlinewidth": 0,
              "ticks": ""
             }
            },
            "type": "scattermapbox"
           }
          ],
          "scatterpolar": [
           {
            "marker": {
             "colorbar": {
              "outlinewidth": 0,
              "ticks": ""
             }
            },
            "type": "scatterpolar"
           }
          ],
          "scatterpolargl": [
           {
            "marker": {
             "colorbar": {
              "outlinewidth": 0,
              "ticks": ""
             }
            },
            "type": "scatterpolargl"
           }
          ],
          "scatterternary": [
           {
            "marker": {
             "colorbar": {
              "outlinewidth": 0,
              "ticks": ""
             }
            },
            "type": "scatterternary"
           }
          ],
          "surface": [
           {
            "colorbar": {
             "outlinewidth": 0,
             "ticks": ""
            },
            "colorscale": [
             [
              0,
              "#0d0887"
             ],
             [
              0.1111111111111111,
              "#46039f"
             ],
             [
              0.2222222222222222,
              "#7201a8"
             ],
             [
              0.3333333333333333,
              "#9c179e"
             ],
             [
              0.4444444444444444,
              "#bd3786"
             ],
             [
              0.5555555555555556,
              "#d8576b"
             ],
             [
              0.6666666666666666,
              "#ed7953"
             ],
             [
              0.7777777777777778,
              "#fb9f3a"
             ],
             [
              0.8888888888888888,
              "#fdca26"
             ],
             [
              1,
              "#f0f921"
             ]
            ],
            "type": "surface"
           }
          ],
          "table": [
           {
            "cells": {
             "fill": {
              "color": "#EBF0F8"
             },
             "line": {
              "color": "white"
             }
            },
            "header": {
             "fill": {
              "color": "#C8D4E3"
             },
             "line": {
              "color": "white"
             }
            },
            "type": "table"
           }
          ]
         },
         "layout": {
          "annotationdefaults": {
           "arrowcolor": "#2a3f5f",
           "arrowhead": 0,
           "arrowwidth": 1
          },
          "autotypenumbers": "strict",
          "coloraxis": {
           "colorbar": {
            "outlinewidth": 0,
            "ticks": ""
           }
          },
          "colorscale": {
           "diverging": [
            [
             0,
             "#8e0152"
            ],
            [
             0.1,
             "#c51b7d"
            ],
            [
             0.2,
             "#de77ae"
            ],
            [
             0.3,
             "#f1b6da"
            ],
            [
             0.4,
             "#fde0ef"
            ],
            [
             0.5,
             "#f7f7f7"
            ],
            [
             0.6,
             "#e6f5d0"
            ],
            [
             0.7,
             "#b8e186"
            ],
            [
             0.8,
             "#7fbc41"
            ],
            [
             0.9,
             "#4d9221"
            ],
            [
             1,
             "#276419"
            ]
           ],
           "sequential": [
            [
             0,
             "#0d0887"
            ],
            [
             0.1111111111111111,
             "#46039f"
            ],
            [
             0.2222222222222222,
             "#7201a8"
            ],
            [
             0.3333333333333333,
             "#9c179e"
            ],
            [
             0.4444444444444444,
             "#bd3786"
            ],
            [
             0.5555555555555556,
             "#d8576b"
            ],
            [
             0.6666666666666666,
             "#ed7953"
            ],
            [
             0.7777777777777778,
             "#fb9f3a"
            ],
            [
             0.8888888888888888,
             "#fdca26"
            ],
            [
             1,
             "#f0f921"
            ]
           ],
           "sequentialminus": [
            [
             0,
             "#0d0887"
            ],
            [
             0.1111111111111111,
             "#46039f"
            ],
            [
             0.2222222222222222,
             "#7201a8"
            ],
            [
             0.3333333333333333,
             "#9c179e"
            ],
            [
             0.4444444444444444,
             "#bd3786"
            ],
            [
             0.5555555555555556,
             "#d8576b"
            ],
            [
             0.6666666666666666,
             "#ed7953"
            ],
            [
             0.7777777777777778,
             "#fb9f3a"
            ],
            [
             0.8888888888888888,
             "#fdca26"
            ],
            [
             1,
             "#f0f921"
            ]
           ]
          },
          "colorway": [
           "#636efa",
           "#EF553B",
           "#00cc96",
           "#ab63fa",
           "#FFA15A",
           "#19d3f3",
           "#FF6692",
           "#B6E880",
           "#FF97FF",
           "#FECB52"
          ],
          "font": {
           "color": "#2a3f5f"
          },
          "geo": {
           "bgcolor": "white",
           "lakecolor": "white",
           "landcolor": "#E5ECF6",
           "showlakes": true,
           "showland": true,
           "subunitcolor": "white"
          },
          "hoverlabel": {
           "align": "left"
          },
          "hovermode": "closest",
          "mapbox": {
           "style": "light"
          },
          "paper_bgcolor": "white",
          "plot_bgcolor": "#E5ECF6",
          "polar": {
           "angularaxis": {
            "gridcolor": "white",
            "linecolor": "white",
            "ticks": ""
           },
           "bgcolor": "#E5ECF6",
           "radialaxis": {
            "gridcolor": "white",
            "linecolor": "white",
            "ticks": ""
           }
          },
          "scene": {
           "xaxis": {
            "backgroundcolor": "#E5ECF6",
            "gridcolor": "white",
            "gridwidth": 2,
            "linecolor": "white",
            "showbackground": true,
            "ticks": "",
            "zerolinecolor": "white"
           },
           "yaxis": {
            "backgroundcolor": "#E5ECF6",
            "gridcolor": "white",
            "gridwidth": 2,
            "linecolor": "white",
            "showbackground": true,
            "ticks": "",
            "zerolinecolor": "white"
           },
           "zaxis": {
            "backgroundcolor": "#E5ECF6",
            "gridcolor": "white",
            "gridwidth": 2,
            "linecolor": "white",
            "showbackground": true,
            "ticks": "",
            "zerolinecolor": "white"
           }
          },
          "shapedefaults": {
           "line": {
            "color": "#2a3f5f"
           }
          },
          "ternary": {
           "aaxis": {
            "gridcolor": "white",
            "linecolor": "white",
            "ticks": ""
           },
           "baxis": {
            "gridcolor": "white",
            "linecolor": "white",
            "ticks": ""
           },
           "bgcolor": "#E5ECF6",
           "caxis": {
            "gridcolor": "white",
            "linecolor": "white",
            "ticks": ""
           }
          },
          "title": {
           "x": 0.05
          },
          "xaxis": {
           "automargin": true,
           "gridcolor": "white",
           "linecolor": "white",
           "ticks": "",
           "title": {
            "standoff": 15
           },
           "zerolinecolor": "white",
           "zerolinewidth": 2
          },
          "yaxis": {
           "automargin": true,
           "gridcolor": "white",
           "linecolor": "white",
           "ticks": "",
           "title": {
            "standoff": 15
           },
           "zerolinecolor": "white",
           "zerolinewidth": 2
          }
         }
        },
        "title": {
         "text": "Category Wise Total Sales"
        },
        "xaxis": {
         "anchor": "y",
         "domain": [
          0,
          1
         ],
         "tickangle": 45,
         "title": {
          "text": "Category Name"
         }
        },
        "yaxis": {
         "anchor": "x",
         "domain": [
          0,
          1
         ],
         "title": {
          "text": "total_sales"
         }
        }
       }
      }
     },
     "metadata": {},
     "output_type": "display_data"
    },
    {
     "data": {
      "text/plain": [
       "<Figure size 640x480 with 0 Axes>"
      ]
     },
     "metadata": {},
     "output_type": "display_data"
    }
   ],
   "source": [
    "fig = px.bar(category_name_wise_sales, x='Category Name', y='total_sales', title='Category Wise Total Sales')\n",
    "fig.update_layout(xaxis=dict(tickangle=45))\n",
    "plt.savefig('category name.png')\n",
    "fig.show()"
   ]
  },
  {
   "cell_type": "code",
   "execution_count": 50,
   "id": "719142b3",
   "metadata": {},
   "outputs": [
    {
     "data": {
      "text/html": [
       "<div>\n",
       "<style scoped>\n",
       "    .dataframe tbody tr th:only-of-type {\n",
       "        vertical-align: middle;\n",
       "    }\n",
       "\n",
       "    .dataframe tbody tr th {\n",
       "        vertical-align: top;\n",
       "    }\n",
       "\n",
       "    .dataframe thead th {\n",
       "        text-align: right;\n",
       "    }\n",
       "</style>\n",
       "<table border=\"1\" class=\"dataframe\">\n",
       "  <thead>\n",
       "    <tr style=\"text-align: right;\">\n",
       "      <th></th>\n",
       "      <th>Category Name</th>\n",
       "      <th>total_sales</th>\n",
       "    </tr>\n",
       "  </thead>\n",
       "  <tbody>\n",
       "    <tr>\n",
       "      <th>0</th>\n",
       "      <td>Aquatic Tuberous Vegetables</td>\n",
       "      <td>350089</td>\n",
       "    </tr>\n",
       "    <tr>\n",
       "      <th>1</th>\n",
       "      <td>Cabbage</td>\n",
       "      <td>375751</td>\n",
       "    </tr>\n",
       "    <tr>\n",
       "      <th>2</th>\n",
       "      <td>Capsicum</td>\n",
       "      <td>754133</td>\n",
       "    </tr>\n",
       "    <tr>\n",
       "      <th>3</th>\n",
       "      <td>Edible Mushroom</td>\n",
       "      <td>619597</td>\n",
       "    </tr>\n",
       "    <tr>\n",
       "      <th>4</th>\n",
       "      <td>Flower/Leaf Vegetables</td>\n",
       "      <td>1079069</td>\n",
       "    </tr>\n",
       "    <tr>\n",
       "      <th>5</th>\n",
       "      <td>Solanum</td>\n",
       "      <td>191124</td>\n",
       "    </tr>\n",
       "  </tbody>\n",
       "</table>\n",
       "</div>"
      ],
      "text/plain": [
       "                 Category Name  total_sales\n",
       "0  Aquatic Tuberous Vegetables       350089\n",
       "1                      Cabbage       375751\n",
       "2                     Capsicum       754133\n",
       "3              Edible Mushroom       619597\n",
       "4       Flower/Leaf Vegetables      1079069\n",
       "5                      Solanum       191124"
      ]
     },
     "execution_count": 50,
     "metadata": {},
     "output_type": "execute_result"
    }
   ],
   "source": [
    "category_name_wise_sales"
   ]
  },
  {
   "cell_type": "code",
   "execution_count": 51,
   "id": "ab8c996e",
   "metadata": {},
   "outputs": [
    {
     "data": {
      "image/png": "[encoded data removed]",
      "text/plain": [
       "<Figure size 500x500 with 1 Axes>"
      ]
     },
     "metadata": {},
     "output_type": "display_data"
    }
   ],
   "source": [
    "plt.figure(figsize=(5, 5))\n",
    "plt.pie(category_name_wise_sales['total_sales'], labels=category_name_wise_sales['Category Name'], autopct='%1.2f%%')\n",
    "plt.title('Category Wise Total Sales Distribution')\n",
    "plt.savefig('saleDistribution.png')\n",
    "plt.show()"
   ]
  },
  {
   "cell_type": "code",
   "execution_count": 52,
   "id": "d0e2accc",
   "metadata": {},
   "outputs": [
    {
     "data": {
      "image/png": "[encoded data removed]",
      "text/plain": [
       "<Figure size 500x500 with 1 Axes>"
      ]
     },
     "metadata": {},
     "output_type": "display_data"
    }
   ],
   "source": [
    "plt.figure(figsize=(5, 5))\n",
    "plt.pie(category_name_wise_sales['total_sales'], labels=category_name_wise_sales['Category Name'], autopct='%1.2f%%')\n",
    "plt.title('pie chart of category wise total sales')\n",
    "plt.savefig('PieChartCategoryTotalSale.png')\n",
    "plt.show()"
   ]
  },
  {
   "cell_type": "code",
   "execution_count": 53,
   "id": "6a36651d",
   "metadata": {},
   "outputs": [
    {
     "data": {
      "application/vnd.plotly.v1+json": {
       "config": {
        "plotlyServerURL": "https://plot.ly"
       },
       "data": [
        {
         "domain": {
          "x": [
           0,
           1
          ],
          "y": [
           0,
           1
          ]
         },
         "hovertemplate": "Category Name=%{label}<br>total_sales=%{value}<extra></extra>",
         "labels": [
          "Aquatic Tuberous Vegetables",
          "Cabbage",
          "Capsicum",
          "Edible Mushroom",
          "Flower/Leaf Vegetables",
          "Solanum"
         ],
         "legendgroup": "",
         "name": "",
         "showlegend": true,
         "type": "pie",
         "values": {
          "bdata": "iVcFAMe7BQDVgQsATXQJAB13EACU6gIA",
          "dtype": "i4"
         }
        }
       ],
       "layout": {
        "legend": {
         "tracegroupgap": 0
        },
        "template": {
         "data": {
          "bar": [
           {
            "error_x": {
             "color": "#2a3f5f"
            },
            "error_y": {
             "color": "#2a3f5f"
            },
            "marker": {
             "line": {
              "color": "#E5ECF6",
              "width": 0.5
             },
             "pattern": {
              "fillmode": "overlay",
              "size": 10,
              "solidity": 0.2
             }
            },
            "type": "bar"
           }
          ],
          "barpolar": [
           {
            "marker": {
             "line": {
              "color": "#E5ECF6",
              "width": 0.5
             },
             "pattern": {
              "fillmode": "overlay",
              "size": 10,
              "solidity": 0.2
             }
            },
            "type": "barpolar"
           }
          ],
          "carpet": [
           {
            "aaxis": {
             "endlinecolor": "#2a3f5f",
             "gridcolor": "white",
             "linecolor": "white",
             "minorgridcolor": "white",
             "startlinecolor": "#2a3f5f"
            },
            "baxis": {
             "endlinecolor": "#2a3f5f",
             "gridcolor": "white",
             "linecolor": "white",
             "minorgridcolor": "white",
             "startlinecolor": "#2a3f5f"
            },
            "type": "carpet"
           }
          ],
          "choropleth": [
           {
            "colorbar": {
             "outlinewidth": 0,
             "ticks": ""
            },
            "type": "choropleth"
           }
          ],
          "contour": [
           {
            "colorbar": {
             "outlinewidth": 0,
             "ticks": ""
            },
            "colorscale": [
             [
              0,
              "#0d0887"
             ],
             [
              0.1111111111111111,
              "#46039f"
             ],
             [
              0.2222222222222222,
              "#7201a8"
             ],
             [
              0.3333333333333333,
              "#9c179e"
             ],
             [
              0.4444444444444444,
              "#bd3786"
             ],
             [
              0.5555555555555556,
              "#d8576b"
             ],
             [
              0.6666666666666666,
              "#ed7953"
             ],
             [
              0.7777777777777778,
              "#fb9f3a"
             ],
             [
              0.8888888888888888,
              "#fdca26"
             ],
             [
              1,
              "#f0f921"
             ]
            ],
            "type": "contour"
           }
          ],
          "contourcarpet": [
           {
            "colorbar": {
             "outlinewidth": 0,
             "ticks": ""
            },
            "type": "contourcarpet"
           }
          ],
          "heatmap": [
           {
            "colorbar": {
             "outlinewidth": 0,
             "ticks": ""
            },
            "colorscale": [
             [
              0,
              "#0d0887"
             ],
             [
              0.1111111111111111,
              "#46039f"
             ],
             [
              0.2222222222222222,
              "#7201a8"
             ],
             [
              0.3333333333333333,
              "#9c179e"
             ],
             [
              0.4444444444444444,
              "#bd3786"
             ],
             [
              0.5555555555555556,
              "#d8576b"
             ],
             [
              0.6666666666666666,
              "#ed7953"
             ],
             [
              0.7777777777777778,
              "#fb9f3a"
             ],
             [
              0.8888888888888888,
              "#fdca26"
             ],
             [
              1,
              "#f0f921"
             ]
            ],
            "type": "heatmap"
           }
          ],
          "histogram": [
           {
            "marker": {
             "pattern": {
              "fillmode": "overlay",
              "size": 10,
              "solidity": 0.2
             }
            },
            "type": "histogram"
           }
          ],
          "histogram2d": [
           {
            "colorbar": {
             "outlinewidth": 0,
             "ticks": ""
            },
            "colorscale": [
             [
              0,
              "#0d0887"
             ],
             [
              0.1111111111111111,
              "#46039f"
             ],
             [
              0.2222222222222222,
              "#7201a8"
             ],
             [
              0.3333333333333333,
              "#9c179e"
             ],
             [
              0.4444444444444444,
              "#bd3786"
             ],
             [
              0.5555555555555556,
              "#d8576b"
             ],
             [
              0.6666666666666666,
              "#ed7953"
             ],
             [
              0.7777777777777778,
              "#fb9f3a"
             ],
             [
              0.8888888888888888,
              "#fdca26"
             ],
             [
              1,
              "#f0f921"
             ]
            ],
            "type": "histogram2d"
           }
          ],
          "histogram2dcontour": [
           {
            "colorbar": {
             "outlinewidth": 0,
             "ticks": ""
            },
            "colorscale": [
             [
              0,
              "#0d0887"
             ],
             [
              0.1111111111111111,
              "#46039f"
             ],
             [
              0.2222222222222222,
              "#7201a8"
             ],
             [
              0.3333333333333333,
              "#9c179e"
             ],
             [
              0.4444444444444444,
              "#bd3786"
             ],
             [
              0.5555555555555556,
              "#d8576b"
             ],
             [
              0.6666666666666666,
              "#ed7953"
             ],
             [
              0.7777777777777778,
              "#fb9f3a"
             ],
             [
              0.8888888888888888,
              "#fdca26"
             ],
             [
              1,
              "#f0f921"
             ]
            ],
            "type": "histogram2dcontour"
           }
          ],
          "mesh3d": [
           {
            "colorbar": {
             "outlinewidth": 0,
             "ticks": ""
            },
            "type": "mesh3d"
           }
          ],
          "parcoords": [
           {
            "line": {
             "colorbar": {
              "outlinewidth": 0,
              "ticks": ""
             }
            },
            "type": "parcoords"
           }
          ],
          "pie": [
           {
            "automargin": true,
            "type": "pie"
           }
          ],
          "scatter": [
           {
            "fillpattern": {
             "fillmode": "overlay",
             "size": 10,
             "solidity": 0.2
            },
            "type": "scatter"
           }
          ],
          "scatter3d": [
           {
            "line": {
             "colorbar": {
              "outlinewidth": 0,
              "ticks": ""
             }
            },
            "marker": {
             "colorbar": {
              "outlinewidth": 0,
              "ticks": ""
             }
            },
            "type": "scatter3d"
           }
          ],
          "scattercarpet": [
           {
            "marker": {
             "colorbar": {
              "outlinewidth": 0,
              "ticks": ""
             }
            },
            "type": "scattercarpet"
           }
          ],
          "scattergeo": [
           {
            "marker": {
             "colorbar": {
              "outlinewidth": 0,
              "ticks": ""
             }
            },
            "type": "scattergeo"
           }
          ],
          "scattergl": [
           {
            "marker": {
             "colorbar": {
              "outlinewidth": 0,
              "ticks": ""
             }
            },
            "type": "scattergl"
           }
          ],
          "scattermap": [
           {
            "marker": {
             "colorbar": {
              "outlinewidth": 0,
              "ticks": ""
             }
            },
            "type": "scattermap"
           }
          ],
          "scattermapbox": [
           {
            "marker": {
             "colorbar": {
              "outlinewidth": 0,
              "ticks": ""
             }
            },
            "type": "scattermapbox"
           }
          ],
          "scatterpolar": [
           {
            "marker": {
             "colorbar": {
              "outlinewidth": 0,
              "ticks": ""
             }
            },
            "type": "scatterpolar"
           }
          ],
          "scatterpolargl": [
           {
            "marker": {
             "colorbar": {
              "outlinewidth": 0,
              "ticks": ""
             }
            },
            "type": "scatterpolargl"
           }
          ],
          "scatterternary": [
           {
            "marker": {
             "colorbar": {
              "outlinewidth": 0,
              "ticks": ""
             }
            },
            "type": "scatterternary"
           }
          ],
          "surface": [
           {
            "colorbar": {
             "outlinewidth": 0,
             "ticks": ""
            },
            "colorscale": [
             [
              0,
              "#0d0887"
             ],
             [
              0.1111111111111111,
              "#46039f"
             ],
             [
              0.2222222222222222,
              "#7201a8"
             ],
             [
              0.3333333333333333,
              "#9c179e"
             ],
             [
              0.4444444444444444,
              "#bd3786"
             ],
             [
              0.5555555555555556,
              "#d8576b"
             ],
             [
              0.6666666666666666,
              "#ed7953"
             ],
             [
              0.7777777777777778,
              "#fb9f3a"
             ],
             [
              0.8888888888888888,
              "#fdca26"
             ],
             [
              1,
              "#f0f921"
             ]
            ],
            "type": "surface"
           }
          ],
          "table": [
           {
            "cells": {
             "fill": {
              "color": "#EBF0F8"
             },
             "line": {
              "color": "white"
             }
            },
            "header": {
             "fill": {
              "color": "#C8D4E3"
             },
             "line": {
              "color": "white"
             }
            },
            "type": "table"
           }
          ]
         },
         "layout": {
          "annotationdefaults": {
           "arrowcolor": "#2a3f5f",
           "arrowhead": 0,
           "arrowwidth": 1
          },
          "autotypenumbers": "strict",
          "coloraxis": {
           "colorbar": {
            "outlinewidth": 0,
            "ticks": ""
           }
          },
          "colorscale": {
           "diverging": [
            [
             0,
             "#8e0152"
            ],
            [
             0.1,
             "#c51b7d"
            ],
            [
             0.2,
             "#de77ae"
            ],
            [
             0.3,
             "#f1b6da"
            ],
            [
             0.4,
             "#fde0ef"
            ],
            [
             0.5,
             "#f7f7f7"
            ],
            [
             0.6,
             "#e6f5d0"
            ],
            [
             0.7,
             "#b8e186"
            ],
            [
             0.8,
             "#7fbc41"
            ],
            [
             0.9,
             "#4d9221"
            ],
            [
             1,
             "#276419"
            ]
           ],
           "sequential": [
            [
             0,
             "#0d0887"
            ],
            [
             0.1111111111111111,
             "#46039f"
            ],
            [
             0.2222222222222222,
             "#7201a8"
            ],
            [
             0.3333333333333333,
             "#9c179e"
            ],
            [
             0.4444444444444444,
             "#bd3786"
            ],
            [
             0.5555555555555556,
             "#d8576b"
            ],
            [
             0.6666666666666666,
             "#ed7953"
            ],
            [
             0.7777777777777778,
             "#fb9f3a"
            ],
            [
             0.8888888888888888,
             "#fdca26"
            ],
            [
             1,
             "#f0f921"
            ]
           ],
           "sequentialminus": [
            [
             0,
             "#0d0887"
            ],
            [
             0.1111111111111111,
             "#46039f"
            ],
            [
             0.2222222222222222,
             "#7201a8"
            ],
            [
             0.3333333333333333,
             "#9c179e"
            ],
            [
             0.4444444444444444,
             "#bd3786"
            ],
            [
             0.5555555555555556,
             "#d8576b"
            ],
            [
             0.6666666666666666,
             "#ed7953"
            ],
            [
             0.7777777777777778,
             "#fb9f3a"
            ],
            [
             0.8888888888888888,
             "#fdca26"
            ],
            [
             1,
             "#f0f921"
            ]
           ]
          },
          "colorway": [
           "#636efa",
           "#EF553B",
           "#00cc96",
           "#ab63fa",
           "#FFA15A",
           "#19d3f3",
           "#FF6692",
           "#B6E880",
           "#FF97FF",
           "#FECB52"
          ],
          "font": {
           "color": "#2a3f5f"
          },
          "geo": {
           "bgcolor": "white",
           "lakecolor": "white",
           "landcolor": "#E5ECF6",
           "showlakes": true,
           "showland": true,
           "subunitcolor": "white"
          },
          "hoverlabel": {
           "align": "left"
          },
          "hovermode": "closest",
          "mapbox": {
           "style": "light"
          },
          "paper_bgcolor": "white",
          "plot_bgcolor": "#E5ECF6",
          "polar": {
           "angularaxis": {
            "gridcolor": "white",
            "linecolor": "white",
            "ticks": ""
           },
           "bgcolor": "#E5ECF6",
           "radialaxis": {
            "gridcolor": "white",
            "linecolor": "white",
            "ticks": ""
           }
          },
          "scene": {
           "xaxis": {
            "backgroundcolor": "#E5ECF6",
            "gridcolor": "white",
            "gridwidth": 2,
            "linecolor": "white",
            "showbackground": true,
            "ticks": "",
            "zerolinecolor": "white"
           },
           "yaxis": {
            "backgroundcolor": "#E5ECF6",
            "gridcolor": "white",
            "gridwidth": 2,
            "linecolor": "white",
            "showbackground": true,
            "ticks": "",
            "zerolinecolor": "white"
           },
           "zaxis": {
            "backgroundcolor": "#E5ECF6",
            "gridcolor": "white",
            "gridwidth": 2,
            "linecolor": "white",
            "showbackground": true,
            "ticks": "",
            "zerolinecolor": "white"
           }
          },
          "shapedefaults": {
           "line": {
            "color": "#2a3f5f"
           }
          },
          "ternary": {
           "aaxis": {
            "gridcolor": "white",
            "linecolor": "white",
            "ticks": ""
           },
           "baxis": {
            "gridcolor": "white",
            "linecolor": "white",
            "ticks": ""
           },
           "bgcolor": "#E5ECF6",
           "caxis": {
            "gridcolor": "white",
            "linecolor": "white",
            "ticks": ""
           }
          },
          "title": {
           "x": 0.05
          },
          "xaxis": {
           "automargin": true,
           "gridcolor": "white",
           "linecolor": "white",
           "ticks": "",
           "title": {
            "standoff": 15
           },
           "zerolinecolor": "white",
           "zerolinewidth": 2
          },
          "yaxis": {
           "automargin": true,
           "gridcolor": "white",
           "linecolor": "white",
           "ticks": "",
           "title": {
            "standoff": 15
           },
           "zerolinecolor": "white",
           "zerolinewidth": 2
          }
         }
        },
        "title": {
         "text": "Category Wise Total Sales Distribution"
        }
       }
      }
     },
     "metadata": {},
     "output_type": "display_data"
    },
    {
     "data": {
      "text/plain": [
       "<Figure size 640x480 with 0 Axes>"
      ]
     },
     "metadata": {},
     "output_type": "display_data"
    }
   ],
   "source": [
    "fig = px.pie(category_name_wise_sales, values='total_sales', names='Category Name', title='Category Wise Total Sales Distribution')\n",
    "plt.savefig('Sales Distribution.png')\n",
    "fig.show()"
   ]
  },
  {
   "cell_type": "code",
   "execution_count": 54,
   "id": "c0b204d8",
   "metadata": {},
   "outputs": [],
   "source": [
    "final_data['Date'] = pd.to_datetime(final_data['Date'],errors='coerce')"
   ]
  },
  {
   "cell_type": "code",
   "execution_count": 55,
   "id": "3a953e6c",
   "metadata": {},
   "outputs": [],
   "source": [
    "final_data['Year'] = final_data['Date'].dt.year\n",
    "final_data['Month'] = final_data['Date'].dt.month_name()\n"
   ]
  },
  {
   "cell_type": "code",
   "execution_count": 56,
   "id": "0c476697",
   "metadata": {},
   "outputs": [
    {
     "data": {
      "text/html": [
       "<div>\n",
       "<style scoped>\n",
       "    .dataframe tbody tr th:only-of-type {\n",
       "        vertical-align: middle;\n",
       "    }\n",
       "\n",
       "    .dataframe tbody tr th {\n",
       "        vertical-align: top;\n",
       "    }\n",
       "\n",
       "    .dataframe thead th {\n",
       "        text-align: right;\n",
       "    }\n",
       "</style>\n",
       "<table border=\"1\" class=\"dataframe\">\n",
       "  <thead>\n",
       "    <tr style=\"text-align: right;\">\n",
       "      <th></th>\n",
       "      <th>Date</th>\n",
       "      <th>Time</th>\n",
       "      <th>Item Code</th>\n",
       "      <th>Quantity Sold (kilo)</th>\n",
       "      <th>Unit Selling Price (RMB/kg)</th>\n",
       "      <th>Sale or Return</th>\n",
       "      <th>Discount (Yes/No)</th>\n",
       "      <th>Wholesale Price (RMB/kg)</th>\n",
       "      <th>Item Name</th>\n",
       "      <th>Category Code</th>\n",
       "      <th>Category Name</th>\n",
       "      <th>Loss Rate (%)</th>\n",
       "      <th>total_sales</th>\n",
       "      <th>Year</th>\n",
       "      <th>Month</th>\n",
       "    </tr>\n",
       "  </thead>\n",
       "  <tbody>\n",
       "    <tr>\n",
       "      <th>0</th>\n",
       "      <td>2020-07-01</td>\n",
       "      <td>09:15:07.924</td>\n",
       "      <td>102900005117056</td>\n",
       "      <td>0.396</td>\n",
       "      <td>7.6</td>\n",
       "      <td>sale</td>\n",
       "      <td>No</td>\n",
       "      <td>4.32</td>\n",
       "      <td>Paopaojiao (Jingpin)</td>\n",
       "      <td>1011010504</td>\n",
       "      <td>Capsicum</td>\n",
       "      <td>7.08</td>\n",
       "      <td>3.0096</td>\n",
       "      <td>2020</td>\n",
       "      <td>July</td>\n",
       "    </tr>\n",
       "    <tr>\n",
       "      <th>1</th>\n",
       "      <td>2020-07-01</td>\n",
       "      <td>09:17:27.295</td>\n",
       "      <td>102900005115960</td>\n",
       "      <td>0.849</td>\n",
       "      <td>3.2</td>\n",
       "      <td>sale</td>\n",
       "      <td>No</td>\n",
       "      <td>2.10</td>\n",
       "      <td>Chinese Cabbage</td>\n",
       "      <td>1011010101</td>\n",
       "      <td>Flower/Leaf Vegetables</td>\n",
       "      <td>22.27</td>\n",
       "      <td>2.7168</td>\n",
       "      <td>2020</td>\n",
       "      <td>July</td>\n",
       "    </tr>\n",
       "    <tr>\n",
       "      <th>2</th>\n",
       "      <td>2020-07-01</td>\n",
       "      <td>09:17:33.905</td>\n",
       "      <td>102900005117056</td>\n",
       "      <td>0.409</td>\n",
       "      <td>7.6</td>\n",
       "      <td>sale</td>\n",
       "      <td>No</td>\n",
       "      <td>4.32</td>\n",
       "      <td>Paopaojiao (Jingpin)</td>\n",
       "      <td>1011010504</td>\n",
       "      <td>Capsicum</td>\n",
       "      <td>7.08</td>\n",
       "      <td>3.1084</td>\n",
       "      <td>2020</td>\n",
       "      <td>July</td>\n",
       "    </tr>\n",
       "    <tr>\n",
       "      <th>3</th>\n",
       "      <td>2020-07-01</td>\n",
       "      <td>09:19:45.450</td>\n",
       "      <td>102900005115823</td>\n",
       "      <td>0.421</td>\n",
       "      <td>10.0</td>\n",
       "      <td>sale</td>\n",
       "      <td>No</td>\n",
       "      <td>7.03</td>\n",
       "      <td>Shanghaiqing</td>\n",
       "      <td>1011010101</td>\n",
       "      <td>Flower/Leaf Vegetables</td>\n",
       "      <td>14.43</td>\n",
       "      <td>4.2100</td>\n",
       "      <td>2020</td>\n",
       "      <td>July</td>\n",
       "    </tr>\n",
       "    <tr>\n",
       "      <th>4</th>\n",
       "      <td>2020-07-01</td>\n",
       "      <td>09:20:23.686</td>\n",
       "      <td>102900005115908</td>\n",
       "      <td>0.539</td>\n",
       "      <td>8.0</td>\n",
       "      <td>sale</td>\n",
       "      <td>No</td>\n",
       "      <td>4.60</td>\n",
       "      <td>Caixin</td>\n",
       "      <td>1011010101</td>\n",
       "      <td>Flower/Leaf Vegetables</td>\n",
       "      <td>13.70</td>\n",
       "      <td>4.3120</td>\n",
       "      <td>2020</td>\n",
       "      <td>July</td>\n",
       "    </tr>\n",
       "    <tr>\n",
       "      <th>...</th>\n",
       "      <td>...</td>\n",
       "      <td>...</td>\n",
       "      <td>...</td>\n",
       "      <td>...</td>\n",
       "      <td>...</td>\n",
       "      <td>...</td>\n",
       "      <td>...</td>\n",
       "      <td>...</td>\n",
       "      <td>...</td>\n",
       "      <td>...</td>\n",
       "      <td>...</td>\n",
       "      <td>...</td>\n",
       "      <td>...</td>\n",
       "      <td>...</td>\n",
       "      <td>...</td>\n",
       "    </tr>\n",
       "    <tr>\n",
       "      <th>878498</th>\n",
       "      <td>2023-06-30</td>\n",
       "      <td>21:35:13.264</td>\n",
       "      <td>102900005115250</td>\n",
       "      <td>0.284</td>\n",
       "      <td>24.0</td>\n",
       "      <td>sale</td>\n",
       "      <td>No</td>\n",
       "      <td>15.60</td>\n",
       "      <td>Xixia Black Mushroom (1)</td>\n",
       "      <td>1011010801</td>\n",
       "      <td>Edible Mushroom</td>\n",
       "      <td>10.80</td>\n",
       "      <td>6.8160</td>\n",
       "      <td>2023</td>\n",
       "      <td>June</td>\n",
       "    </tr>\n",
       "    <tr>\n",
       "      <th>878499</th>\n",
       "      <td>2023-06-30</td>\n",
       "      <td>21:35:14.358</td>\n",
       "      <td>102900011022764</td>\n",
       "      <td>0.669</td>\n",
       "      <td>12.0</td>\n",
       "      <td>sale</td>\n",
       "      <td>No</td>\n",
       "      <td>7.00</td>\n",
       "      <td>Changxianqie</td>\n",
       "      <td>1011010501</td>\n",
       "      <td>Solanum</td>\n",
       "      <td>6.90</td>\n",
       "      <td>8.0280</td>\n",
       "      <td>2023</td>\n",
       "      <td>June</td>\n",
       "    </tr>\n",
       "    <tr>\n",
       "      <th>878500</th>\n",
       "      <td>2023-06-30</td>\n",
       "      <td>21:35:20.264</td>\n",
       "      <td>102900005115250</td>\n",
       "      <td>0.125</td>\n",
       "      <td>24.0</td>\n",
       "      <td>sale</td>\n",
       "      <td>No</td>\n",
       "      <td>15.60</td>\n",
       "      <td>Xixia Black Mushroom (1)</td>\n",
       "      <td>1011010801</td>\n",
       "      <td>Edible Mushroom</td>\n",
       "      <td>10.80</td>\n",
       "      <td>3.0000</td>\n",
       "      <td>2023</td>\n",
       "      <td>June</td>\n",
       "    </tr>\n",
       "    <tr>\n",
       "      <th>878501</th>\n",
       "      <td>2023-06-30</td>\n",
       "      <td>21:35:21.509</td>\n",
       "      <td>102900011016701</td>\n",
       "      <td>0.252</td>\n",
       "      <td>5.2</td>\n",
       "      <td>sale</td>\n",
       "      <td>No</td>\n",
       "      <td>3.63</td>\n",
       "      <td>Wuhu Green Pepper (1)</td>\n",
       "      <td>1011010504</td>\n",
       "      <td>Capsicum</td>\n",
       "      <td>5.70</td>\n",
       "      <td>1.3104</td>\n",
       "      <td>2023</td>\n",
       "      <td>June</td>\n",
       "    </tr>\n",
       "    <tr>\n",
       "      <th>878502</th>\n",
       "      <td>2023-06-30</td>\n",
       "      <td>21:40:48.248</td>\n",
       "      <td>102900011022764</td>\n",
       "      <td>0.803</td>\n",
       "      <td>12.0</td>\n",
       "      <td>sale</td>\n",
       "      <td>No</td>\n",
       "      <td>7.00</td>\n",
       "      <td>Changxianqie</td>\n",
       "      <td>1011010501</td>\n",
       "      <td>Solanum</td>\n",
       "      <td>6.90</td>\n",
       "      <td>9.6360</td>\n",
       "      <td>2023</td>\n",
       "      <td>June</td>\n",
       "    </tr>\n",
       "  </tbody>\n",
       "</table>\n",
       "<p>878503 rows × 15 columns</p>\n",
       "</div>"
      ],
      "text/plain": [
       "             Date          Time        Item Code  Quantity Sold (kilo)  \\\n",
       "0      2020-07-01  09:15:07.924  102900005117056                 0.396   \n",
       "1      2020-07-01  09:17:27.295  102900005115960                 0.849   \n",
       "2      2020-07-01  09:17:33.905  102900005117056                 0.409   \n",
       "3      2020-07-01  09:19:45.450  102900005115823                 0.421   \n",
       "4      2020-07-01  09:20:23.686  102900005115908                 0.539   \n",
       "...           ...           ...              ...                   ...   \n",
       "878498 2023-06-30  21:35:13.264  102900005115250                 0.284   \n",
       "878499 2023-06-30  21:35:14.358  102900011022764                 0.669   \n",
       "878500 2023-06-30  21:35:20.264  102900005115250                 0.125   \n",
       "878501 2023-06-30  21:35:21.509  102900011016701                 0.252   \n",
       "878502 2023-06-30  21:40:48.248  102900011022764                 0.803   \n",
       "\n",
       "        Unit Selling Price (RMB/kg) Sale or Return Discount (Yes/No)  \\\n",
       "0                               7.6           sale                No   \n",
       "1                               3.2           sale                No   \n",
       "2                               7.6           sale                No   \n",
       "3                              10.0           sale                No   \n",
       "4                               8.0           sale                No   \n",
       "...                             ...            ...               ...   \n",
       "878498                         24.0           sale                No   \n",
       "878499                         12.0           sale                No   \n",
       "878500                         24.0           sale                No   \n",
       "878501                          5.2           sale                No   \n",
       "878502                         12.0           sale                No   \n",
       "\n",
       "        Wholesale Price (RMB/kg)                 Item Name  Category Code  \\\n",
       "0                           4.32      Paopaojiao (Jingpin)     1011010504   \n",
       "1                           2.10           Chinese Cabbage     1011010101   \n",
       "2                           4.32      Paopaojiao (Jingpin)     1011010504   \n",
       "3                           7.03              Shanghaiqing     1011010101   \n",
       "4                           4.60                    Caixin     1011010101   \n",
       "...                          ...                       ...            ...   \n",
       "878498                     15.60  Xixia Black Mushroom (1)     1011010801   \n",
       "878499                      7.00              Changxianqie     1011010501   \n",
       "878500                     15.60  Xixia Black Mushroom (1)     1011010801   \n",
       "878501                      3.63     Wuhu Green Pepper (1)     1011010504   \n",
       "878502                      7.00              Changxianqie     1011010501   \n",
       "\n",
       "                 Category Name  Loss Rate (%)  total_sales  Year Month  \n",
       "0                     Capsicum           7.08       3.0096  2020  July  \n",
       "1       Flower/Leaf Vegetables          22.27       2.7168  2020  July  \n",
       "2                     Capsicum           7.08       3.1084  2020  July  \n",
       "3       Flower/Leaf Vegetables          14.43       4.2100  2020  July  \n",
       "4       Flower/Leaf Vegetables          13.70       4.3120  2020  July  \n",
       "...                        ...            ...          ...   ...   ...  \n",
       "878498         Edible Mushroom          10.80       6.8160  2023  June  \n",
       "878499                 Solanum           6.90       8.0280  2023  June  \n",
       "878500         Edible Mushroom          10.80       3.0000  2023  June  \n",
       "878501                Capsicum           5.70       1.3104  2023  June  \n",
       "878502                 Solanum           6.90       9.6360  2023  June  \n",
       "\n",
       "[878503 rows x 15 columns]"
      ]
     },
     "execution_count": 56,
     "metadata": {},
     "output_type": "execute_result"
    }
   ],
   "source": [
    "final_data"
   ]
  },
  {
   "cell_type": "code",
   "execution_count": 57,
   "id": "1a0b5457",
   "metadata": {},
   "outputs": [
    {
     "data": {
      "text/html": [
       "<div>\n",
       "<style scoped>\n",
       "    .dataframe tbody tr th:only-of-type {\n",
       "        vertical-align: middle;\n",
       "    }\n",
       "\n",
       "    .dataframe tbody tr th {\n",
       "        vertical-align: top;\n",
       "    }\n",
       "\n",
       "    .dataframe thead th {\n",
       "        text-align: right;\n",
       "    }\n",
       "</style>\n",
       "<table border=\"1\" class=\"dataframe\">\n",
       "  <thead>\n",
       "    <tr style=\"text-align: right;\">\n",
       "      <th></th>\n",
       "      <th>Date</th>\n",
       "      <th>total_sales</th>\n",
       "    </tr>\n",
       "  </thead>\n",
       "  <tbody>\n",
       "    <tr>\n",
       "      <th>0</th>\n",
       "      <td>2020</td>\n",
       "      <td>6.695293e+05</td>\n",
       "    </tr>\n",
       "    <tr>\n",
       "      <th>1</th>\n",
       "      <td>2021</td>\n",
       "      <td>1.100363e+06</td>\n",
       "    </tr>\n",
       "    <tr>\n",
       "      <th>2</th>\n",
       "      <td>2022</td>\n",
       "      <td>1.036772e+06</td>\n",
       "    </tr>\n",
       "    <tr>\n",
       "      <th>3</th>\n",
       "      <td>2023</td>\n",
       "      <td>5.631021e+05</td>\n",
       "    </tr>\n",
       "  </tbody>\n",
       "</table>\n",
       "</div>"
      ],
      "text/plain": [
       "   Date   total_sales\n",
       "0  2020  6.695293e+05\n",
       "1  2021  1.100363e+06\n",
       "2  2022  1.036772e+06\n",
       "3  2023  5.631021e+05"
      ]
     },
     "execution_count": 57,
     "metadata": {},
     "output_type": "execute_result"
    }
   ],
   "source": [
    "sales_trend = final_data.groupby(final_data['Date'].dt.year)['total_sales'].sum().reset_index()\n",
    "sales_trend"
   ]
  },
  {
   "cell_type": "code",
   "execution_count": 58,
   "id": "3a1ebc26",
   "metadata": {},
   "outputs": [
    {
     "data": {
      "image/png": "[encoded data removed]",
      "text/plain": [
       "<Figure size 1000x500 with 1 Axes>"
      ]
     },
     "metadata": {},
     "output_type": "display_data"
    }
   ],
   "source": [
    "plt.figure(figsize=(10, 5))\n",
    "plt.plot(sales_trend['Date'], sales_trend['total_sales'], marker='o',color='blue')\n",
    "plt.title('Yearly Total Sales Trend(MATPLOTLIB)')\n",
    "plt.xlabel('Date')\n",
    "plt.ylabel('Total Sales (RMB)')\n",
    "plt.grid(True)\n",
    "plt.savefig('Totalsales(Matplotib).png')\n",
    "plt.show()"
   ]
  },
  {
   "cell_type": "code",
   "execution_count": 59,
   "id": "0fc238c2",
   "metadata": {},
   "outputs": [
    {
     "data": {
      "image/png": "[encoded data removed]",
      "text/plain": [
       "<Figure size 1000x500 with 1 Axes>"
      ]
     },
     "metadata": {},
     "output_type": "display_data"
    }
   ],
   "source": [
    "plt.figure(figsize=(10, 5))\n",
    "sns.lineplot(data=sales_trend, x='Date', y='total_sales', marker='o',color='yellow')\n",
    "plt.title('Yearly Total Sales Trend(SEABORN)')\n",
    "plt.xlabel('Date')\n",
    "plt.ylabel('Total Sales (RMB)')\n",
    "plt.grid(True)\n",
    "plt.savefig('TotalSales(Seaborn).png')\n",
    "plt.show()"
   ]
  },
  {
   "cell_type": "code",
   "execution_count": 60,
   "id": "751edcf0",
   "metadata": {},
   "outputs": [
    {
     "data": {
      "application/vnd.plotly.v1+json": {
       "config": {
        "plotlyServerURL": "https://plot.ly"
       },
       "data": [
        {
         "hovertemplate": "Date=%{x}<br>total_sales=%{y}<extra></extra>",
         "legendgroup": "",
         "line": {
          "color": "#636efa",
          "dash": "solid"
         },
         "marker": {
          "symbol": "circle"
         },
         "mode": "lines+markers",
         "name": "",
         "orientation": "v",
         "showlegend": false,
         "type": "scatter",
         "x": {
          "bdata": "5AcAAOUHAADmBwAA5wcAAA==",
          "dtype": "i4"
         },
         "xaxis": "x",
         "y": {
          "bdata": "foy5i7JuJEGL/WWnSsowQYofY87Ioy9BEHo2SzwvIUE=",
          "dtype": "f8"
         },
         "yaxis": "y"
        }
       ],
       "layout": {
        "legend": {
         "tracegroupgap": 0
        },
        "template": {
         "data": {
          "bar": [
           {
            "error_x": {
             "color": "#2a3f5f"
            },
            "error_y": {
             "color": "#2a3f5f"
            },
            "marker": {
             "line": {
              "color": "#E5ECF6",
              "width": 0.5
             },
             "pattern": {
              "fillmode": "overlay",
              "size": 10,
              "solidity": 0.2
             }
            },
            "type": "bar"
           }
          ],
          "barpolar": [
           {
            "marker": {
             "line": {
              "color": "#E5ECF6",
              "width": 0.5
             },
             "pattern": {
              "fillmode": "overlay",
              "size": 10,
              "solidity": 0.2
             }
            },
            "type": "barpolar"
           }
          ],
          "carpet": [
           {
            "aaxis": {
             "endlinecolor": "#2a3f5f",
             "gridcolor": "white",
             "linecolor": "white",
             "minorgridcolor": "white",
             "startlinecolor": "#2a3f5f"
            },
            "baxis": {
             "endlinecolor": "#2a3f5f",
             "gridcolor": "white",
             "linecolor": "white",
             "minorgridcolor": "white",
             "startlinecolor": "#2a3f5f"
            },
            "type": "carpet"
           }
          ],
          "choropleth": [
           {
            "colorbar": {
             "outlinewidth": 0,
             "ticks": ""
            },
            "type": "choropleth"
           }
          ],
          "contour": [
           {
            "colorbar": {
             "outlinewidth": 0,
             "ticks": ""
            },
            "colorscale": [
             [
              0,
              "#0d0887"
             ],
             [
              0.1111111111111111,
              "#46039f"
             ],
             [
              0.2222222222222222,
              "#7201a8"
             ],
             [
              0.3333333333333333,
              "#9c179e"
             ],
             [
              0.4444444444444444,
              "#bd3786"
             ],
             [
              0.5555555555555556,
              "#d8576b"
             ],
             [
              0.6666666666666666,
              "#ed7953"
             ],
             [
              0.7777777777777778,
              "#fb9f3a"
             ],
             [
              0.8888888888888888,
              "#fdca26"
             ],
             [
              1,
              "#f0f921"
             ]
            ],
            "type": "contour"
           }
          ],
          "contourcarpet": [
           {
            "colorbar": {
             "outlinewidth": 0,
             "ticks": ""
            },
            "type": "contourcarpet"
           }
          ],
          "heatmap": [
           {
            "colorbar": {
             "outlinewidth": 0,
             "ticks": ""
            },
            "colorscale": [
             [
              0,
              "#0d0887"
             ],
             [
              0.1111111111111111,
              "#46039f"
             ],
             [
              0.2222222222222222,
              "#7201a8"
             ],
             [
              0.3333333333333333,
              "#9c179e"
             ],
             [
              0.4444444444444444,
              "#bd3786"
             ],
             [
              0.5555555555555556,
              "#d8576b"
             ],
             [
              0.6666666666666666,
              "#ed7953"
             ],
             [
              0.7777777777777778,
              "#fb9f3a"
             ],
             [
              0.8888888888888888,
              "#fdca26"
             ],
             [
              1,
              "#f0f921"
             ]
            ],
            "type": "heatmap"
           }
          ],
          "histogram": [
           {
            "marker": {
             "pattern": {
              "fillmode": "overlay",
              "size": 10,
              "solidity": 0.2
             }
            },
            "type": "histogram"
           }
          ],
          "histogram2d": [
           {
            "colorbar": {
             "outlinewidth": 0,
             "ticks": ""
            },
            "colorscale": [
             [
              0,
              "#0d0887"
             ],
             [
              0.1111111111111111,
              "#46039f"
             ],
             [
              0.2222222222222222,
              "#7201a8"
             ],
             [
              0.3333333333333333,
              "#9c179e"
             ],
             [
              0.4444444444444444,
              "#bd3786"
             ],
             [
              0.5555555555555556,
              "#d8576b"
             ],
             [
              0.6666666666666666,
              "#ed7953"
             ],
             [
              0.7777777777777778,
              "#fb9f3a"
             ],
             [
              0.8888888888888888,
              "#fdca26"
             ],
             [
              1,
              "#f0f921"
             ]
            ],
            "type": "histogram2d"
           }
          ],
          "histogram2dcontour": [
           {
            "colorbar": {
             "outlinewidth": 0,
             "ticks": ""
            },
            "colorscale": [
             [
              0,
              "#0d0887"
             ],
             [
              0.1111111111111111,
              "#46039f"
             ],
             [
              0.2222222222222222,
              "#7201a8"
             ],
             [
              0.3333333333333333,
              "#9c179e"
             ],
             [
              0.4444444444444444,
              "#bd3786"
             ],
             [
              0.5555555555555556,
              "#d8576b"
             ],
             [
              0.6666666666666666,
              "#ed7953"
             ],
             [
              0.7777777777777778,
              "#fb9f3a"
             ],
             [
              0.8888888888888888,
              "#fdca26"
             ],
             [
              1,
              "#f0f921"
             ]
            ],
            "type": "histogram2dcontour"
           }
          ],
          "mesh3d": [
           {
            "colorbar": {
             "outlinewidth": 0,
             "ticks": ""
            },
            "type": "mesh3d"
           }
          ],
          "parcoords": [
           {
            "line": {
             "colorbar": {
              "outlinewidth": 0,
              "ticks": ""
             }
            },
            "type": "parcoords"
           }
          ],
          "pie": [
           {
            "automargin": true,
            "type": "pie"
           }
          ],
          "scatter": [
           {
            "fillpattern": {
             "fillmode": "overlay",
             "size": 10,
             "solidity": 0.2
            },
            "type": "scatter"
           }
          ],
          "scatter3d": [
           {
            "line": {
             "colorbar": {
              "outlinewidth": 0,
              "ticks": ""
             }
            },
            "marker": {
             "colorbar": {
              "outlinewidth": 0,
              "ticks": ""
             }
            },
            "type": "scatter3d"
           }
          ],
          "scattercarpet": [
           {
            "marker": {
             "colorbar": {
              "outlinewidth": 0,
              "ticks": ""
             }
            },
            "type": "scattercarpet"
           }
          ],
          "scattergeo": [
           {
            "marker": {
             "colorbar": {
              "outlinewidth": 0,
              "ticks": ""
             }
            },
            "type": "scattergeo"
           }
          ],
          "scattergl": [
           {
            "marker": {
             "colorbar": {
              "outlinewidth": 0,
              "ticks": ""
             }
            },
            "type": "scattergl"
           }
          ],
          "scattermap": [
           {
            "marker": {
             "colorbar": {
              "outlinewidth": 0,
              "ticks": ""
             }
            },
            "type": "scattermap"
           }
          ],
          "scattermapbox": [
           {
            "marker": {
             "colorbar": {
              "outlinewidth": 0,
              "ticks": ""
             }
            },
            "type": "scattermapbox"
           }
          ],
          "scatterpolar": [
           {
            "marker": {
             "colorbar": {
              "outlinewidth": 0,
              "ticks": ""
             }
            },
            "type": "scatterpolar"
           }
          ],
          "scatterpolargl": [
           {
            "marker": {
             "colorbar": {
              "outlinewidth": 0,
              "ticks": ""
             }
            },
            "type": "scatterpolargl"
           }
          ],
          "scatterternary": [
           {
            "marker": {
             "colorbar": {
              "outlinewidth": 0,
              "ticks": ""
             }
            },
            "type": "scatterternary"
           }
          ],
          "surface": [
           {
            "colorbar": {
             "outlinewidth": 0,
             "ticks": ""
            },
            "colorscale": [
             [
              0,
              "#0d0887"
             ],
             [
              0.1111111111111111,
              "#46039f"
             ],
             [
              0.2222222222222222,
              "#7201a8"
             ],
             [
              0.3333333333333333,
              "#9c179e"
             ],
             [
              0.4444444444444444,
              "#bd3786"
             ],
             [
              0.5555555555555556,
              "#d8576b"
             ],
             [
              0.6666666666666666,
              "#ed7953"
             ],
             [
              0.7777777777777778,
              "#fb9f3a"
             ],
             [
              0.8888888888888888,
              "#fdca26"
             ],
             [
              1,
              "#f0f921"
             ]
            ],
            "type": "surface"
           }
          ],
          "table": [
           {
            "cells": {
             "fill": {
              "color": "#EBF0F8"
             },
             "line": {
              "color": "white"
             }
            },
            "header": {
             "fill": {
              "color": "#C8D4E3"
             },
             "line": {
              "color": "white"
             }
            },
            "type": "table"
           }
          ]
         },
         "layout": {
          "annotationdefaults": {
           "arrowcolor": "#2a3f5f",
           "arrowhead": 0,
           "arrowwidth": 1
          },
          "autotypenumbers": "strict",
          "coloraxis": {
           "colorbar": {
            "outlinewidth": 0,
            "ticks": ""
           }
          },
          "colorscale": {
           "diverging": [
            [
             0,
             "#8e0152"
            ],
            [
             0.1,
             "#c51b7d"
            ],
            [
             0.2,
             "#de77ae"
            ],
            [
             0.3,
             "#f1b6da"
            ],
            [
             0.4,
             "#fde0ef"
            ],
            [
             0.5,
             "#f7f7f7"
            ],
            [
             0.6,
             "#e6f5d0"
            ],
            [
             0.7,
             "#b8e186"
            ],
            [
             0.8,
             "#7fbc41"
            ],
            [
             0.9,
             "#4d9221"
            ],
            [
             1,
             "#276419"
            ]
           ],
           "sequential": [
            [
             0,
             "#0d0887"
            ],
            [
             0.1111111111111111,
             "#46039f"
            ],
            [
             0.2222222222222222,
             "#7201a8"
            ],
            [
             0.3333333333333333,
             "#9c179e"
            ],
            [
             0.4444444444444444,
             "#bd3786"
            ],
            [
             0.5555555555555556,
             "#d8576b"
            ],
            [
             0.6666666666666666,
             "#ed7953"
            ],
            [
             0.7777777777777778,
             "#fb9f3a"
            ],
            [
             0.8888888888888888,
             "#fdca26"
            ],
            [
             1,
             "#f0f921"
            ]
           ],
           "sequentialminus": [
            [
             0,
             "#0d0887"
            ],
            [
             0.1111111111111111,
             "#46039f"
            ],
            [
             0.2222222222222222,
             "#7201a8"
            ],
            [
             0.3333333333333333,
             "#9c179e"
            ],
            [
             0.4444444444444444,
             "#bd3786"
            ],
            [
             0.5555555555555556,
             "#d8576b"
            ],
            [
             0.6666666666666666,
             "#ed7953"
            ],
            [
             0.7777777777777778,
             "#fb9f3a"
            ],
            [
             0.8888888888888888,
             "#fdca26"
            ],
            [
             1,
             "#f0f921"
            ]
           ]
          },
          "colorway": [
           "#636efa",
           "#EF553B",
           "#00cc96",
           "#ab63fa",
           "#FFA15A",
           "#19d3f3",
           "#FF6692",
           "#B6E880",
           "#FF97FF",
           "#FECB52"
          ],
          "font": {
           "color": "#2a3f5f"
          },
          "geo": {
           "bgcolor": "white",
           "lakecolor": "white",
           "landcolor": "#E5ECF6",
           "showlakes": true,
           "showland": true,
           "subunitcolor": "white"
          },
          "hoverlabel": {
           "align": "left"
          },
          "hovermode": "closest",
          "mapbox": {
           "style": "light"
          },
          "paper_bgcolor": "white",
          "plot_bgcolor": "#E5ECF6",
          "polar": {
           "angularaxis": {
            "gridcolor": "white",
            "linecolor": "white",
            "ticks": ""
           },
           "bgcolor": "#E5ECF6",
           "radialaxis": {
            "gridcolor": "white",
            "linecolor": "white",
            "ticks": ""
           }
          },
          "scene": {
           "xaxis": {
            "backgroundcolor": "#E5ECF6",
            "gridcolor": "white",
            "gridwidth": 2,
            "linecolor": "white",
            "showbackground": true,
            "ticks": "",
            "zerolinecolor": "white"
           },
           "yaxis": {
            "backgroundcolor": "#E5ECF6",
            "gridcolor": "white",
            "gridwidth": 2,
            "linecolor": "white",
            "showbackground": true,
            "ticks": "",
            "zerolinecolor": "white"
           },
           "zaxis": {
            "backgroundcolor": "#E5ECF6",
            "gridcolor": "white",
            "gridwidth": 2,
            "linecolor": "white",
            "showbackground": true,
            "ticks": "",
            "zerolinecolor": "white"
           }
          },
          "shapedefaults": {
           "line": {
            "color": "#2a3f5f"
           }
          },
          "ternary": {
           "aaxis": {
            "gridcolor": "white",
            "linecolor": "white",
            "ticks": ""
           },
           "baxis": {
            "gridcolor": "white",
            "linecolor": "white",
            "ticks": ""
           },
           "bgcolor": "#E5ECF6",
           "caxis": {
            "gridcolor": "white",
            "linecolor": "white",
            "ticks": ""
           }
          },
          "title": {
           "x": 0.05
          },
          "xaxis": {
           "automargin": true,
           "gridcolor": "white",
           "linecolor": "white",
           "ticks": "",
           "title": {
            "standoff": 15
           },
           "zerolinecolor": "white",
           "zerolinewidth": 2
          },
          "yaxis": {
           "automargin": true,
           "gridcolor": "white",
           "linecolor": "white",
           "ticks": "",
           "title": {
            "standoff": 15
           },
           "zerolinecolor": "white",
           "zerolinewidth": 2
          }
         }
        },
        "title": {
         "text": "Yearly Total Sales Trend (PLOTLY Express)"
        },
        "xaxis": {
         "anchor": "y",
         "domain": [
          0,
          1
         ],
         "title": {
          "text": "Date"
         }
        },
        "yaxis": {
         "anchor": "x",
         "domain": [
          0,
          1
         ],
         "title": {
          "text": "Total Sales (RMB)"
         }
        }
       }
      }
     },
     "metadata": {},
     "output_type": "display_data"
    },
    {
     "data": {
      "text/plain": [
       "<Figure size 640x480 with 0 Axes>"
      ]
     },
     "metadata": {},
     "output_type": "display_data"
    }
   ],
   "source": [
    "fig_line = px.line(sales_trend, x='Date', y='total_sales', title='Yearly Total Sales Trend (PLOTLY Express)', markers=True)\n",
    "fig_line.update_layout(xaxis_title='Date', yaxis_title='Total Sales (RMB)')\n",
    "plt.savefig('Total sales(PlotlyExpress).png')\n",
    "fig_line.show()"
   ]
  },
  {
   "cell_type": "code",
   "execution_count": 61,
   "id": "b1b93631",
   "metadata": {},
   "outputs": [
    {
     "data": {
      "image/png": "[encoded data removed]",
      "text/plain": [
       "<Figure size 1000x600 with 1 Axes>"
      ]
     },
     "metadata": {},
     "output_type": "display_data"
    }
   ],
   "source": [
    "plt.figure(figsize=(10, 6))\n",
    "plt.scatter(final_data['Quantity Sold (kilo)'], final_data['Unit Selling Price (RMB/kg)'], alpha=0.8)\n",
    "plt.title('Scatter Plot of Quantity Sold vs Unit Selling Price')\n",
    "plt.xlabel('Quantity Sold (kilo)')\n",
    "plt.ylabel('Unit Selling Price (RMB/kg)')\n",
    "plt.savefig('ScatterPlot(QS,USP).png')\n",
    "plt.show()"
   ]
  },
  {
   "cell_type": "code",
   "execution_count": null,
   "id": "c2597e07",
   "metadata": {},
   "outputs": [],
   "source": [
    "sns.set(style='whitegrid')\n",
    "plt.figure(figsize=(10, 6))\n",
    "sns.scatterplot(x='Quantity Sold (kilo)', y='Unit Selling Price (RMB/kg)', data = final_data, alpha=0.3)\n",
    "plt.title('Scatter Plot of Quantity Sold vs Unit Selling Price (SEABORN)')\n",
    "plt.savefig('Scatterplot(seaborn).png')\n",
    "plt.show()"
   ]
  },
  {
   "cell_type": "code",
   "execution_count": null,
   "id": "c5e58c83",
   "metadata": {},
   "outputs": [],
   "source": [
    "fig = px.scatter(final_data, x='Quantity Sold (kilo)', y='Unit Selling Price (RMB/kg)', title='Scatter Plot of Quantity Sold vs Unit Selling Price (PLOTLY Express)')\n",
    "fig.show()"
   ]
  },
  {
   "cell_type": "code",
   "execution_count": null,
   "id": "62dff0fd",
   "metadata": {},
   "outputs": [],
   "source": [
    "agg_data = final_data.groupby('Item Name').agg({'Quantity Sold (kilo)': 'sum','Unit Selling Price (RMB/kg)': 'mean'}).reset_index()\n",
    "\n",
    "plt.figure(figsize=(10, 7))\n",
    "\n",
    "sns.scatterplot(x='Quantity Sold (kilo)', y='Unit Selling Price (RMB/kg)', data=agg_data, alpha=0.5,hue='Item Name', palette='dark',legend=False)\n",
    "plt.title('Scatter Plot of Quantity Sold vs Unit Selling Price (Aggregated Data)')\n",
    "plt.show()"
   ]
  },
  {
   "cell_type": "code",
   "execution_count": null,
   "id": "0a1628fd",
   "metadata": {},
   "outputs": [],
   "source": [
    "agg_data =final_data.groupby('Item Name').agg({'Quantity Sold (kilo)': 'sum','Unit Selling Price (RMB/kg)': 'mean'}).reset_index()\n",
    "\n",
    "fig = px.scatter(agg_data, x='Quantity Sold (kilo)', y='Unit Selling Price (RMB/kg)', title='Plotly scatter plot with aggregation : Quantity sold vs. average unit selling price', color='Item Name')\n",
    "\n",
    "fig.show()"
   ]
  },
  {
   "cell_type": "code",
   "execution_count": null,
   "id": "690c05f2",
   "metadata": {},
   "outputs": [],
   "source": [
    "final_data.head(2)"
   ]
  },
  {
   "cell_type": "code",
   "execution_count": null,
   "id": "ff965491",
   "metadata": {},
   "outputs": [],
   "source": [
    "agg_data = final_data.groupby('Category Name').agg({'Quantity Sold (kilo)': 'sum', 'Unit Selling Price (RMB/kg)': 'mean', 'total_sales': 'sum'}).reset_index()\n"
   ]
  },
  {
   "cell_type": "code",
   "execution_count": null,
   "id": "83872546",
   "metadata": {},
   "outputs": [],
   "source": [
    "fig = px.scatter_3d(agg_data, x='Quantity Sold (kilo)', y='Unit Selling Price (RMB/kg)', z='total_sales',title= 'Plotly 3d scatter plot : quantity sold vs. average unit selling price vs. total sales', color='Category Name',symbol='Category Name', color_discrete_sequence=px.colors.qualitative.Set1)\n",
    "\n",
    "fig.show()"
   ]
  },
  {
   "cell_type": "code",
   "execution_count": null,
   "id": "e949492c",
   "metadata": {},
   "outputs": [],
   "source": [
    "agg_data = final_data.groupby('Item Name').agg({'Quantity Sold (kilo)': 'sum', 'Unit Selling Price (RMB/kg)': 'mean', 'total_sales': 'sum'}).reset_index()\n"
   ]
  },
  {
   "cell_type": "code",
   "execution_count": null,
   "id": "a521b6ba",
   "metadata": {},
   "outputs": [],
   "source": [
    "fig = px.scatter_3d(agg_data, x='Quantity Sold (kilo)', y='Unit Selling Price (RMB/kg)', z='total_sales',title= 'Plotly 3d scatter plot : quantity sold vs. average unit selling price vs. total sales', color='Item Name',symbol='Item Name', color_discrete_sequence=px.colors.qualitative.Set1)\n",
    "\n",
    "fig.show()"
   ]
  },
  {
   "cell_type": "code",
   "execution_count": null,
   "id": "c95835ef",
   "metadata": {},
   "outputs": [],
   "source": [
    "correlation_matrix = final_data.select_dtypes(include=['number']).corr()\n",
    "correlation_matrix"
   ]
  },
  {
   "cell_type": "code",
   "execution_count": null,
   "id": "a6cc6e80",
   "metadata": {},
   "outputs": [],
   "source": [
    "final_data.dtypes"
   ]
  },
  {
   "cell_type": "code",
   "execution_count": null,
   "id": "355031f0",
   "metadata": {},
   "outputs": [],
   "source": [
    "plt.figure(figsize=(9, 8))\n",
    "sns.heatmap(correlation_matrix, annot=True, cmap='viridis', fmt='.3f')\n",
    "plt.title('Correlation Heatmap of final_data')\n",
    "plt.show()"
   ]
  },
  {
   "cell_type": "code",
   "execution_count": null,
   "id": "bd4dca42",
   "metadata": {},
   "outputs": [],
   "source": [
    "final_data[[\"Quantity Sold (kilo)\", \"Unit Selling Price (RMB/kg)\", \"Wholesale Price (RMB/kg)\"]].corr()"
   ]
  }
 ],
 "metadata": {
  "kernelspec": {
   "display_name": "Python 3",
   "language": "python",
   "name": "python3"
  },
  "language_info": {
   "codemirror_mode": {
    "name": "ipython",
    "version": 3
   },
   "file_extension": ".py",
   "mimetype": "text/x-python",
   "name": "python",
   "nbconvert_exporter": "python",
   "pygments_lexer": "ipython3",
   "version": "3.13.2"
  }
 },
 "nbformat": 4,
 "nbformat_minor": 5
}
